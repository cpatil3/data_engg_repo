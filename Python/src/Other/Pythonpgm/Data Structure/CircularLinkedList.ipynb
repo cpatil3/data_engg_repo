{
 "cells": [
  {
   "cell_type": "code",
   "execution_count": 4,
   "id": "45f3ed3f-0c2b-408a-9c53-0a16efd43004",
   "metadata": {},
   "outputs": [],
   "source": [
    "class Node:\n",
    "    def __init__(self,data):\n",
    "        self.data = data\n",
    "        self.next = None"
   ]
  },
  {
   "cell_type": "code",
   "execution_count": 159,
   "id": "c1a739c4-de80-4aa7-b97d-3add9c6b26b7",
   "metadata": {},
   "outputs": [],
   "source": [
    "class CircularLinkedList:\n",
    "    def __init__(self):\n",
    "        self.head = None\n",
    "        \n",
    "    def prepend(self, data):\n",
    "        new_node = Node(data)\n",
    "        new_node.next = self.head\n",
    "        cur = self.head\n",
    "        \n",
    "        if not self.head:\n",
    "            new_node.next = new_node\n",
    "        else:\n",
    "            while cur.next != self.head:\n",
    "                cur = cur.next\n",
    "            cur.next = new_node\n",
    "        \n",
    "        self.head = new_node\n",
    "    \n",
    "    def append(self, data):\n",
    "        new_node = Node(data)\n",
    "        \n",
    "        if not self.head:\n",
    "            self.head = new_node\n",
    "            self.head.next = self.head\n",
    "        else:\n",
    "            cur = self.head\n",
    "            while cur.next != self.head:\n",
    "                cur = cur.next\n",
    "            \n",
    "            cur.next = new_node\n",
    "            new_node.next = self.head\n",
    "    \n",
    "    def print_list(self):\n",
    "        cur = self.head\n",
    "        while cur:\n",
    "            print (cur.data)\n",
    "            cur = cur.next\n",
    "            if cur == self.head:\n",
    "                break\n",
    "    \n",
    "    def remove(self, key):\n",
    "        if self.head.data == key:\n",
    "            cur = self.head\n",
    "            while cur.next != self.head:\n",
    "                cur = cur.next\n",
    "            \n",
    "            cur.next = self.head.next\n",
    "            self.head = self.head.next\n",
    "        else:\n",
    "            cur = self.head\n",
    "            while cur.data != key:\n",
    "                prev = cur\n",
    "                cur = cur.next\n",
    "                \n",
    "            prev.next = cur.next        \n",
    "    \n",
    "    def remove_node(self, node):\n",
    "        if self.head == node:\n",
    "            cur = self.head\n",
    "            while cur.next != self.head:\n",
    "                cur = cur.next\n",
    "            cur.next = self.head.next\n",
    "            self.head = self.head.next\n",
    "        \n",
    "        else:\n",
    "            cur = self.head\n",
    "            while cur != node:\n",
    "                prev = cur\n",
    "                cur = cur.next\n",
    "            \n",
    "            prev.next = cur.next\n",
    "\n",
    "    \n",
    "    def __len__(self):\n",
    "        cur = self.head\n",
    "        cnt = 0\n",
    "        while cur:\n",
    "            cnt += 1\n",
    "            cur = cur.next\n",
    "            if cur == self.head:\n",
    "                break\n",
    "        return cnt\n",
    "    \n",
    "    def split_clist(self):\n",
    "        cur = self.head\n",
    "        prev = None\n",
    "        size = len(self)\n",
    "        \n",
    "        if size == 0:\n",
    "            return None\n",
    "        if size == 1:\n",
    "            return self.head\n",
    "        \n",
    "        mid = size//2\n",
    "        count = 0\n",
    "        \n",
    "        while count < mid:\n",
    "            count += 1\n",
    "            prev = cur\n",
    "            cur = cur.next\n",
    "        \n",
    "        #-- a b ++ c d\n",
    "        prev.next = self.head\n",
    "        \n",
    "        split_cl = CircularLinkedList()\n",
    "        \n",
    "        while cur != self.head:         \n",
    "            split_cl.append(cur.data)\n",
    "            cur = cur.next\n",
    "        \n",
    "        self.print_list()\n",
    "        print(\"\\n\")\n",
    "        \n",
    "        split_cl.print_list()\n",
    "\n",
    "    def josephus_circle(self, step):\n",
    "        cur = self.head\n",
    "        while len(self) > 1:\n",
    "            count = 1\n",
    "            \n",
    "            while count < step:\n",
    "                cur = cur.next\n",
    "                count += 1\n",
    "            \n",
    "            print(\"removing node: \" + str(cur.data))\n",
    "            self.remove_node(cur)\n",
    "            cur = cur.next\n",
    "            "
   ]
  },
  {
   "cell_type": "code",
   "execution_count": 160,
   "id": "cc172076-eae2-4f7b-bc4b-89f6ff191505",
   "metadata": {},
   "outputs": [],
   "source": [
    "clist = CircularLinkedList()"
   ]
  },
  {
   "cell_type": "code",
   "execution_count": 161,
   "id": "afcaaacc-c12a-428e-8c7c-c03d03236187",
   "metadata": {},
   "outputs": [],
   "source": [
    "clist.append(\"A\")\n",
    "clist.append(\"B\")\n",
    "clist.append(\"C\")\n",
    "clist.append(\"D\")\n",
    "clist.append(\"E\")"
   ]
  },
  {
   "cell_type": "code",
   "execution_count": 163,
   "id": "0f6f120f-c827-4214-be02-182e8d5a6974",
   "metadata": {},
   "outputs": [
    {
     "name": "stdout",
     "output_type": "stream",
     "text": [
      "C\n"
     ]
    }
   ],
   "source": [
    "clist.print_list()"
   ]
  },
  {
   "cell_type": "code",
   "execution_count": 110,
   "id": "a65afe70-e0ca-4ec4-ac83-bbc6594d8da3",
   "metadata": {},
   "outputs": [],
   "source": [
    "clist.prepend(\"E\")"
   ]
  },
  {
   "cell_type": "code",
   "execution_count": 21,
   "id": "4b371d69-db95-4d94-b063-2b15c696dbd2",
   "metadata": {},
   "outputs": [],
   "source": [
    "clist.remove(\"B\")"
   ]
  },
  {
   "cell_type": "code",
   "execution_count": 70,
   "id": "55798d8a-7632-424b-a495-9191f6020976",
   "metadata": {},
   "outputs": [
    {
     "data": {
      "text/plain": [
       "4"
      ]
     },
     "execution_count": 70,
     "metadata": {},
     "output_type": "execute_result"
    }
   ],
   "source": [
    "len(clist)"
   ]
  },
  {
   "cell_type": "code",
   "execution_count": 96,
   "id": "92ee9108-9fed-4f59-89c0-68f21dcfe88d",
   "metadata": {},
   "outputs": [
    {
     "name": "stdout",
     "output_type": "stream",
     "text": [
      "A\n",
      "B\n",
      "\n",
      "\n",
      "C\n",
      "D\n",
      "E\n"
     ]
    }
   ],
   "source": [
    "clist.split_clist()"
   ]
  },
  {
   "cell_type": "code",
   "execution_count": 124,
   "id": "24c53214-6093-4e6e-98c6-061749647755",
   "metadata": {},
   "outputs": [],
   "source": [
    "clist.remove_node(clist.head.next)"
   ]
  },
  {
   "cell_type": "code",
   "execution_count": 162,
   "id": "fa0d6881-0dc4-440d-86d6-64f5e42b70b9",
   "metadata": {},
   "outputs": [
    {
     "name": "stdout",
     "output_type": "stream",
     "text": [
      "removing node: B\n",
      "removing node: D\n",
      "removing node: A\n",
      "removing node: E\n"
     ]
    }
   ],
   "source": [
    "clist.josephus_circle(2)"
   ]
  },
  {
   "cell_type": "code",
   "execution_count": 149,
   "id": "c898e507-2a25-4cdf-943e-053a0935797b",
   "metadata": {},
   "outputs": [],
   "source": [
    "jk = 1"
   ]
  },
  {
   "cell_type": "code",
   "execution_count": 152,
   "id": "b1ab3622-6b45-4817-8600-ee918b317437",
   "metadata": {},
   "outputs": [
    {
     "name": "stdout",
     "output_type": "stream",
     "text": [
      "removing node1\n"
     ]
    }
   ],
   "source": [
    "print ('removing node' + str(jk))"
   ]
  },
  {
   "cell_type": "code",
   "execution_count": null,
   "id": "9acc34f6-8d5e-4b37-aae1-5f2584fe2f58",
   "metadata": {},
   "outputs": [],
   "source": []
  }
 ],
 "metadata": {
  "kernelspec": {
   "display_name": "Python 3 (ipykernel)",
   "language": "python",
   "name": "python3"
  },
  "language_info": {
   "codemirror_mode": {
    "name": "ipython",
    "version": 3
   },
   "file_extension": ".py",
   "mimetype": "text/x-python",
   "name": "python",
   "nbconvert_exporter": "python",
   "pygments_lexer": "ipython3",
   "version": "3.9.12"
  }
 },
 "nbformat": 4,
 "nbformat_minor": 5
}
