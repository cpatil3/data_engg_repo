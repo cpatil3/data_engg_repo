{
 "cells": [
  {
   "cell_type": "markdown",
   "id": "64f0233e-5dcb-476b-9dad-eb96ad44669b",
   "metadata": {},
   "source": [
    "**NUMERIC OPERATIONS**"
   ]
  },
  {
   "cell_type": "code",
   "execution_count": null,
   "id": "de742a28-4d38-4d89-8202-abb859726127",
   "metadata": {},
   "outputs": [],
   "source": []
  },
  {
   "cell_type": "code",
   "execution_count": 2,
   "id": "a0caaec1-190a-49c2-83d4-7315ba1b495e",
   "metadata": {},
   "outputs": [
    {
     "name": "stdout",
     "output_type": "stream",
     "text": [
      "0\n",
      "1\n"
     ]
    }
   ],
   "source": [
    "#Even number %2 is 0 and Odd number%2 is 1\n",
    "x=10\n",
    "print(x%2)\n",
    "y=11\n",
    "print(y%2)"
   ]
  },
  {
   "cell_type": "code",
   "execution_count": 3,
   "id": "d2b92d77-bd9c-45a5-a071-52e96970a951",
   "metadata": {},
   "outputs": [
    {
     "name": "stdout",
     "output_type": "stream",
     "text": [
      "7\n"
     ]
    }
   ],
   "source": [
    "#Below is called floor division(integer division)\n",
    "print(15//2)"
   ]
  },
  {
   "cell_type": "markdown",
   "id": "b7ac664f-962b-41bd-805f-d400e0e0e9cf",
   "metadata": {},
   "source": [
    "**STRING MANIPULATIONS**"
   ]
  },
  {
   "cell_type": "code",
   "execution_count": 5,
   "id": "1b6bde46-b37b-45f2-aa5d-2f903c797008",
   "metadata": {},
   "outputs": [],
   "source": [
    "#Use 3 quotes for any long text in variable\n",
    "multiline = \"\"\"\n",
    "This is a paragraph.\n",
    "Its written to test the multiline text under a variable.\n",
    "..\n",
    "\"\"\""
   ]
  },
  {
   "cell_type": "code",
   "execution_count": 6,
   "id": "103ddd28-9c0f-43b8-80c4-064c1b445aae",
   "metadata": {},
   "outputs": [
    {
     "name": "stdout",
     "output_type": "stream",
     "text": [
      "\n",
      "This is a paragraph.\n",
      "Its written to test the multiline text under a variable.\n",
      "..\n",
      "\n"
     ]
    }
   ],
   "source": [
    "print(multiline)"
   ]
  },
  {
   "cell_type": "code",
   "execution_count": 8,
   "id": "c91ba1cc-7e54-48f5-a769-fcf398b24042",
   "metadata": {},
   "outputs": [],
   "source": [
    "firstname = 'Chetan'\n",
    "lastname = 'Patil'"
   ]
  },
  {
   "cell_type": "code",
   "execution_count": 10,
   "id": "f1db3fe6-18bc-421b-8a46-710973e7cdf6",
   "metadata": {},
   "outputs": [
    {
     "name": "stdout",
     "output_type": "stream",
     "text": [
      "Chetan Patil\n"
     ]
    }
   ],
   "source": [
    "name = firstname + ' ' + lastname\n",
    "print(name)"
   ]
  },
  {
   "cell_type": "code",
   "execution_count": 12,
   "id": "db910b52-f87c-4b5a-ada2-b56253c4026e",
   "metadata": {},
   "outputs": [
    {
     "name": "stdout",
     "output_type": "stream",
     "text": [
      "My name is: Chetan Patil Age: 34\n"
     ]
    }
   ],
   "source": [
    "#to print a numeric variable along with text first convert it to string.\n",
    "age = 34\n",
    "print('My name is: ' + name + ' Age: ' + str(age))"
   ]
  },
  {
   "cell_type": "code",
   "execution_count": 14,
   "id": "f660947f-6c0f-4318-b0a7-a634593894e5",
   "metadata": {},
   "outputs": [
    {
     "name": "stdout",
     "output_type": "stream",
     "text": [
      "My name is: Chetan Patil and Age: 34\n"
     ]
    }
   ],
   "source": [
    "#Another way to print is f statement\n",
    "println = f'My name is: {name} and Age: {age}'\n",
    "print(println)"
   ]
  },
  {
   "cell_type": "code",
   "execution_count": 17,
   "id": "2651e447-c639-41b2-9a8a-a1a13104e47c",
   "metadata": {},
   "outputs": [
    {
     "name": "stdout",
     "output_type": "stream",
     "text": [
      "My name is: Chetan Patil and Age: 35\n"
     ]
    }
   ],
   "source": [
    "# If f statement assinge to a variable and if you changed the parameters passed to it, new values wont get replaced. Solution is to user format\n",
    "age = 35\n",
    "println = 'My name is: {} and Age: {}'\n",
    "print(println.format(name, age))"
   ]
  },
  {
   "cell_type": "code",
   "execution_count": 18,
   "id": "375fb66e-edae-4fc8-a7f6-17d5e0b141c8",
   "metadata": {},
   "outputs": [
    {
     "name": "stdout",
     "output_type": "stream",
     "text": [
      "3333\n"
     ]
    }
   ],
   "source": [
    "#If varable is numeric value stored as a string type\n",
    "numstr = '33'\n",
    "print(numstr*2)"
   ]
  },
  {
   "cell_type": "markdown",
   "id": "a4cc0d24-a959-4061-a359-ea1b7dc23fc9",
   "metadata": {},
   "source": [
    "**Boolean operations**"
   ]
  },
  {
   "cell_type": "code",
   "execution_count": 19,
   "id": "ffcf490d-a510-4ac7-a27d-5a8f7f006834",
   "metadata": {},
   "outputs": [
    {
     "name": "stdout",
     "output_type": "stream",
     "text": [
      "18\n"
     ]
    }
   ],
   "source": [
    "x = True\n",
    "cmp = x and 18\n",
    "print(cmp)"
   ]
  },
  {
   "cell_type": "code",
   "execution_count": 22,
   "id": "d8b3855a-8c0e-4731-93cd-dd929cc490f4",
   "metadata": {},
   "outputs": [
    {
     "name": "stdout",
     "output_type": "stream",
     "text": [
      "True\n"
     ]
    }
   ],
   "source": [
    "x = True\n",
    "cmp = x or 5\n",
    "print(cmp)"
   ]
  },
  {
   "cell_type": "code",
   "execution_count": 23,
   "id": "8036c876-6244-478b-9a2b-60c785b72c4f",
   "metadata": {},
   "outputs": [
    {
     "name": "stdout",
     "output_type": "stream",
     "text": [
      "19\n"
     ]
    }
   ],
   "source": [
    "print(18 and 19)"
   ]
  },
  {
   "cell_type": "code",
   "execution_count": 2,
   "id": "47eef276-4b4a-4365-a680-b211b9123e51",
   "metadata": {},
   "outputs": [
    {
     "name": "stdin",
     "output_type": "stream",
     "text": [
      "user name Chetan\n"
     ]
    }
   ],
   "source": [
    "user = input(f'user name')"
   ]
  },
  {
   "cell_type": "code",
   "execution_count": 3,
   "id": "989526be-e662-43f6-a511-f8e56ece83a9",
   "metadata": {},
   "outputs": [
    {
     "data": {
      "text/plain": [
       "'Chetan'"
      ]
     },
     "execution_count": 3,
     "metadata": {},
     "output_type": "execute_result"
    }
   ],
   "source": [
    "user"
   ]
  },
  {
   "cell_type": "code",
   "execution_count": 5,
   "id": "fa2b23c3-c722-45d6-8b48-d47e137850a1",
   "metadata": {},
   "outputs": [
    {
     "name": "stdout",
     "output_type": "stream",
     "text": [
      "My Friends are: Dan, Harshita, Chetan\n"
     ]
    }
   ],
   "source": [
    "#USE OF JOIN\n",
    "friends = {\"Harshita\", \"Chetan\", \"Dan\"}\n",
    "formatted = ', '.join(friends)\n",
    "print('My Friends are: {}'.format(formatted))"
   ]
  },
  {
   "cell_type": "markdown",
   "id": "621594d6-83b9-4a70-aa38-1f4d1d38b232",
   "metadata": {},
   "source": [
    "**Destructuring strings**"
   ]
  },
  {
   "cell_type": "code",
   "execution_count": null,
   "id": "76be9f63-c8ae-4038-81a3-9b043fd2ee80",
   "metadata": {},
   "outputs": [],
   "source": [
    "friends = [(\"Harshita\",32), (\"Chetan\",35), (\"Dan\",40)]"
   ]
  },
  {
   "cell_type": "code",
   "execution_count": 12,
   "id": "892c79e9-1c74-4d09-b5e9-b8c6a6ab55c5",
   "metadata": {},
   "outputs": [
    {
     "ename": "ValueError",
     "evalue": "too many values to unpack (expected 2)",
     "output_type": "error",
     "traceback": [
      "\u001b[1;31m---------------------------------------------------------------------------\u001b[0m",
      "\u001b[1;31mValueError\u001b[0m                                Traceback (most recent call last)",
      "Input \u001b[1;32mIn [12]\u001b[0m, in \u001b[0;36m<cell line: 1>\u001b[1;34m()\u001b[0m\n\u001b[1;32m----> 1\u001b[0m \u001b[38;5;28;01mfor\u001b[39;00m name,age \u001b[38;5;129;01min\u001b[39;00m friends:\n\u001b[0;32m      2\u001b[0m     \u001b[38;5;28mprint\u001b[39m(\u001b[38;5;124mf\u001b[39m\u001b[38;5;124m\"\u001b[39m\u001b[38;5;124mMy friend is \u001b[39m\u001b[38;5;132;01m{\u001b[39;00mname\u001b[38;5;132;01m}\u001b[39;00m\u001b[38;5;124m and age is \u001b[39m\u001b[38;5;132;01m{\u001b[39;00mage\u001b[38;5;132;01m}\u001b[39;00m\u001b[38;5;124m\"\u001b[39m)\n",
      "\u001b[1;31mValueError\u001b[0m: too many values to unpack (expected 2)"
     ]
    }
   ],
   "source": [
    "for name,age in friends:\n",
    "    print(f\"My friend is {name} and age is {age}\")"
   ]
  },
  {
   "cell_type": "code",
   "execution_count": 13,
   "id": "c23b4cbf-89dd-477b-b27e-29c42cfc7927",
   "metadata": {},
   "outputs": [],
   "source": [
    "friends = {\"Harshita\":32, \"Chetan\":35, \"Dan\":40}"
   ]
  },
  {
   "cell_type": "code",
   "execution_count": 17,
   "id": "bfbdbdb1-5560-4c90-b86e-10dfed7776be",
   "metadata": {},
   "outputs": [
    {
     "name": "stdout",
     "output_type": "stream",
     "text": [
      "name:Harshita and age:32\n",
      "name:Chetan and age:35\n",
      "name:Dan and age:40\n"
     ]
    }
   ],
   "source": [
    "for name,age in friends.items():\n",
    "    print(f\"name:{name} and age:{age}\")"
   ]
  },
  {
   "cell_type": "markdown",
   "id": "72abd91e-95af-4725-aacc-ed8238e2007a",
   "metadata": {},
   "source": [
    "**SLICING**"
   ]
  },
  {
   "cell_type": "code",
   "execution_count": 19,
   "id": "a780b9bc-eced-4f07-927e-d528486681e5",
   "metadata": {},
   "outputs": [],
   "source": [
    "friends = [\"Harshita\", \"Chetan\",\"Dan\",\"Sam\"]\n",
    "strin = \"flowers\""
   ]
  },
  {
   "cell_type": "code",
   "execution_count": 21,
   "id": "68ebc394-d6f0-466b-bb46-bd4e411a828a",
   "metadata": {},
   "outputs": [
    {
     "data": {
      "text/plain": [
       "['Harshita', 'Chetan', 'Dan', 'Sam']"
      ]
     },
     "execution_count": 21,
     "metadata": {},
     "output_type": "execute_result"
    }
   ],
   "source": [
    "friends[0:]"
   ]
  },
  {
   "cell_type": "code",
   "execution_count": 24,
   "id": "1ef80981-26ea-43e7-bed4-32ac8eb9cae6",
   "metadata": {},
   "outputs": [
    {
     "data": {
      "text/plain": [
       "['Harshita', 'Chetan', 'Dan']"
      ]
     },
     "execution_count": 24,
     "metadata": {},
     "output_type": "execute_result"
    }
   ],
   "source": [
    "friends[:3]"
   ]
  },
  {
   "cell_type": "code",
   "execution_count": 26,
   "id": "7f5cd922-e60c-4b77-a3c2-30a4f46e1d92",
   "metadata": {},
   "outputs": [
    {
     "data": {
      "text/plain": [
       "['Harshita', 'Chetan', 'Dan']"
      ]
     },
     "execution_count": 26,
     "metadata": {},
     "output_type": "execute_result"
    }
   ],
   "source": [
    "friends[:-1]"
   ]
  },
  {
   "cell_type": "code",
   "execution_count": 28,
   "id": "d90dd95d-50aa-4f0f-8c21-b3c1acb2278b",
   "metadata": {},
   "outputs": [
    {
     "data": {
      "text/plain": [
       "['Harshita', 'Chetan', 'Dan', 'Sam']"
      ]
     },
     "execution_count": 28,
     "metadata": {},
     "output_type": "execute_result"
    }
   ],
   "source": [
    "friends[-4:]"
   ]
  },
  {
   "cell_type": "code",
   "execution_count": 40,
   "id": "b48c306b-6ae0-413d-9d89-fa8fd46c156a",
   "metadata": {},
   "outputs": [
    {
     "data": {
      "text/plain": [
       "['Sam', 'Dan', 'Chetan', 'Harshita']"
      ]
     },
     "execution_count": 40,
     "metadata": {},
     "output_type": "execute_result"
    }
   ],
   "source": [
    "#this is called negative step slicing. Starts at last value, then steps -1 till first value\n",
    "friends[::-1]"
   ]
  },
  {
   "cell_type": "code",
   "execution_count": 42,
   "id": "3e343060-e86e-4858-8092-d9a51c1802e9",
   "metadata": {},
   "outputs": [
    {
     "data": {
      "text/plain": [
       "'srewolf'"
      ]
     },
     "execution_count": 42,
     "metadata": {},
     "output_type": "execute_result"
    }
   ],
   "source": [
    "strin[::-1]"
   ]
  },
  {
   "cell_type": "code",
   "execution_count": 45,
   "id": "dd14c64a-a3b5-4ef4-89c0-5bf48827fa2b",
   "metadata": {},
   "outputs": [
    {
     "data": {
      "text/plain": [
       "[]"
      ]
     },
     "execution_count": 45,
     "metadata": {},
     "output_type": "execute_result"
    }
   ],
   "source": [
    "#Zero length slicing\n",
    "friends[1:1]"
   ]
  },
  {
   "cell_type": "code",
   "execution_count": 46,
   "id": "0153e304-dcbd-40d5-a905-409b492b7bd2",
   "metadata": {},
   "outputs": [
    {
     "name": "stdout",
     "output_type": "stream",
     "text": [
      "['Harshita', 'Karen', 'Chetan', 'Dan', 'Sam']\n"
     ]
    }
   ],
   "source": [
    "friends[1:1] = [\"Karen\"]\n",
    "print(friends)"
   ]
  },
  {
   "cell_type": "markdown",
   "id": "0488f385-eecb-41cf-9983-2e4a8906651f",
   "metadata": {},
   "source": [
    "**LIST COMPREHENSTION**"
   ]
  },
  {
   "cell_type": "code",
   "execution_count": 47,
   "id": "d2efdff0-2ab4-458a-b11f-562c46f47e5c",
   "metadata": {},
   "outputs": [],
   "source": [
    "nums = [0,1,2,3,4,5]\n",
    "doubld_nums = []"
   ]
  },
  {
   "cell_type": "code",
   "execution_count": 49,
   "id": "59e94770-ee0d-477e-a5c3-cbe46b70a11b",
   "metadata": {},
   "outputs": [
    {
     "name": "stdout",
     "output_type": "stream",
     "text": [
      "[0, 2, 4, 6, 8, 10]\n"
     ]
    }
   ],
   "source": [
    "for n in nums:\n",
    "    doubld_nums.append(n*2)\n",
    "print(doubld_nums)"
   ]
  },
  {
   "cell_type": "code",
   "execution_count": 51,
   "id": "7855b591-a1e6-4b2e-b296-2d947c43cf2d",
   "metadata": {},
   "outputs": [
    {
     "name": "stdout",
     "output_type": "stream",
     "text": [
      "[0, 2, 4, 6, 8, 10]\n"
     ]
    }
   ],
   "source": [
    "doubld_comp = [n*2 for n in nums]\n",
    "print(doubld_comp)"
   ]
  },
  {
   "cell_type": "code",
   "execution_count": 53,
   "id": "b7adff19-e1b7-4dcb-a5c5-bb2fae953993",
   "metadata": {},
   "outputs": [],
   "source": [
    "roll_combinations = [(d1, d2) for d1 in range(1, 7) for d2 in range(1, 7)]"
   ]
  },
  {
   "cell_type": "code",
   "execution_count": null,
   "id": "55644e06-82f5-4d7e-8650-60c214cf1972",
   "metadata": {},
   "outputs": [],
   "source": []
  },
  {
   "cell_type": "markdown",
   "id": "9b1084c8-4944-4b82-b2b2-ebfdf211083d",
   "metadata": {},
   "source": [
    "**USEFUL FUNCTIONS**"
   ]
  },
  {
   "cell_type": "code",
   "execution_count": 3,
   "id": "c4f9cdf1-cf83-421d-a9e6-0826eccc5562",
   "metadata": {},
   "outputs": [
    {
     "name": "stdout",
     "output_type": "stream",
     "text": [
      "0. Chetan\n",
      "1. Harshita\n",
      "2. Patil\n"
     ]
    }
   ],
   "source": [
    "##Enumerates\n",
    "names = [\"Chetan\",\"Harshita\", \"Patil\"]\n",
    "for num,name in enumerate(names):\n",
    "    print(f'{num}. {name}')"
   ]
  },
  {
   "cell_type": "code",
   "execution_count": 4,
   "id": "a9b2df64-f42d-44fa-96d5-6e735e889c8b",
   "metadata": {},
   "outputs": [],
   "source": [
    "#ZIP Functions\n",
    "movie_titles = [\n",
    "    \"Forrest Gump\",\n",
    "    \"Howl's Moving Castle\",\n",
    "    \"No Country for Old Men\"\n",
    "]\n",
    "\n",
    "movie_directors = [\n",
    "    \"Robert Zemeckis\",\n",
    "    \"Hayao Miyazaki\",\n",
    "    \"Joel and Ethan Coen\"\n",
    "]"
   ]
  },
  {
   "cell_type": "code",
   "execution_count": 6,
   "id": "d2d617dc-e382-42de-a9ca-6a41f8d5dc30",
   "metadata": {},
   "outputs": [],
   "source": [
    "movies = zip(movie_titles,movie_directors)"
   ]
  },
  {
   "cell_type": "code",
   "execution_count": 8,
   "id": "0bcb35d5-4df1-4645-9596-e1ac2c4e2d4f",
   "metadata": {},
   "outputs": [
    {
     "name": "stdout",
     "output_type": "stream",
     "text": [
      "<zip object at 0x000002B60F002FC0>\n"
     ]
    }
   ],
   "source": [
    "print(movies)"
   ]
  },
  {
   "cell_type": "code",
   "execution_count": 11,
   "id": "3775482d-aedc-4b65-aa8f-80515c098d3a",
   "metadata": {},
   "outputs": [
    {
     "name": "stdout",
     "output_type": "stream",
     "text": [
      "Forrest Gump by Robert Zemeckis\n",
      "Howl's Moving Castle by Hayao Miyazaki\n",
      "No Country for Old Men by Joel and Ethan Coen\n"
     ]
    }
   ],
   "source": [
    "for title,director in movies:\n",
    "    print(f'{title} by {director}')"
   ]
  },
  {
   "cell_type": "code",
   "execution_count": 12,
   "id": "513c2f58-0ef3-4165-a1ce-d737a857223b",
   "metadata": {},
   "outputs": [
    {
     "name": "stdout",
     "output_type": "stream",
     "text": [
      "<zip object at 0x000002B60F002FC0>\n"
     ]
    }
   ],
   "source": [
    "print(movies)"
   ]
  },
  {
   "cell_type": "code",
   "execution_count": 14,
   "id": "d70a2467-7ce8-4861-bbe5-57397bc87e01",
   "metadata": {},
   "outputs": [],
   "source": [
    "for title,director in movies:\n",
    "    print(f'{title} by {director}')"
   ]
  },
  {
   "cell_type": "code",
   "execution_count": null,
   "id": "17750640-55cf-4f63-bb2e-e080255d38db",
   "metadata": {},
   "outputs": [],
   "source": []
  },
  {
   "cell_type": "code",
   "execution_count": null,
   "id": "8c266a2e-6c72-41ca-8af4-498741a7f363",
   "metadata": {},
   "outputs": [],
   "source": []
  }
 ],
 "metadata": {
  "kernelspec": {
   "display_name": "Python 3 (ipykernel)",
   "language": "python",
   "name": "python3"
  },
  "language_info": {
   "codemirror_mode": {
    "name": "ipython",
    "version": 3
   },
   "file_extension": ".py",
   "mimetype": "text/x-python",
   "name": "python",
   "nbconvert_exporter": "python",
   "pygments_lexer": "ipython3",
   "version": "3.9.12"
  }
 },
 "nbformat": 4,
 "nbformat_minor": 5
}
