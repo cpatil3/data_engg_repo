{
 "cells": [
  {
   "cell_type": "code",
   "execution_count": 4,
   "id": "8d7446da-7465-4eb5-9cb8-0368b359abc3",
   "metadata": {},
   "outputs": [],
   "source": [
    "class Node:\n",
    "    def __init__(self,data):\n",
    "        self.data = data\n",
    "        self.next = None\n",
    "        self.prev = None"
   ]
  },
  {
   "cell_type": "code",
   "execution_count": 102,
   "id": "2a1a88de-8d51-40a9-8ab8-ae95e67f0c45",
   "metadata": {},
   "outputs": [],
   "source": [
    "class DoublyLinkedList:\n",
    "    def __init__(self):\n",
    "        self.head = None\n",
    "\n",
    "    def append(self, data):\n",
    "        if not self.head:\n",
    "            new_node = Node(data)\n",
    "            self.head = new_node\n",
    "        else:\n",
    "            cur = self.head\n",
    "            while cur.next:\n",
    "                cur = cur.next\n",
    "            \n",
    "            new_node = Node(data)\n",
    "            cur.next = new_node\n",
    "            new_node.prev = cur\n",
    "\n",
    "    def prepend(self, data):\n",
    "        if self.head is None:\n",
    "            new_node = Node(data)\n",
    "            self.head = new_node\n",
    "        else:\n",
    "            new_node = Node(data)\n",
    "            cur = self.head\n",
    "            new_node.next = cur\n",
    "            cur.prev = new_node\n",
    "            self.head = new_node\n",
    "\n",
    "    def print_list(self):\n",
    "        cur = self.head\n",
    "        while cur:\n",
    "            print(cur.data)\n",
    "            cur = cur.next\n",
    "\n",
    "    def add_after_node(self, key, data):\n",
    "        cur = self.head\n",
    "        while cur:\n",
    "            if cur.next == None and cur.data == key:\n",
    "                self.append(data)\n",
    "            elif cur.data == key:\n",
    "                new_node = Node(data)\n",
    "                nxt = cur.next\n",
    "                cur.next = new_node\n",
    "                new_node.next = nxt\n",
    "                nxt.prev = new_node\n",
    "                new_node.prev = cur\n",
    "                \n",
    "            cur = cur.next\n",
    "                \n",
    "    def reverse(self):\n",
    "        p = self.head\n",
    "        prev = None\n",
    "        \n",
    "        while p:\n",
    "            nxt = p.next\n",
    "            p.prev = p.next\n",
    "            p.next = prev\n",
    "            prev = p\n",
    "            p = nxt\n",
    "                \n",
    "        self.head = prev\n",
    "        \n",
    "    def remove_dups(self):\n",
    "        cur = self.head\n",
    "        present = dict()\n",
    "        \n",
    "        while cur:              \n",
    "            nxt = cur.next\n",
    "            prv = cur.prev\n",
    "            i = 1\n",
    "            if cur.data in present:\n",
    "                nxt.prev = prv\n",
    "                prv.next = nxt\n",
    "            else:\n",
    "                dict[i] = cur.data\n",
    "                i += 1\n",
    "        \n",
    "            cur = cur.next\n",
    "                "
   ]
  },
  {
   "cell_type": "code",
   "execution_count": 98,
   "id": "c3e34445-cc49-47f3-982d-84c9b4d4b947",
   "metadata": {},
   "outputs": [],
   "source": [
    "dbll = DoublyLinkedList()"
   ]
  },
  {
   "cell_type": "code",
   "execution_count": 99,
   "id": "f48dadce-1a7f-44b7-81bc-e71a5cfa1a1b",
   "metadata": {},
   "outputs": [],
   "source": [
    "dbll.append(\"A\")\n",
    "dbll.append(\"B\")\n",
    "dbll.append(\"C\")\n",
    "dbll.append(\"D\")"
   ]
  },
  {
   "cell_type": "code",
   "execution_count": 100,
   "id": "a94cf091-9439-4b08-a623-e962d3a4c866",
   "metadata": {},
   "outputs": [
    {
     "name": "stdout",
     "output_type": "stream",
     "text": [
      "A\n",
      "B\n",
      "C\n",
      "D\n"
     ]
    }
   ],
   "source": [
    "dbll.print_list()"
   ]
  },
  {
   "cell_type": "code",
   "execution_count": 26,
   "id": "e69b3308-7ef7-44dc-9015-b262127d1e92",
   "metadata": {},
   "outputs": [],
   "source": [
    "dbll.prepend(\"F\")"
   ]
  },
  {
   "cell_type": "code",
   "execution_count": 41,
   "id": "7880f865-07bd-41b0-8ef2-e40c5876fb2d",
   "metadata": {},
   "outputs": [],
   "source": [
    "dbll.add_after_node(\"A\", \"B\")"
   ]
  },
  {
   "cell_type": "code",
   "execution_count": 61,
   "id": "4ba54def-d434-483f-a49a-19241803c814",
   "metadata": {},
   "outputs": [],
   "source": [
    "dbll.reverse()"
   ]
  },
  {
   "cell_type": "code",
   "execution_count": 63,
   "id": "8b6c414d-13b2-48fe-85fa-e421f93926f2",
   "metadata": {},
   "outputs": [],
   "source": [
    "dct = dict()"
   ]
  },
  {
   "cell_type": "code",
   "execution_count": 64,
   "id": "c0bcc868-0812-4e24-a547-5133734c542c",
   "metadata": {},
   "outputs": [],
   "source": [
    "dct = {1:\"apple\", 2:\"mango\"}"
   ]
  },
  {
   "cell_type": "code",
   "execution_count": 65,
   "id": "816c90e8-507d-4b23-a73e-62418fb18fae",
   "metadata": {},
   "outputs": [
    {
     "data": {
      "text/plain": [
       "'apple'"
      ]
     },
     "execution_count": 65,
     "metadata": {},
     "output_type": "execute_result"
    }
   ],
   "source": [
    "dct[1]"
   ]
  },
  {
   "cell_type": "code",
   "execution_count": 71,
   "id": "3695647b-e316-4724-8208-e91593c5ccd0",
   "metadata": {},
   "outputs": [
    {
     "name": "stdout",
     "output_type": "stream",
     "text": [
      "working\n"
     ]
    }
   ],
   "source": [
    "if 11 in dct:\n",
    "    print(\"true\")\n",
    "else:\n",
    "    print(\"working\")"
   ]
  },
  {
   "cell_type": "code",
   "execution_count": 101,
   "id": "04e09808-3c5f-41cb-a20a-1e55d31fe5c0",
   "metadata": {},
   "outputs": [
    {
     "name": "stdout",
     "output_type": "stream",
     "text": [
      "A\n",
      "B\n",
      "B\n",
      "C\n",
      "C\n",
      "D\n"
     ]
    }
   ],
   "source": [
    "dbll.remove_dups()"
   ]
  },
  {
   "cell_type": "code",
   "execution_count": null,
   "id": "617b36b5-6758-418f-ac1e-befdfada8e36",
   "metadata": {},
   "outputs": [],
   "source": []
  }
 ],
 "metadata": {
  "kernelspec": {
   "display_name": "Python 3 (ipykernel)",
   "language": "python",
   "name": "python3"
  },
  "language_info": {
   "codemirror_mode": {
    "name": "ipython",
    "version": 3
   },
   "file_extension": ".py",
   "mimetype": "text/x-python",
   "name": "python",
   "nbconvert_exporter": "python",
   "pygments_lexer": "ipython3",
   "version": "3.9.12"
  }
 },
 "nbformat": 4,
 "nbformat_minor": 5
}
