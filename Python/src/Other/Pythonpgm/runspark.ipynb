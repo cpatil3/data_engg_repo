{
 "cells": [
  {
   "cell_type": "code",
   "execution_count": 1,
   "id": "366ebe9f-f6e6-4314-a652-0a38bf89a320",
   "metadata": {},
   "outputs": [
    {
     "data": {
      "text/plain": [
       "'C:\\\\Spark'"
      ]
     },
     "execution_count": 1,
     "metadata": {},
     "output_type": "execute_result"
    }
   ],
   "source": [
    "import findspark\n",
    "findspark.init()\n",
    "findspark.find()\n",
    "import pyspark\n",
    "findspark.find()"
   ]
  },
  {
   "cell_type": "code",
   "execution_count": 3,
   "id": "d081fa03-8bca-493b-965c-01b38981adbe",
   "metadata": {},
   "outputs": [],
   "source": [
    "from pyspark.sql import SparkSession\n",
    "spark = SparkSession.builder.getOrCreate()"
   ]
  },
  {
   "cell_type": "code",
   "execution_count": 2,
   "id": "4452d6c9-7cbd-4d43-9ff8-041066cbba7a",
   "metadata": {},
   "outputs": [
    {
     "ename": "NameError",
     "evalue": "name 'SparkSession' is not defined",
     "output_type": "error",
     "traceback": [
      "\u001b[1;31m---------------------------------------------------------------------------\u001b[0m",
      "\u001b[1;31mNameError\u001b[0m                                 Traceback (most recent call last)",
      "Input \u001b[1;32mIn [2]\u001b[0m, in \u001b[0;36m<cell line: 4>\u001b[1;34m()\u001b[0m\n\u001b[0;32m      2\u001b[0m conf \u001b[38;5;241m=\u001b[39m SparkConf()\u001b[38;5;241m.\u001b[39msetMaster(\u001b[38;5;124m\"\u001b[39m\u001b[38;5;124mlocal\u001b[39m\u001b[38;5;124m\"\u001b[39m)\u001b[38;5;241m.\u001b[39msetAppName(\u001b[38;5;124m\"\u001b[39m\u001b[38;5;124mCustomerOrder\u001b[39m\u001b[38;5;124m\"\u001b[39m)\n\u001b[0;32m      3\u001b[0m sc \u001b[38;5;241m=\u001b[39m SparkContext(conf \u001b[38;5;241m=\u001b[39m conf)\n\u001b[1;32m----> 4\u001b[0m ss \u001b[38;5;241m=\u001b[39m \u001b[43mSparkSession\u001b[49m(sc)\n",
      "\u001b[1;31mNameError\u001b[0m: name 'SparkSession' is not defined"
     ]
    }
   ],
   "source": [
    "from pyspark import SparkConf, SparkContext\n",
    "conf = SparkConf().setMaster(\"local\").setAppName(\"CustomerOrder\")\n",
    "sc = SparkContext(conf = conf)\n",
    "ss = SparkSession(sc)"
   ]
  },
  {
   "cell_type": "code",
   "execution_count": 4,
   "id": "19abf78b-6a24-4519-99da-e090cb61e58e",
   "metadata": {},
   "outputs": [],
   "source": [
    "df = spark.sql(\"select 'Hello To Jupyter Spark' as sc\")"
   ]
  },
  {
   "cell_type": "code",
   "execution_count": 5,
   "id": "61646709-0819-4752-b1d9-07adab9ffed9",
   "metadata": {},
   "outputs": [
    {
     "name": "stdout",
     "output_type": "stream",
     "text": [
      "+--------------------+\n",
      "|                  sc|\n",
      "+--------------------+\n",
      "|Hello To Jupyter ...|\n",
      "+--------------------+\n",
      "\n"
     ]
    }
   ],
   "source": [
    "df.show()"
   ]
  },
  {
   "cell_type": "code",
   "execution_count": 9,
   "id": "b67ed984-f0e3-4f8c-839f-129508b655d7",
   "metadata": {},
   "outputs": [],
   "source": [
    "spark.stop()"
   ]
  },
  {
   "cell_type": "code",
   "execution_count": 10,
   "id": "e1fddcf6-1e4f-42d8-8d99-37f8144810d3",
   "metadata": {},
   "outputs": [],
   "source": [
    "from pyspark import SparkConf, SparkContext"
   ]
  },
  {
   "cell_type": "code",
   "execution_count": 15,
   "id": "8f2964e6-ab53-4071-a83a-00d9f24d8d82",
   "metadata": {},
   "outputs": [],
   "source": [
    "conf = SparkConf().setMaster(\"local\").setAppName(\"FriendsByAge\")\n",
    "sc = SparkContext().getOrCreate(conf = conf)"
   ]
  },
  {
   "cell_type": "code",
   "execution_count": 14,
   "id": "dfcc65e9-4bc8-47d1-abc8-2bd80cc52463",
   "metadata": {},
   "outputs": [],
   "source": [
    "sc.stop()"
   ]
  },
  {
   "cell_type": "code",
   "execution_count": 18,
   "id": "f7899a64-b8e0-46c2-9be2-d5e34e68e0fc",
   "metadata": {},
   "outputs": [],
   "source": [
    "lines = sc.textFile(\"C:/Users/cpatil3/OneDrive - Capgemini/Capg Lap/Learning/Spark/SparkCourse/Practice/fakefriends.csv\")"
   ]
  },
  {
   "cell_type": "code",
   "execution_count": 20,
   "id": "4e8a3ca0-0a2c-4267-992c-041c44a872f8",
   "metadata": {},
   "outputs": [
    {
     "data": {
      "text/plain": [
       "'ID,Name,Age,numFriends'"
      ]
     },
     "execution_count": 20,
     "metadata": {},
     "output_type": "execute_result"
    }
   ],
   "source": [
    "lines.first()"
   ]
  },
  {
   "cell_type": "code",
   "execution_count": null,
   "id": "125e0eb9-4e3e-4461-b4f6-2788aa61ebfa",
   "metadata": {},
   "outputs": [],
   "source": [
    "def parseline(lines):\n",
    "    fields = "
   ]
  },
  {
   "cell_type": "code",
   "execution_count": null,
   "id": "fca31f36-fc1e-41f2-a333-91ef92e99031",
   "metadata": {},
   "outputs": [],
   "source": []
  }
 ],
 "metadata": {
  "kernelspec": {
   "display_name": "Python 3 (ipykernel)",
   "language": "python",
   "name": "python3"
  },
  "language_info": {
   "codemirror_mode": {
    "name": "ipython",
    "version": 3
   },
   "file_extension": ".py",
   "mimetype": "text/x-python",
   "name": "python",
   "nbconvert_exporter": "python",
   "pygments_lexer": "ipython3",
   "version": "3.9.12"
  }
 },
 "nbformat": 4,
 "nbformat_minor": 5
}
