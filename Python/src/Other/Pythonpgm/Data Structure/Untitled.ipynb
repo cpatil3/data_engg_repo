{
 "cells": [
  {
   "cell_type": "code",
   "execution_count": 1,
   "id": "5536adf9-88b9-4440-bda3-abb4f9fb5fad",
   "metadata": {},
   "outputs": [],
   "source": [
    "class Node:\n",
    "    def __init__(self,data):\n",
    "        self.data = data\n",
    "        self.next = None      "
   ]
  },
  {
   "cell_type": "code",
   "execution_count": 5,
   "id": "31f83656-bd70-45bf-831b-c8046640412d",
   "metadata": {},
   "outputs": [],
   "source": [
    "class LinkedList:\n",
    "    def __init__(self):\n",
    "        self.head = None\n",
    "    \n",
    "    def print_lst(self):\n",
    "        cur_node = self.head\n",
    "        \n",
    "        while cur_node:\n",
    "            print(cur_node.data)\n",
    "            cur_node = cur_node.next\n",
    "    \n",
    "    def append(self,data):\n",
    "        new_node = Node(data)\n",
    "        \n",
    "        if self.head is None:\n",
    "            self.head = new_node\n",
    "            return\n",
    "        \n",
    "        last_node = self.head\n",
    "        while last_node.next:\n",
    "            last_node = last_node.next\n",
    "        \n",
    "        last_node.next = new_node\n",
    "\n",
    "    def reverse_recursive(self):\n",
    "        \n",
    "        def _reverse_recursive(cur, prev):\n",
    "            if not cur and cur.next:\n",
    "                return \n",
    "            \n",
    "            _reverse_recursive(cur.next, cur)\n",
    "            \n",
    "            nxt = cur.next\n",
    "            nxt.next = cur\n",
    "            cur.next = None\n",
    "            \n",
    "        \n",
    "        self.head = _reverse_recursive(cur=self.head, prev=None)"
   ]
  },
  {
   "cell_type": "code",
   "execution_count": 4,
   "id": "38dc83f5-1dc8-47f4-94f4-520a7287ca48",
   "metadata": {},
   "outputs": [
    {
     "data": {
      "text/plain": [
       "'hello'"
      ]
     },
     "execution_count": 4,
     "metadata": {},
     "output_type": "execute_result"
    }
   ],
   "source": []
  },
  {
   "cell_type": "code",
   "execution_count": null,
   "id": "f7998998-8f3f-4b37-a37b-fdaf218e32b9",
   "metadata": {},
   "outputs": [],
   "source": []
  }
 ],
 "metadata": {
  "kernelspec": {
   "display_name": "Python 3 (ipykernel)",
   "language": "python",
   "name": "python3"
  },
  "language_info": {
   "codemirror_mode": {
    "name": "ipython",
    "version": 3
   },
   "file_extension": ".py",
   "mimetype": "text/x-python",
   "name": "python",
   "nbconvert_exporter": "python",
   "pygments_lexer": "ipython3",
   "version": "3.9.12"
  }
 },
 "nbformat": 4,
 "nbformat_minor": 5
}
