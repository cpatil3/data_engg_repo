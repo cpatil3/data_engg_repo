{
 "cells": [
  {
   "cell_type": "code",
   "execution_count": 4,
   "id": "8d7446da-7465-4eb5-9cb8-0368b359abc3",
   "metadata": {},
   "outputs": [],
   "source": [
    "class Node:\n",
    "    def __init__(self,data):\n",
    "        self.data = data\n",
    "        self.next = None\n",
    "        self.prev = None"
   ]
  },
  {
   "cell_type": "code",
   "execution_count": 152,
   "id": "2a1a88de-8d51-40a9-8ab8-ae95e67f0c45",
   "metadata": {},
   "outputs": [],
   "source": [
    "class DoublyLinkedList:\n",
    "    def __init__(self):\n",
    "        self.head = None\n",
    "\n",
    "    def append(self, data):\n",
    "        if not self.head:\n",
    "            new_node = Node(data)\n",
    "            self.head = new_node\n",
    "        else:\n",
    "            cur = self.head\n",
    "            while cur.next:\n",
    "                cur = cur.next\n",
    "            \n",
    "            new_node = Node(data)\n",
    "            cur.next = new_node\n",
    "            new_node.prev = cur\n",
    "\n",
    "    def prepend(self, data):\n",
    "        if self.head is None:\n",
    "            new_node = Node(data)\n",
    "            self.head = new_node\n",
    "        else:\n",
    "            new_node = Node(data)\n",
    "            cur = self.head\n",
    "            new_node.next = cur\n",
    "            cur.prev = new_node\n",
    "            self.head = new_node\n",
    "\n",
    "    def print_list(self):\n",
    "        cur = self.head\n",
    "        while cur:\n",
    "            print(cur.data)\n",
    "            cur = cur.next\n",
    "\n",
    "    def add_after_node(self, key, data):\n",
    "        cur = self.head\n",
    "        while cur:\n",
    "            if cur.next == None and cur.data == key:\n",
    "                self.append(data)\n",
    "            elif cur.data == key:\n",
    "                new_node = Node(data)\n",
    "                nxt = cur.next\n",
    "                cur.next = new_node\n",
    "                new_node.next = nxt\n",
    "                nxt.prev = new_node\n",
    "                new_node.prev = cur\n",
    "                \n",
    "            cur = cur.next\n",
    "                \n",
    "    def reverse(self):\n",
    "        p = self.head\n",
    "        prev = None\n",
    "        \n",
    "        while p:\n",
    "            nxt = p.next\n",
    "            p.prev = p.next\n",
    "            p.next = prev\n",
    "            prev = p\n",
    "            p = nxt\n",
    "                \n",
    "        self.head = prev\n",
    "        \n",
    "    def remove_dups(self):\n",
    "        cur = self.head\n",
    "        present = dict()\n",
    "\n",
    "        while cur.next:              \n",
    "            nxt = cur.next\n",
    "            prv = cur.prev\n",
    "            \n",
    "            if nxt:\n",
    "                print(\"nxt: \" + nxt.data)\n",
    "            if prv:\n",
    "                print(\"prv: \" + prv.data)\n",
    "            if cur.data in present:\n",
    "                nxt.prev = prv\n",
    "                prv.next = nxt\n",
    "            else:\n",
    "                present[cur.data] = 1\n",
    "            cur = cur.next\n",
    "    \n",
    "        \n",
    "        if cur.data in present:\n",
    "            prv.next = None\n",
    "            cur.prev = None\n",
    "\n",
    "    def pairs_with_sum(self, sum_val):\n",
    "        sum_lst = list()\n",
    "        p = self.head\n",
    "        q = None\n",
    "        \n",
    "        while p:\n",
    "            q = p.next\n",
    "            while q:\n",
    "                if p.data + q.data == sum_val:\n",
    "                    sum_lst.append(\"(\" + str(p.data) + \", \" + str(q.data) + \")\")\n",
    "                q = q.next\n",
    "            p = p.next\n",
    "            \n",
    "        return sum_lst"
   ]
  },
  {
   "cell_type": "code",
   "execution_count": 153,
   "id": "c3e34445-cc49-47f3-982d-84c9b4d4b947",
   "metadata": {},
   "outputs": [],
   "source": [
    "dbll = DoublyLinkedList()"
   ]
  },
  {
   "cell_type": "code",
   "execution_count": 143,
   "id": "f48dadce-1a7f-44b7-81bc-e71a5cfa1a1b",
   "metadata": {},
   "outputs": [],
   "source": [
    "dbll.append(\"A\")\n",
    "dbll.append(\"B\")\n",
    "dbll.append(\"B\")\n",
    "dbll.append(\"C\")\n",
    "dbll.append(\"D\")\n",
    "dbll.append(\"D\")"
   ]
  },
  {
   "cell_type": "code",
   "execution_count": 145,
   "id": "a94cf091-9439-4b08-a623-e962d3a4c866",
   "metadata": {},
   "outputs": [
    {
     "name": "stdout",
     "output_type": "stream",
     "text": [
      "A\n",
      "B\n",
      "C\n"
     ]
    }
   ],
   "source": [
    "dbll.print_list()"
   ]
  },
  {
   "cell_type": "code",
   "execution_count": 26,
   "id": "e69b3308-7ef7-44dc-9015-b262127d1e92",
   "metadata": {},
   "outputs": [],
   "source": [
    "dbll.prepend(\"F\")"
   ]
  },
  {
   "cell_type": "code",
   "execution_count": 41,
   "id": "7880f865-07bd-41b0-8ef2-e40c5876fb2d",
   "metadata": {},
   "outputs": [],
   "source": [
    "dbll.add_after_node(\"A\", \"B\")"
   ]
  },
  {
   "cell_type": "code",
   "execution_count": 61,
   "id": "4ba54def-d434-483f-a49a-19241803c814",
   "metadata": {},
   "outputs": [],
   "source": [
    "dbll.reverse()"
   ]
  },
  {
   "cell_type": "code",
   "execution_count": 63,
   "id": "8b6c414d-13b2-48fe-85fa-e421f93926f2",
   "metadata": {},
   "outputs": [],
   "source": [
    "dct = dict()"
   ]
  },
  {
   "cell_type": "code",
   "execution_count": 64,
   "id": "c0bcc868-0812-4e24-a547-5133734c542c",
   "metadata": {},
   "outputs": [],
   "source": [
    "dct = {1:\"apple\", 2:\"mango\"}"
   ]
  },
  {
   "cell_type": "code",
   "execution_count": 65,
   "id": "816c90e8-507d-4b23-a73e-62418fb18fae",
   "metadata": {},
   "outputs": [
    {
     "data": {
      "text/plain": [
       "'apple'"
      ]
     },
     "execution_count": 65,
     "metadata": {},
     "output_type": "execute_result"
    }
   ],
   "source": [
    "dct[1]"
   ]
  },
  {
   "cell_type": "code",
   "execution_count": 71,
   "id": "3695647b-e316-4724-8208-e91593c5ccd0",
   "metadata": {},
   "outputs": [
    {
     "name": "stdout",
     "output_type": "stream",
     "text": [
      "working\n"
     ]
    }
   ],
   "source": [
    "if 11 in dct:\n",
    "    print(\"true\")\n",
    "else:\n",
    "    print(\"working\")"
   ]
  },
  {
   "cell_type": "code",
   "execution_count": 144,
   "id": "04e09808-3c5f-41cb-a20a-1e55d31fe5c0",
   "metadata": {},
   "outputs": [
    {
     "name": "stdout",
     "output_type": "stream",
     "text": [
      "nxt: B\n",
      "nxt: B\n",
      "prv: A\n",
      "nxt: C\n",
      "prv: B\n",
      "nxt: D\n",
      "prv: B\n",
      "nxt: D\n",
      "prv: C\n"
     ]
    }
   ],
   "source": [
    "dbll.remove_dups()"
   ]
  },
  {
   "cell_type": "code",
   "execution_count": 154,
   "id": "176d8311-a6c2-4890-b39f-76d13756675d",
   "metadata": {},
   "outputs": [],
   "source": [
    "dbll.append(1)\n",
    "dbll.append(2)\n",
    "dbll.append(3)\n",
    "dbll.append(4)\n",
    "dbll.append(5)\n",
    "dbll.append(6)"
   ]
  },
  {
   "cell_type": "code",
   "execution_count": 155,
   "id": "9cb819fd-1142-4743-bff0-d904c829fd95",
   "metadata": {},
   "outputs": [
    {
     "data": {
      "text/plain": [
       "['(1, 6)', '(2, 5)', '(3, 4)']"
      ]
     },
     "execution_count": 155,
     "metadata": {},
     "output_type": "execute_result"
    }
   ],
   "source": [
    "dbll.pairs_with_sum(7)"
   ]
  },
  {
   "cell_type": "code",
   "execution_count": null,
   "id": "7bb3b3ef-176c-4d70-a78b-5813c3e11736",
   "metadata": {},
   "outputs": [],
   "source": []
  }
 ],
 "metadata": {
  "kernelspec": {
   "display_name": "Python 3 (ipykernel)",
   "language": "python",
   "name": "python3"
  },
  "language_info": {
   "codemirror_mode": {
    "name": "ipython",
    "version": 3
   },
   "file_extension": ".py",
   "mimetype": "text/x-python",
   "name": "python",
   "nbconvert_exporter": "python",
   "pygments_lexer": "ipython3",
   "version": "3.9.12"
  }
 },
 "nbformat": 4,
 "nbformat_minor": 5
}
