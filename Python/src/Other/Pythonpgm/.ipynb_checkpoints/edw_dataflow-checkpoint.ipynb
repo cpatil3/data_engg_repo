{
 "cells": [
  {
   "cell_type": "markdown",
   "id": "07ad867c-dc51-46f7-b865-f81c08862475",
   "metadata": {},
   "source": [
    "**DESC: This module is for loading customer and transaction staging data to data warehouse tables customer_dim, product_dim and order_f MYSQL**"
   ]
  },
  {
   "cell_type": "code",
   "execution_count": 30,
   "id": "74fee933-304f-4646-ae19-2630fa549346",
   "metadata": {},
   "outputs": [],
   "source": [
    "#Create connection with MYSQL\n",
    "import mysql.connector\n",
    "from mysql.connector import errorcode\n",
    "\n",
    "#import jason library\n",
    "import json\n",
    "\n",
    "#import pandas library for working with dataframes\n",
    "import pandas as pd\n",
    "\n",
    "#import datetime module for dates manipulation\n",
    "from datetime import datetime"
   ]
  },
  {
   "cell_type": "code",
   "execution_count": 37,
   "id": "1580b255-7c22-40b1-9458-8f38a841d703",
   "metadata": {},
   "outputs": [],
   "source": [
    "def get_config():\n",
    "    config = {}\n",
    "    jfile = open('config.json')\n",
    "    config = json.load(jfile)\n",
    "    \n",
    "    return config"
   ]
  },
  {
   "cell_type": "code",
   "execution_count": 38,
   "id": "73e43821-738a-4270-85e8-c0be1a748ed6",
   "metadata": {},
   "outputs": [],
   "source": [
    "def setup_connection(config):\n",
    "    '''\n",
    "        This function is to set up connection with MYSQL 'edw' database.\n",
    "        And define a cursor for records processing.\n",
    "    '''\n",
    "\n",
    "    try:\n",
    "        cnx = mysql.connector.connect(**config)\n",
    "    except mysql.connector.Error as err:\n",
    "        if err.errno == errorcode.ER_ACCESS_DENIED_ERROR:\n",
    "                print('**ERR: Invalid id or password**')\n",
    "        elif err.errno == errorcode.ER_BAD_DB_ERROR:\n",
    "                print(err.errno)\n",
    "                print('**ERR: Wrong dbname or db does not exists**')\n",
    "        else:\n",
    "                print(err)\n",
    "    else:\n",
    "            print('**MSG: Connection to db successful**')\n",
    "            cursor = cnx.cursor()\n",
    "            return cnx, cursor"
   ]
  },
  {
   "cell_type": "code",
   "execution_count": 32,
   "id": "a1950897-bbee-4630-b54a-07ef4473c2e3",
   "metadata": {},
   "outputs": [],
   "source": [
    "def insert_customer(cnx, cursor):\n",
    "    '''\n",
    "        Load data from customer_stg to customer_dim\n",
    "    '''\n",
    " \n",
    "    print('**MSG: Inserting data to customer_dim**')\n",
    "    \n",
    "    add_cust = (\"Insert into edw.customer_dim(customeremail, firstname, lastname, city, state, accountdate) \"\n",
    "                 \"select * from edw.customer_stg; \"\n",
    "               )\n",
    "    \n",
    "    try:\n",
    "        cursor.execute(add_cust)\n",
    "        \n",
    "    except mysql.connector.Error as err:\n",
    "        print(err)   \n",
    "        \n",
    "    else:\n",
    "        print('**MSG: Total Rows inserted to customer_dim: ', cursor.rowcount)"
   ]
  },
  {
   "cell_type": "code",
   "execution_count": 33,
   "id": "84b2508d-0f31-4bf1-9a56-b8a4bad7afc1",
   "metadata": {},
   "outputs": [],
   "source": [
    "def insert_product(cnx, cursor):\n",
    "    '''\n",
    "        Load data from transaction_stg to product_dim\n",
    "    '''\n",
    " \n",
    "    print('**MSG: Inserting data to product_dim**')\n",
    "    \n",
    "    add_prod = (\"Insert into edw.product_dim(product, color, item_size) \"\n",
    "                \"select distinct product, color, item_size from edw.transaction_stg; \"\n",
    "               )\n",
    "    \n",
    "    try:\n",
    "        cursor.execute(add_prod)\n",
    "        \n",
    "    except mysql.connector.Error as err:\n",
    "        print(err)   \n",
    "        \n",
    "    else:\n",
    "        print('**MSG: Total Rows inserted to product_dim: ', cursor.rowcount)"
   ]
  },
  {
   "cell_type": "code",
   "execution_count": 34,
   "id": "3a4fb991-1a90-4352-9c6c-af28993caba3",
   "metadata": {},
   "outputs": [],
   "source": [
    "def insert_order(cnx, cursor):\n",
    "    '''\n",
    "        Load data from transaction_stg to order_f\n",
    "    '''\n",
    " \n",
    "    print('**MSG: Inserting data to order_f**')\n",
    "    \n",
    "    add_order = (\"insert into edw.order_f(tranid, custid, order_date, line_num, productid, quantity, total_price) \"\n",
    "                \"select t.tranid, c.custid, t.order_date, t.line_num, p.productid, t.quantity, t.total_price \"\n",
    "                    \"from edw.transaction_stg t \"\n",
    "                    \"inner join edw.customer_dim c on t.customer_email = c.customeremail \"\n",
    "                    \"inner join edw.product_dim p   on t.product = p.product ; \"\n",
    "               )\n",
    "    \n",
    "    try:\n",
    "        cursor.execute(add_order)\n",
    "        \n",
    "    except mysql.connector.Error as err:\n",
    "        print(err)   \n",
    "        \n",
    "    else:\n",
    "        print('**MSG: Total Rows inserted to order_f: ', cursor.rowcount)"
   ]
  },
  {
   "cell_type": "code",
   "execution_count": 39,
   "id": "b6d4e4e1-bc87-4dab-978c-22d7270e962b",
   "metadata": {},
   "outputs": [],
   "source": [
    "config = get_config()"
   ]
  },
  {
   "cell_type": "code",
   "execution_count": 35,
   "id": "7d75881b-a237-4b17-bb03-0204fc79bc1b",
   "metadata": {},
   "outputs": [
    {
     "name": "stdout",
     "output_type": "stream",
     "text": [
      "**MSG: Connection to db successful**\n",
      "**MSG: Inserting data to customer_dim**\n",
      "**MSG: Total Rows inserted to customer_dim:  14542\n",
      "**MSG: Inserting data to product_dim**\n",
      "**MSG: Total Rows inserted to product_dim:  150\n",
      "**MSG: Inserting data to order_f**\n",
      "**MSG: Total Rows inserted to order_f:  68173\n"
     ]
    }
   ],
   "source": [
    "cnx, cursor = setup_connection(config)\n",
    "insert_customer(cnx, cursor)\n",
    "cnx.commit()\n",
    "insert_product(cnx, cursor)\n",
    "cnx.commit()\n",
    "insert_order(cnx, cursor)\n",
    "cnx.commit()"
   ]
  },
  {
   "cell_type": "code",
   "execution_count": 36,
   "id": "790885e2-4275-4f91-b0cc-148a53fc15d8",
   "metadata": {},
   "outputs": [],
   "source": [
    "cursor.close()\n",
    "cnx.close()"
   ]
  },
  {
   "cell_type": "code",
   "execution_count": null,
   "id": "db7a58cf-77ac-4696-8e8e-ce4924780147",
   "metadata": {},
   "outputs": [],
   "source": []
  }
 ],
 "metadata": {
  "kernelspec": {
   "display_name": "Python 3",
   "language": "python",
   "name": "python3"
  },
  "language_info": {
   "codemirror_mode": {
    "name": "ipython",
    "version": 3
   },
   "file_extension": ".py",
   "mimetype": "text/x-python",
   "name": "python",
   "nbconvert_exporter": "python",
   "pygments_lexer": "ipython3",
   "version": "3.8.8"
  }
 },
 "nbformat": 4,
 "nbformat_minor": 5
}
