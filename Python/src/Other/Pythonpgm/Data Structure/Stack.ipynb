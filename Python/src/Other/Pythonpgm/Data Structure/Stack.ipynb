{
 "cells": [
  {
   "cell_type": "code",
   "execution_count": 1,
   "id": "f11a4416-16dc-4993-ae7c-c6ac71b25874",
   "metadata": {},
   "outputs": [],
   "source": [
    "class Stack():\n",
    "    def __init__(self):\n",
    "        self.items = []\n",
    "        \n",
    "    def push(self,item):\n",
    "        self.items.append(item)\n",
    "        \n",
    "    def pop(self):\n",
    "        return self.items.pop()\n",
    "        \n",
    "    def get_stack(self):\n",
    "        return self.items\n",
    "    \n",
    "    def is_empty(self):\n",
    "        return self.items == []"
   ]
  },
  {
   "cell_type": "code",
   "execution_count": 4,
   "id": "37062f9a-b084-4726-9973-5e880d619a3e",
   "metadata": {},
   "outputs": [],
   "source": [
    "s = Stack()"
   ]
  },
  {
   "cell_type": "code",
   "execution_count": 5,
   "id": "47e76318-772a-4d49-8aa9-f18d16d86ee1",
   "metadata": {},
   "outputs": [],
   "source": [
    "s.push('A')"
   ]
  },
  {
   "cell_type": "code",
   "execution_count": 6,
   "id": "25f65cc0-750f-45fc-8d75-0d0131c69485",
   "metadata": {},
   "outputs": [
    {
     "data": {
      "text/plain": [
       "['A']"
      ]
     },
     "execution_count": 6,
     "metadata": {},
     "output_type": "execute_result"
    }
   ],
   "source": [
    "s.get_stack()"
   ]
  },
  {
   "cell_type": "code",
   "execution_count": 7,
   "id": "5abcc1e1-d7c8-443c-a854-2a0b9aa2091c",
   "metadata": {},
   "outputs": [],
   "source": [
    "s.push('B')"
   ]
  },
  {
   "cell_type": "code",
   "execution_count": 8,
   "id": "39b4c966-42e8-48cf-b5b7-350d3cbf4b59",
   "metadata": {},
   "outputs": [],
   "source": [
    "s.push('C')"
   ]
  },
  {
   "cell_type": "code",
   "execution_count": 9,
   "id": "51840a75-b69b-409b-a4cc-82d405b4812e",
   "metadata": {},
   "outputs": [
    {
     "data": {
      "text/plain": [
       "['A', 'B', 'C']"
      ]
     },
     "execution_count": 9,
     "metadata": {},
     "output_type": "execute_result"
    }
   ],
   "source": [
    "s.get_stack()"
   ]
  },
  {
   "cell_type": "code",
   "execution_count": 10,
   "id": "e64b0ee1-bcb0-4f1d-831b-1853d6e1e9aa",
   "metadata": {},
   "outputs": [
    {
     "data": {
      "text/plain": [
       "'C'"
      ]
     },
     "execution_count": 10,
     "metadata": {},
     "output_type": "execute_result"
    }
   ],
   "source": [
    "s.pop()"
   ]
  },
  {
   "cell_type": "code",
   "execution_count": 24,
   "id": "69bf0d73-0bd3-477e-a061-cd40f8650f50",
   "metadata": {},
   "outputs": [],
   "source": [
    "def reverse_string(stack, input_str):\n",
    "    \n",
    "    for i in range(len(input_str)): \n",
    "        stack.push(input_str[i])\n",
    "                   \n",
    "    rev_str = '' \n",
    "    while not stack.is_empty():\n",
    "         rev_str += stack.pop()\n",
    "    \n",
    "    return rev_str"
   ]
  },
  {
   "cell_type": "code",
   "execution_count": 25,
   "id": "eafdf5ff-d218-4496-b3da-a62884a15ce8",
   "metadata": {},
   "outputs": [],
   "source": [
    "stack = Stack()"
   ]
  },
  {
   "cell_type": "code",
   "execution_count": 26,
   "id": "34291b03-d7c9-436b-8daf-6bbe36f9d780",
   "metadata": {},
   "outputs": [
    {
     "name": "stdout",
     "output_type": "stream",
     "text": [
      "Hello\n"
     ]
    }
   ],
   "source": [
    "print('Hello')"
   ]
  },
  {
   "cell_type": "code",
   "execution_count": 27,
   "id": "7adafea4-ef81-44c6-9b28-9dd8a55efe01",
   "metadata": {},
   "outputs": [
    {
     "name": "stdout",
     "output_type": "stream",
     "text": [
      "olleH\n"
     ]
    }
   ],
   "source": [
    "print(reverse_string(stack,'Hello'))"
   ]
  },
  {
   "cell_type": "code",
   "execution_count": null,
   "id": "029e83e2-e691-407b-a991-a7a4b859d91c",
   "metadata": {},
   "outputs": [],
   "source": []
  }
 ],
 "metadata": {
  "kernelspec": {
   "display_name": "Python 3 (ipykernel)",
   "language": "python",
   "name": "python3"
  },
  "language_info": {
   "codemirror_mode": {
    "name": "ipython",
    "version": 3
   },
   "file_extension": ".py",
   "mimetype": "text/x-python",
   "name": "python",
   "nbconvert_exporter": "python",
   "pygments_lexer": "ipython3",
   "version": "3.9.12"
  }
 },
 "nbformat": 4,
 "nbformat_minor": 5
}
