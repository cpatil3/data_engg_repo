{
 "cells": [
  {
   "cell_type": "code",
   "execution_count": 188,
   "id": "f4f33ffb",
   "metadata": {},
   "outputs": [],
   "source": [
    "st = \"flowers\""
   ]
  },
  {
   "cell_type": "code",
   "execution_count": 4,
   "id": "7eaa9797",
   "metadata": {},
   "outputs": [
    {
     "name": "stdout",
     "output_type": "stream",
     "text": [
      "flower\n",
      "flowe\n",
      "flow\n",
      "flo\n",
      "fl\n",
      "f\n"
     ]
    }
   ],
   "source": [
    "i = len(st) - 1\n",
    "while i > 0:\n",
    "    print(st[:i])\n",
    "    i -=1\n",
    "    "
   ]
  },
  {
   "cell_type": "code",
   "execution_count": 49,
   "id": "2d841463",
   "metadata": {},
   "outputs": [],
   "source": [
    "strs = ['flowers', 'flow', 'flight']"
   ]
  },
  {
   "cell_type": "code",
   "execution_count": 26,
   "id": "122fe86b",
   "metadata": {},
   "outputs": [],
   "source": [
    "minlen = strs[0]\n",
    "for st in strs:\n",
    "    if len(st) < len(minlen):\n",
    "        minlen = st"
   ]
  },
  {
   "cell_type": "code",
   "execution_count": 27,
   "id": "b28f9bc1",
   "metadata": {},
   "outputs": [
    {
     "data": {
      "text/plain": [
       "'flow'"
      ]
     },
     "execution_count": 27,
     "metadata": {},
     "output_type": "execute_result"
    }
   ],
   "source": [
    "strs[0][:len(minlen)]"
   ]
  },
  {
   "cell_type": "code",
   "execution_count": 30,
   "id": "81bc4edf",
   "metadata": {},
   "outputs": [
    {
     "name": "stdout",
     "output_type": "stream",
     "text": [
      "fl\n"
     ]
    }
   ],
   "source": [
    "flag = 'N'\n",
    "while flag == 'N' or len(minlen) == 0:\n",
    "    for st in strs:\n",
    "        if st[:len(minlen)] != minlen:\n",
    "            minlen = minlen[:-1]\n",
    "            flag = 'N'\n",
    "            break\n",
    "        else:\n",
    "            flag = 'Y'\n",
    "print(minlen)"
   ]
  },
  {
   "cell_type": "code",
   "execution_count": 50,
   "id": "ebdcbe70",
   "metadata": {},
   "outputs": [],
   "source": [
    "longpref = strs[0]"
   ]
  },
  {
   "cell_type": "code",
   "execution_count": 51,
   "id": "f8de1ae2",
   "metadata": {},
   "outputs": [],
   "source": [
    "for st in strs:\n",
    "    for ind in range(0, len(longpref)):\n",
    "        if len(st) < len(longpref):\n",
    "            longpref = longpref[:len(st)]\n",
    "            break\n",
    "        if st[ind] != longpref[ind]:\n",
    "            longpref = longpref[0:ind]\n",
    "            break"
   ]
  },
  {
   "cell_type": "code",
   "execution_count": 52,
   "id": "292be29e",
   "metadata": {},
   "outputs": [
    {
     "data": {
      "text/plain": [
       "'fl'"
      ]
     },
     "execution_count": 52,
     "metadata": {},
     "output_type": "execute_result"
    }
   ],
   "source": [
    "longpref"
   ]
  },
  {
   "cell_type": "code",
   "execution_count": 59,
   "id": "d9c8c341",
   "metadata": {},
   "outputs": [
    {
     "ename": "SyntaxError",
     "evalue": "invalid syntax (3362833170.py, line 1)",
     "output_type": "error",
     "traceback": [
      "\u001b[1;36m  Input \u001b[1;32mIn [59]\u001b[1;36m\u001b[0m\n\u001b[1;33m    print(strs.lambda x:len(x))\u001b[0m\n\u001b[1;37m               ^\u001b[0m\n\u001b[1;31mSyntaxError\u001b[0m\u001b[1;31m:\u001b[0m invalid syntax\n"
     ]
    }
   ],
   "source": [
    "print(strs.lambda x:len(x))"
   ]
  },
  {
   "cell_type": "code",
   "execution_count": 62,
   "id": "dd45c14c",
   "metadata": {},
   "outputs": [],
   "source": [
    "prefix = min(strs, key = len)"
   ]
  },
  {
   "cell_type": "code",
   "execution_count": 64,
   "id": "91ceaee3",
   "metadata": {},
   "outputs": [],
   "source": [
    "for i in strs:\n",
    "    while prefix != i[:len(prefix)]:\n",
    "        prefix = prefix[:-1]"
   ]
  },
  {
   "cell_type": "code",
   "execution_count": 70,
   "id": "546fc76c",
   "metadata": {},
   "outputs": [],
   "source": [
    "stack = [1]"
   ]
  },
  {
   "cell_type": "code",
   "execution_count": 71,
   "id": "7bca4f36",
   "metadata": {},
   "outputs": [
    {
     "name": "stdout",
     "output_type": "stream",
     "text": [
      "True\n"
     ]
    }
   ],
   "source": [
    "if stack:\n",
    "    print(True)"
   ]
  },
  {
   "cell_type": "code",
   "execution_count": 321,
   "id": "588527c8",
   "metadata": {},
   "outputs": [],
   "source": [
    "nums = [2,4,6,4,5,2,5]"
   ]
  },
  {
   "cell_type": "code",
   "execution_count": 114,
   "id": "8f53208f",
   "metadata": {},
   "outputs": [],
   "source": [
    "nums.sort()\n",
    "for i,l in enumerate(nums):\n",
    "    while i+1 < len(nums):\n",
    "        if l == nums[i+1]:\n",
    "            nums.pop(i+1)\n",
    "        else: break"
   ]
  },
  {
   "cell_type": "code",
   "execution_count": 323,
   "id": "e17574d1",
   "metadata": {},
   "outputs": [
    {
     "data": {
      "text/plain": [
       "[2, 4, 6, 4, 5]"
      ]
     },
     "execution_count": 323,
     "metadata": {},
     "output_type": "execute_result"
    }
   ],
   "source": [
    "nums[:5]"
   ]
  },
  {
   "cell_type": "code",
   "execution_count": 322,
   "id": "100ffd36",
   "metadata": {},
   "outputs": [
    {
     "ename": "SyntaxError",
     "evalue": "invalid syntax (3471020031.py, line 1)",
     "output_type": "error",
     "traceback": [
      "\u001b[1;36m  Input \u001b[1;32mIn [322]\u001b[1;36m\u001b[0m\n\u001b[1;33m    nums.pop(1)%%!\u001b[0m\n\u001b[1;37m                ^\u001b[0m\n\u001b[1;31mSyntaxError\u001b[0m\u001b[1;31m:\u001b[0m invalid syntax\n"
     ]
    }
   ],
   "source": [
    "nums.pop(1)%%!"
   ]
  },
  {
   "cell_type": "code",
   "execution_count": 115,
   "id": "b0584445",
   "metadata": {},
   "outputs": [
    {
     "data": {
      "text/plain": [
       "[2, 4, 5, 6]"
      ]
     },
     "execution_count": 115,
     "metadata": {},
     "output_type": "execute_result"
    }
   ],
   "source": [
    "nums"
   ]
  },
  {
   "cell_type": "code",
   "execution_count": 140,
   "id": "8b1da703",
   "metadata": {},
   "outputs": [],
   "source": [
    "s = \"Hello\""
   ]
  },
  {
   "cell_type": "code",
   "execution_count": 120,
   "id": "61d319b9",
   "metadata": {},
   "outputs": [],
   "source": [
    "k = s.split()"
   ]
  },
  {
   "cell_type": "code",
   "execution_count": 121,
   "id": "af524536",
   "metadata": {},
   "outputs": [
    {
     "data": {
      "text/plain": [
       "['Hello', 'World']"
      ]
     },
     "execution_count": 121,
     "metadata": {},
     "output_type": "execute_result"
    }
   ],
   "source": [
    "k"
   ]
  },
  {
   "cell_type": "code",
   "execution_count": 122,
   "id": "1d5f74b5",
   "metadata": {},
   "outputs": [
    {
     "data": {
      "text/plain": [
       "'World'"
      ]
     },
     "execution_count": 122,
     "metadata": {},
     "output_type": "execute_result"
    }
   ],
   "source": [
    "k[-1]"
   ]
  },
  {
   "cell_type": "code",
   "execution_count": 143,
   "id": "33af4b99",
   "metadata": {},
   "outputs": [],
   "source": [
    "end = tlen = len(s)-1\n",
    "while end > 0 and s[end] != ' ':\n",
    "    end -= 1\n",
    "\n",
    "if end != 0:\n",
    "    lwor = tlen - end\n",
    "else:\n",
    "    lwor = tlen - end + 1"
   ]
  },
  {
   "cell_type": "code",
   "execution_count": 144,
   "id": "7484b63d",
   "metadata": {},
   "outputs": [
    {
     "data": {
      "text/plain": [
       "5"
      ]
     },
     "execution_count": 144,
     "metadata": {},
     "output_type": "execute_result"
    }
   ],
   "source": [
    "lwor"
   ]
  },
  {
   "cell_type": "code",
   "execution_count": 173,
   "id": "cc5632a0",
   "metadata": {},
   "outputs": [],
   "source": [
    "bint = [1,2,3,4]"
   ]
  },
  {
   "cell_type": "code",
   "execution_count": 157,
   "id": "ec22ffa7",
   "metadata": {},
   "outputs": [
    {
     "data": {
      "text/plain": [
       "16"
      ]
     },
     "execution_count": 157,
     "metadata": {},
     "output_type": "execute_result"
    }
   ],
   "source": [
    "pow(4,2)"
   ]
  },
  {
   "cell_type": "code",
   "execution_count": 183,
   "id": "bcc22bb4",
   "metadata": {},
   "outputs": [],
   "source": [
    "num = 0\n",
    "for i in range(len(bint)):\n",
    "    num += bint[i] * pow(10, (len(bint)- 1 - i))"
   ]
  },
  {
   "cell_type": "code",
   "execution_count": 175,
   "id": "ff896127",
   "metadata": {},
   "outputs": [],
   "source": [
    "lst = []\n",
    "while num > 0:\n",
    "    lst.append(num%10)\n",
    "    num = num//10"
   ]
  },
  {
   "cell_type": "code",
   "execution_count": 186,
   "id": "b37a5743",
   "metadata": {},
   "outputs": [],
   "source": [
    "lst = [int(i) for i in str(num)]"
   ]
  },
  {
   "cell_type": "code",
   "execution_count": 233,
   "id": "69a23573",
   "metadata": {},
   "outputs": [
    {
     "data": {
      "text/plain": [
       "[1, 2, 3, 4, 5]"
      ]
     },
     "execution_count": 233,
     "metadata": {},
     "output_type": "execute_result"
    }
   ],
   "source": [
    "lst"
   ]
  },
  {
   "cell_type": "code",
   "execution_count": 189,
   "id": "68a011e3",
   "metadata": {},
   "outputs": [
    {
     "name": "stdout",
     "output_type": "stream",
     "text": [
      "f\n",
      "l\n",
      "o\n",
      "w\n",
      "e\n",
      "r\n",
      "s\n"
     ]
    }
   ],
   "source": [
    "for i in st:\n",
    "    print(i)"
   ]
  },
  {
   "cell_type": "code",
   "execution_count": 193,
   "id": "5761f772",
   "metadata": {},
   "outputs": [
    {
     "data": {
      "text/plain": [
       "[5, 1, 2, 3, 4]"
      ]
     },
     "execution_count": 193,
     "metadata": {},
     "output_type": "execute_result"
    }
   ],
   "source": [
    "[5] + lst"
   ]
  },
  {
   "cell_type": "code",
   "execution_count": 245,
   "id": "eb725941",
   "metadata": {},
   "outputs": [],
   "source": [
    "a = str(11)\n",
    "x = 1"
   ]
  },
  {
   "cell_type": "code",
   "execution_count": 230,
   "id": "6a829b25",
   "metadata": {},
   "outputs": [
    {
     "name": "stdout",
     "output_type": "stream",
     "text": [
      "0\n",
      "2\n",
      "---\n",
      "0\n",
      "1\n",
      "---\n",
      "1\n",
      "0\n",
      "---\n"
     ]
    }
   ],
   "source": [
    "while a > 0:\n",
    "    res = a%2\n",
    "    a = a//2\n",
    "    print(res)\n",
    "    print(a)\n",
    "    print('---')"
   ]
  },
  {
   "cell_type": "code",
   "execution_count": 242,
   "id": "b4f11af6",
   "metadata": {},
   "outputs": [],
   "source": [
    "rem = str()"
   ]
  },
  {
   "cell_type": "code",
   "execution_count": 246,
   "id": "3b25afeb",
   "metadata": {},
   "outputs": [],
   "source": [
    "rem = str(x%2) + rem"
   ]
  },
  {
   "cell_type": "code",
   "execution_count": 253,
   "id": "d5b97243",
   "metadata": {},
   "outputs": [],
   "source": [
    "a = '110'"
   ]
  },
  {
   "cell_type": "code",
   "execution_count": 254,
   "id": "5cd13451",
   "metadata": {},
   "outputs": [],
   "source": [
    "b = list(a)"
   ]
  },
  {
   "cell_type": "code",
   "execution_count": 255,
   "id": "350b9bb0",
   "metadata": {},
   "outputs": [
    {
     "data": {
      "text/plain": [
       "'0'"
      ]
     },
     "execution_count": 255,
     "metadata": {},
     "output_type": "execute_result"
    }
   ],
   "source": [
    "b.pop()"
   ]
  },
  {
   "cell_type": "code",
   "execution_count": 318,
   "id": "f05843e2",
   "metadata": {},
   "outputs": [],
   "source": [
    "x = 8"
   ]
  },
  {
   "cell_type": "code",
   "execution_count": 319,
   "id": "ed4ab54f",
   "metadata": {},
   "outputs": [],
   "source": [
    "l, u = 0, x"
   ]
  },
  {
   "cell_type": "code",
   "execution_count": 320,
   "id": "24b1eb93",
   "metadata": {},
   "outputs": [
    {
     "name": "stdout",
     "output_type": "stream",
     "text": [
      "2\n"
     ]
    }
   ],
   "source": [
    "while l <= u:\n",
    "    mid = (l + u) // 2\n",
    "    if mid * mid <= x < (mid+1)*(mid+1):\n",
    "        print(mid)\n",
    "        break\n",
    "    elif mid * mid > x:\n",
    "        u = mid\n",
    "        \n",
    "    else:\n",
    "        l = mid + 1"
   ]
  },
  {
   "cell_type": "code",
   "execution_count": 316,
   "id": "9d1d653b",
   "metadata": {},
   "outputs": [
    {
     "data": {
      "text/plain": [
       "0"
      ]
     },
     "execution_count": 316,
     "metadata": {},
     "output_type": "execute_result"
    }
   ],
   "source": [
    "1//2"
   ]
  },
  {
   "cell_type": "code",
   "execution_count": 304,
   "id": "eb18d19b",
   "metadata": {
    "scrolled": true
   },
   "outputs": [
    {
     "ename": "SyntaxError",
     "evalue": "cannot assign to literal (1389604025.py, line 1)",
     "output_type": "error",
     "traceback": [
      "\u001b[1;36m  Input \u001b[1;32mIn [304]\u001b[1;36m\u001b[0m\n\u001b[1;33m    u = 24, l = 13\u001b[0m\n\u001b[1;37m        ^\u001b[0m\n\u001b[1;31mSyntaxError\u001b[0m\u001b[1;31m:\u001b[0m cannot assign to literal\n"
     ]
    }
   ],
   "source": [
    "u = 24, l = 13"
   ]
  },
  {
   "cell_type": "code",
   "execution_count": null,
   "id": "4122222b",
   "metadata": {},
   "outputs": [],
   "source": []
  }
 ],
 "metadata": {
  "kernelspec": {
   "display_name": "Python 3 (ipykernel)",
   "language": "python",
   "name": "python3"
  },
  "language_info": {
   "codemirror_mode": {
    "name": "ipython",
    "version": 3
   },
   "file_extension": ".py",
   "mimetype": "text/x-python",
   "name": "python",
   "nbconvert_exporter": "python",
   "pygments_lexer": "ipython3",
   "version": "3.9.12"
  }
 },
 "nbformat": 4,
 "nbformat_minor": 5
}
