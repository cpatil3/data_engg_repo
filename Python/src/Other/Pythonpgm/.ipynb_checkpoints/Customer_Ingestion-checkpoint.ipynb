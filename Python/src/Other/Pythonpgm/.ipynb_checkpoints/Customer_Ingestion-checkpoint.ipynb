{
 "cells": [
  {
   "cell_type": "markdown",
   "id": "cb6b85a5-61f5-4f89-b948-b5bcf7acf3e6",
   "metadata": {},
   "source": [
    "**DESC: This module is for ingesting Legacy customer data from \"customers.csv\" file to staging table edw.customer_stg in MYSQL**"
   ]
  },
  {
   "cell_type": "code",
   "execution_count": 86,
   "id": "e3276e9a-bf65-4238-b5ab-9e0559c682e1",
   "metadata": {},
   "outputs": [],
   "source": [
    "#Create connection with MYSQL\n",
    "import mysql.connector\n",
    "from mysql.connector import errorcode\n",
    "\n",
    "#import jason library\n",
    "import json\n",
    "\n",
    "#import pandas library for working with dataframes\n",
    "import pandas as pd\n",
    "\n",
    "#import datetime module for dates manipulation\n",
    "from datetime import datetime"
   ]
  },
  {
   "cell_type": "code",
   "execution_count": 87,
   "id": "87fbd415-c55e-4c1a-b0b2-bbc809493304",
   "metadata": {},
   "outputs": [],
   "source": [
    "def get_config():\n",
    "    config = {}\n",
    "    jfile = open('config.json')\n",
    "    config = json.load(jfile)\n",
    "    \n",
    "    return config"
   ]
  },
  {
   "cell_type": "code",
   "execution_count": 95,
   "id": "a95208f3-e157-4ab3-85ed-f53ca456859f",
   "metadata": {},
   "outputs": [],
   "source": [
    "def setup_connection(config):\n",
    "    '''\n",
    "        This function is to set up connection with MYSQL 'edw' database.\n",
    "        And define a cursor for records processing.|\n",
    "    '''\n",
    "\n",
    "    try:\n",
    "        cnx = mysql.connector.connect(**config)\n",
    "    \n",
    "    except mysql.connector.Error as err:\n",
    "        if err.errno == errorcode.ER_ACCESS_DENIED_ERROR:\n",
    "                print('**ERR: Invalid id or password**')\n",
    "        elif err.errno == errorcode.ER_BAD_DB_ERROR:\n",
    "                print(err.errno)\n",
    "                print('**ERR: Wrong dbname or db does not exists**')\n",
    "        else:\n",
    "                print(err)\n",
    "    else:\n",
    "            print('**MSG: Connection to db successful**')\n",
    "            cursor = cnx.cursor()\n",
    "            return cnx, cursor"
   ]
  },
  {
   "cell_type": "code",
   "execution_count": 89,
   "id": "398f13a0-159b-4e02-916f-e75b0d829b15",
   "metadata": {},
   "outputs": [],
   "source": [
    "def getcsv():\n",
    "    '''\n",
    "        Read the Legacy customer data from customer csv file and build a dataframe.\n",
    "    '''\n",
    "    print('**MSG: Reading customer csv data**')\n",
    "    custdata = pd.read_csv('customers.csv', index_col=False, delimiter=',', parse_dates=['account_date'])\n",
    "    print(custdata.head(2))\n",
    "    return custdata"
   ]
  },
  {
   "cell_type": "code",
   "execution_count": 90,
   "id": "139fd2ca-0dc7-41a9-9026-cf3efc8055e4",
   "metadata": {},
   "outputs": [],
   "source": [
    "def insert_customer(custdata, cnx, cursor):\n",
    "    '''\n",
    "        Set up iterator for all the rows of customer data frame and insert those to edw.customer_stg table\n",
    "    '''\n",
    " \n",
    "    print('**MSG: Inserting data to customer_stg**')\n",
    "    \n",
    "    # count total rows inserted\n",
    "    rcnt = 0          \n",
    "    \n",
    "    for i,row in custdata.iterrows():\n",
    "        add_cust = (\"INSERT INTO `edw`.`customer_stg`\"\n",
    "                        \"(`customeremail`, `firstname`, `lastname`, `city`, `state`, `accountdate`)\"\n",
    "                        \"VALUES (%s, %s, %s, %s, %s, %s)\"\n",
    "                       )\n",
    "\n",
    "        try:\n",
    "                cursor.execute(add_cust,tuple(row))\n",
    "                rcnt = rcnt + 1\n",
    "        except mysql.connector.Error as e:\n",
    "                print('**ERR: Error inserting rows: ', e)\n",
    "    \n",
    "    print('**MSG: Total Rows inserted to customer_stg: ', rcnt)"
   ]
  },
  {
   "cell_type": "code",
   "execution_count": 91,
   "id": "516c6165-4d91-4e8e-b6d8-613b9f0ba8e4",
   "metadata": {},
   "outputs": [],
   "source": [
    "config = get_config()"
   ]
  },
  {
   "cell_type": "code",
   "execution_count": 93,
   "id": "366ea635-0255-48c8-b35c-17f705df9bc4",
   "metadata": {
    "tags": []
   },
   "outputs": [
    {
     "name": "stdout",
     "output_type": "stream",
     "text": [
      "**MSG: Connection to db successful**\n",
      "**MSG: Reading customer csv data**\n",
      "                    email first_name last_name        city state account_date\n",
      "0     alanflack@yahoo.com       Alan     Flack  Sacramento    CA   2019-01-01\n",
      "1  melissaloy@verizon.net    Melissa       Loy   Escondido    CA   2019-01-01\n",
      "**MSG: Inserting data to customer_stg**\n",
      "**MSG: Total Rows inserted to customer_stg:  14542\n"
     ]
    }
   ],
   "source": [
    "cnx, cursor = setup_connection(config)\n",
    "cust_df = getcsv()\n",
    "insert_customer(cust_df, cnx, cursor)"
   ]
  },
  {
   "cell_type": "code",
   "execution_count": 94,
   "id": "32ac01f4-925b-4a83-b9e4-0a89d87ed601",
   "metadata": {},
   "outputs": [],
   "source": [
    "cnx.commit()\n",
    "cursor.close()\n",
    "cnx.close()"
   ]
  },
  {
   "cell_type": "code",
   "execution_count": null,
   "id": "588d9a07-4eb8-4572-860e-ed1f4cb1416a",
   "metadata": {},
   "outputs": [],
   "source": []
  }
 ],
 "metadata": {
  "kernelspec": {
   "display_name": "Python 3",
   "language": "python",
   "name": "python3"
  },
  "language_info": {
   "codemirror_mode": {
    "name": "ipython",
    "version": 3
   },
   "file_extension": ".py",
   "mimetype": "text/x-python",
   "name": "python",
   "nbconvert_exporter": "python",
   "pygments_lexer": "ipython3",
   "version": "3.8.8"
  }
 },
 "nbformat": 4,
 "nbformat_minor": 5
}
