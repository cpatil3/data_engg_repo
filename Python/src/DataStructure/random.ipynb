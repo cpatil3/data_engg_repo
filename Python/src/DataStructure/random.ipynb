{
 "cells": [
  {
   "cell_type": "code",
   "execution_count": 1,
   "id": "1144cd6a-a367-4bd2-a604-a9cfe4a62e96",
   "metadata": {},
   "outputs": [],
   "source": [
    "lst = list()"
   ]
  },
  {
   "cell_type": "code",
   "execution_count": 4,
   "id": "336ccd9e-162f-4c14-8a6f-acf4297d289c",
   "metadata": {},
   "outputs": [],
   "source": [
    "lst = [\"A\", \"B\", \"APPLE\"]"
   ]
  },
  {
   "cell_type": "code",
   "execution_count": 5,
   "id": "1021a847-ae35-4336-a0f8-36d6a910d030",
   "metadata": {},
   "outputs": [],
   "source": [
    "tpl = tuple()"
   ]
  },
  {
   "cell_type": "code",
   "execution_count": 6,
   "id": "01a66433-b7c6-451c-9b1b-18a960cf86c4",
   "metadata": {},
   "outputs": [],
   "source": [
    "tpl = (\"apple\", \"banana\")"
   ]
  },
  {
   "cell_type": "code",
   "execution_count": 7,
   "id": "2a81d30d-488f-4f43-9cda-a9825307a5cf",
   "metadata": {},
   "outputs": [],
   "source": [
    "dic = dict()"
   ]
  },
  {
   "cell_type": "code",
   "execution_count": 10,
   "id": "8d96c1f4-34ed-44d2-af74-fcc31a534a79",
   "metadata": {},
   "outputs": [],
   "source": [
    "dic = {\"k1\":\"Apple\", \"k2\":\"banana\", \"k3\":\"oranges\"}"
   ]
  },
  {
   "cell_type": "code",
   "execution_count": 11,
   "id": "8dcb933c-d269-437e-99dc-ef0d0dc605fe",
   "metadata": {},
   "outputs": [],
   "source": [
    "st1 = set()"
   ]
  },
  {
   "cell_type": "code",
   "execution_count": 12,
   "id": "51647572-3f29-487c-aab1-3c06f4f330e8",
   "metadata": {},
   "outputs": [],
   "source": [
    "st1 = {\"chetan\", \"harshita\", \"patil\"}"
   ]
  },
  {
   "cell_type": "code",
   "execution_count": 13,
   "id": "53210b5e-93c3-49b4-a3e7-abae90c8cc32",
   "metadata": {},
   "outputs": [],
   "source": [
    "dic[\"k4\"] = 5"
   ]
  },
  {
   "cell_type": "code",
   "execution_count": 14,
   "id": "d2258f1f-023f-4dc3-9457-61190ab56835",
   "metadata": {},
   "outputs": [
    {
     "data": {
      "text/plain": [
       "{'k1': 'Apple', 'k2': 'banana', 'k3': 'oranges', 'k4': 5}"
      ]
     },
     "execution_count": 14,
     "metadata": {},
     "output_type": "execute_result"
    }
   ],
   "source": [
    "dic"
   ]
  },
  {
   "cell_type": "code",
   "execution_count": 1,
   "id": "fc7de862-e7d4-4248-933f-2c56f3270796",
   "metadata": {},
   "outputs": [],
   "source": [
    "A = [1,4,9]"
   ]
  },
  {
   "cell_type": "code",
   "execution_count": 2,
   "id": "216cf27e-2cac-4df0-a3c6-4f9014bf0520",
   "metadata": {},
   "outputs": [],
   "source": [
    "s = ''.join(map(str,A))"
   ]
  },
  {
   "cell_type": "code",
   "execution_count": 3,
   "id": "9930ca35-6740-418b-931f-3dd1fab614c7",
   "metadata": {},
   "outputs": [
    {
     "data": {
      "text/plain": [
       "'149'"
      ]
     },
     "execution_count": 3,
     "metadata": {},
     "output_type": "execute_result"
    }
   ],
   "source": [
    "s"
   ]
  },
  {
   "cell_type": "code",
   "execution_count": 6,
   "id": "99d7f3c9-da37-4118-863c-1d5271e1374c",
   "metadata": {},
   "outputs": [
    {
     "name": "stdout",
     "output_type": "stream",
     "text": [
      "4\n",
      "3\n",
      "2\n",
      "1\n"
     ]
    }
   ],
   "source": [
    "for i in reversed(range(1,5)):\n",
    "    print(i)"
   ]
  },
  {
   "cell_type": "code",
   "execution_count": 69,
   "id": "31b8202a-8dba-4297-a95f-ef3199faa245",
   "metadata": {},
   "outputs": [],
   "source": [
    "A = -124\n",
    "tmp = A\n",
    "#-- ls = []\n",
    "rem = 1\n",
    "rvrsnum = 0"
   ]
  },
  {
   "cell_type": "code",
   "execution_count": 70,
   "id": "5e39e446-fe49-44c7-863b-db7bf00c7c1e",
   "metadata": {},
   "outputs": [],
   "source": [
    "while tmp > 0:\n",
    "    lastdigit = tmp % 10\n",
    "    rvrsnum = rvrsnum * 10 + lastdigit\n",
    "    #ls.append(rem)\n",
    "    tmp = tmp//10"
   ]
  },
  {
   "cell_type": "code",
   "execution_count": 26,
   "id": "697ff285-4ef4-41cd-9037-9aa1dc2160ba",
   "metadata": {},
   "outputs": [
    {
     "data": {
      "text/plain": [
       "0"
      ]
     },
     "execution_count": 26,
     "metadata": {},
     "output_type": "execute_result"
    }
   ],
   "source": [
    "1//10"
   ]
  },
  {
   "cell_type": "code",
   "execution_count": 54,
   "id": "57bc2bc6-2b08-4d52-a0ea-8ea4564a1e6e",
   "metadata": {},
   "outputs": [
    {
     "data": {
      "text/plain": [
       "False"
      ]
     },
     "execution_count": 54,
     "metadata": {},
     "output_type": "execute_result"
    }
   ],
   "source": [
    "ls[::-1] == ls"
   ]
  },
  {
   "cell_type": "code",
   "execution_count": 71,
   "id": "f6f0b63e-364a-4395-9f25-ef7e391616a4",
   "metadata": {},
   "outputs": [
    {
     "data": {
      "text/plain": [
       "0"
      ]
     },
     "execution_count": 71,
     "metadata": {},
     "output_type": "execute_result"
    }
   ],
   "source": [
    "rvrsnum"
   ]
  },
  {
   "cell_type": "code",
   "execution_count": 72,
   "id": "e3a3b0d9-c2ca-4224-b5c6-0f0de19f04a0",
   "metadata": {},
   "outputs": [],
   "source": [
    "class Solution:\n",
    "    def isPalindrome(self, x: int) -> bool:\n",
    "        y = x\n",
    "        rem = 0\n",
    "        ls = []\n",
    "        \n",
    "        while y > 0:\n",
    "            rem = y % 10\n",
    "            ls.append(rem)\n",
    "            y = y//10\n",
    "        \n",
    "        return ls == ls[::-1]"
   ]
  },
  {
   "cell_type": "code",
   "execution_count": 75,
   "id": "f4f0ec37-8a5b-4389-930e-e10e305864f1",
   "metadata": {},
   "outputs": [],
   "source": [
    "def ispalin(A):\n",
    "    return str(A)"
   ]
  },
  {
   "cell_type": "code",
   "execution_count": 76,
   "id": "d1cc2b5a-0678-4d6f-a8a8-2b64d41ae8c4",
   "metadata": {},
   "outputs": [],
   "source": [
    "p = ispalin(A)"
   ]
  },
  {
   "cell_type": "code",
   "execution_count": 77,
   "id": "3e500534-d39a-4f21-be3f-a54355a87210",
   "metadata": {},
   "outputs": [
    {
     "data": {
      "text/plain": [
       "'-124'"
      ]
     },
     "execution_count": 77,
     "metadata": {},
     "output_type": "execute_result"
    }
   ],
   "source": [
    "p"
   ]
  },
  {
   "cell_type": "code",
   "execution_count": 78,
   "id": "03a43d26-b8f7-4fee-99ba-cc66e88c2008",
   "metadata": {},
   "outputs": [],
   "source": [
    "st = \"flower\""
   ]
  },
  {
   "cell_type": "code",
   "execution_count": 102,
   "id": "0b2eda3b-4e0d-4d38-89fd-ec70d53fd776",
   "metadata": {},
   "outputs": [
    {
     "data": {
      "text/plain": [
       "'flow'"
      ]
     },
     "execution_count": 102,
     "metadata": {},
     "output_type": "execute_result"
    }
   ],
   "source": [
    "st[:4]"
   ]
  },
  {
   "cell_type": "code",
   "execution_count": 92,
   "id": "cb692d1f-af77-41dd-8a32-3d4705e5999d",
   "metadata": {},
   "outputs": [],
   "source": [
    "st1 = st[:-1]"
   ]
  },
  {
   "cell_type": "code",
   "execution_count": 93,
   "id": "5339215a-462f-4825-af35-eb5adfc9a3de",
   "metadata": {},
   "outputs": [
    {
     "data": {
      "text/plain": [
       "'flowe'"
      ]
     },
     "execution_count": 93,
     "metadata": {},
     "output_type": "execute_result"
    }
   ],
   "source": [
    "st1"
   ]
  },
  {
   "cell_type": "code",
   "execution_count": 105,
   "id": "bed02451-eadb-4234-af38-b1e5c7774ba5",
   "metadata": {},
   "outputs": [],
   "source": [
    "rdit = {\"I\":1, \"IV\":4, \"V\":5, \"IX\":9, \"X\":10, \"XL\":40, \"L\": 50, \"XC\":90, \"C\":100, \"CD\":400, \"D\":500, \"CM\":900, \"M\":1000}"
   ]
  },
  {
   "cell_type": "code",
   "execution_count": 109,
   "id": "f72d2b2f-480b-46f5-901d-c15efc2d64b7",
   "metadata": {},
   "outputs": [],
   "source": [
    "s = \"IVI\""
   ]
  },
  {
   "cell_type": "code",
   "execution_count": 113,
   "id": "445c84a9-5461-4dda-a036-e0cd6f6ea870",
   "metadata": {},
   "outputs": [
    {
     "data": {
      "text/plain": [
       "4"
      ]
     },
     "execution_count": 113,
     "metadata": {},
     "output_type": "execute_result"
    }
   ],
   "source": [
    "rdit[s[0]+s[1]]"
   ]
  },
  {
   "cell_type": "code",
   "execution_count": 110,
   "id": "602ba12d-4330-4537-ab11-13adbd70f576",
   "metadata": {},
   "outputs": [
    {
     "data": {
      "text/plain": [
       "'I'"
      ]
     },
     "execution_count": 110,
     "metadata": {},
     "output_type": "execute_result"
    }
   ],
   "source": [
    "s[0]"
   ]
  },
  {
   "cell_type": "code",
   "execution_count": 123,
   "id": "4c2d5001-8fd0-46a5-ae3f-cd7fcc1b3bc8",
   "metadata": {},
   "outputs": [
    {
     "ename": "NameError",
     "evalue": "name 'I' is not defined",
     "output_type": "error",
     "traceback": [
      "\u001b[1;31m---------------------------------------------------------------------------\u001b[0m",
      "\u001b[1;31mNameError\u001b[0m                                 Traceback (most recent call last)",
      "Input \u001b[1;32mIn [123]\u001b[0m, in \u001b[0;36m<cell line: 1>\u001b[1;34m()\u001b[0m\n\u001b[1;32m----> 1\u001b[0m A \u001b[38;5;241m=\u001b[39m \u001b[43mI\u001b[49m\n",
      "\u001b[1;31mNameError\u001b[0m: name 'I' is not defined"
     ]
    }
   ],
   "source": [
    "A = I"
   ]
  },
  {
   "cell_type": "code",
   "execution_count": 131,
   "id": "b7ef71c9-e8a0-473a-bf18-07079b2ce23e",
   "metadata": {},
   "outputs": [],
   "source": [
    "def romanToInt(s: str) -> int:\n",
    "        rdit = {\"I\":1, \"IV\":4, \"V\":5, \"IX\":9, \"X\":10, \"XL\":40, \"L\": 50, \"XC\":90, \"C\":100, \"CD\":400, \"D\":500, \"CM\":900, \"M\":1000}\n",
    "        onum = 0\n",
    "        \n",
    "        for i in range(len(s)):\n",
    "            if i+1 < len(s) and s[i]+s[i+1] in rdit:\n",
    "                onum = onum + rdit[s[i]+s[i+1]]\n",
    "                print(\"two at time: \" + str(onum))\n",
    "            else:\n",
    "                onum = onum + rdit[s[i]]\n",
    "                print(\"Single: \" + str(onum))\n",
    "        \n",
    "        return onum"
   ]
  },
  {
   "cell_type": "code",
   "execution_count": 132,
   "id": "ae443bec-3e2d-4388-9d7e-377933be0bfa",
   "metadata": {},
   "outputs": [
    {
     "name": "stdout",
     "output_type": "stream",
     "text": [
      "Single: 500\n",
      "two at time: 540\n",
      "Single: 590\n",
      "two at time: 599\n",
      "Single: 609\n"
     ]
    }
   ],
   "source": [
    "res = romanToInt(\"DXLIX\")"
   ]
  },
  {
   "cell_type": "code",
   "execution_count": 135,
   "id": "19ce832f-2601-4b56-a590-25e8be36b329",
   "metadata": {},
   "outputs": [
    {
     "name": "stdout",
     "output_type": "stream",
     "text": [
      "0\n",
      "1\n",
      "3\n",
      "3\n"
     ]
    }
   ],
   "source": [
    "for i in range(4):\n",
    "    \n",
    "    if i == 2:\n",
    "        i +=1\n",
    "    print(i)"
   ]
  },
  {
   "cell_type": "code",
   "execution_count": null,
   "id": "b01d12f1-c6ac-4bb3-88b2-858c1484c965",
   "metadata": {},
   "outputs": [],
   "source": []
  }
 ],
 "metadata": {
  "kernelspec": {
   "display_name": "Python 3 (ipykernel)",
   "language": "python",
   "name": "python3"
  },
  "language_info": {
   "codemirror_mode": {
    "name": "ipython",
    "version": 3
   },
   "file_extension": ".py",
   "mimetype": "text/x-python",
   "name": "python",
   "nbconvert_exporter": "python",
   "pygments_lexer": "ipython3",
   "version": "3.9.12"
  }
 },
 "nbformat": 4,
 "nbformat_minor": 5
}
