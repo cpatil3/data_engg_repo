{
 "cells": [
  {
   "cell_type": "code",
   "execution_count": 34,
   "id": "fd63627d-9b64-4030-892a-8afe14bb315b",
   "metadata": {},
   "outputs": [],
   "source": [
    "#Create connection with MYSQL\n",
    "import mysql.connector\n",
    "from mysql.connector import errorcode\n",
    "\n",
    "#import jason library\n",
    "import json\n",
    "\n",
    "#import pandas library for working with dataframes\n",
    "import pandas as pd\n",
    "\n",
    "#import datetime module for dates manipulation\n",
    "from datetime import datetime"
   ]
  },
  {
   "cell_type": "code",
   "execution_count": 35,
   "id": "a548873a-4027-43ba-b25b-cc0618b2a6d2",
   "metadata": {},
   "outputs": [],
   "source": [
    "def get_config():\n",
    "    config = {} #setup dictionary\n",
    "    jfile = open('config.json')\n",
    "    config = json.load(jfile)\n",
    "    \n",
    "    return config"
   ]
  },
  {
   "cell_type": "code",
   "execution_count": 36,
   "id": "db7ae201-f119-49f0-ae76-b071e2096e53",
   "metadata": {},
   "outputs": [],
   "source": [
    "config = get_config()"
   ]
  },
  {
   "cell_type": "code",
   "execution_count": 37,
   "id": "2b8dd156-36cd-4879-b99f-8df647c9e240",
   "metadata": {},
   "outputs": [],
   "source": [
    "def setup_connection(config):\n",
    "    '''\n",
    "        This function is to set up connection with MYSQL 'edw' database.\n",
    "        And define a cursor for records processing.|\n",
    "    '''\n",
    "\n",
    "    try:\n",
    "        cnx = mysql.connector.connect(**config)\n",
    "    \n",
    "    except mysql.connector.Error as err:\n",
    "        if err.errno == errorcode.ER_ACCESS_DENIED_ERROR:\n",
    "                print('**ERR: Invalid id or password**')\n",
    "        elif err.errno == errorcode.ER_BAD_DB_ERROR:\n",
    "                print(err.errno)\n",
    "                print('**ERR: Wrong dbname or db does not exists**')\n",
    "        else:\n",
    "                print(err)\n",
    "    else:\n",
    "            print('**MSG: Connection to db successful**')\n",
    "            cursor = cnx.cursor()\n",
    "            return cnx, cursor"
   ]
  },
  {
   "cell_type": "code",
   "execution_count": 38,
   "id": "ac89b4bd-8038-42ac-97c2-2aac0e9acc7e",
   "metadata": {},
   "outputs": [],
   "source": [
    "def getcsv():\n",
    "    '''\n",
    "        Read the Legacy customer data from customer csv file and build a dataframe.\n",
    "    '''\n",
    "    print('**MSG: Reading customer csv data**')\n",
    "    trandata = pd.read_csv('additional_transactions.csv', index_col=False, delimiter=',', parse_dates=['date'])\n",
    "    print(trandata.head(2))\n",
    "    return trandata"
   ]
  },
  {
   "cell_type": "code",
   "execution_count": 39,
   "id": "5665b51d-fa3a-43ff-8b53-9b39912fad21",
   "metadata": {},
   "outputs": [
    {
     "name": "stdout",
     "output_type": "stream",
     "text": [
      "**MSG: Connection to db successful**\n"
     ]
    }
   ],
   "source": [
    "cnx, cursor = setup_connection(config)"
   ]
  },
  {
   "cell_type": "code",
   "execution_count": 30,
   "id": "930d83b3-7994-4ad5-97ac-ea47e29a210f",
   "metadata": {},
   "outputs": [
    {
     "name": "stdout",
     "output_type": "stream",
     "text": [
      "**MSG: Reading customer csv data**\n",
      "                 date             email        txn_id        item_id  qty  \\\n",
      "0 2021-12-08 14:23:33   KCrum@gmail.com  T-8O1GQQY3I9   CADETBLUE-1P    4   \n",
      "1 2021-12-06 05:17:55  dsmith@yahoo.com  T-047QQ8F3QG  SANDYBROWN-2Q    3   \n",
      "\n",
      "         color        size  price  \n",
      "0   Cadet Blue      1 Pint  12.80  \n",
      "1  Sandy Brown  1/2 Gallon  34.56  \n"
     ]
    }
   ],
   "source": [
    "tran_df = getcsv()"
   ]
  },
  {
   "cell_type": "code",
   "execution_count": 40,
   "id": "a2caf7bc-a207-436e-9003-df96658f3a64",
   "metadata": {},
   "outputs": [],
   "source": [
    "def insert_tran(cnx, cursor, trandata):\n",
    "\n",
    "    print('**MSG: Inserting data to customer_stg**')\n",
    "    \n",
    "    # count total rows inserted\n",
    "    rcnt = 0          \n",
    "    \n",
    "    for i,row in trandata.iterrows():\n",
    "\n",
    "        add_tran = (\"INSERT INTO `edw`.`transaction_stg` \"\n",
    "                   \"(`tranid`, `customer_email`, `order_date`, `line_num`, `product`, `quantity`, `color`, `item_size`, `total_price`)\"\n",
    "                   \"VALUES (%(tranid)s, %(customer_email)s, %(order_date)s, %(line_num)s, %(product)s, %(quantity)s, %(color)s, %(item_size)s, %(total_price)s)\"\n",
    "                )\n",
    "        try:\n",
    "                data_tran = {\"tranid\": row.txn_id, \"customer_email\": row.email, \"order_date\": row.date,\n",
    "                             \"line_num\": 1, \"product\": row.item_id, \"quantity\": row.qty, \n",
    "                             \"color\": row.color, \"item_size\": row.size, \n",
    "                             \"total_price\": row.price\n",
    "                            }\n",
    "                cursor.execute(add_tran,data_tran)\n",
    "                rcnt = rcnt + 1\n",
    "                prv_tran = trandata.txn_id\n",
    "        except mysql.connector.Error as e:\n",
    "                print('**ERR: Error inserting rows: ', e)\n",
    "                cnx.commit()\n",
    "                cursor.close()\n",
    "                cnx.close()\n",
    "    \n",
    "    print('**MSG: Total Rows inserted to customer_stg: ', rcnt)"
   ]
  },
  {
   "cell_type": "code",
   "execution_count": 41,
   "id": "86087538-2455-4fd3-aec9-5b134c231839",
   "metadata": {},
   "outputs": [
    {
     "name": "stdout",
     "output_type": "stream",
     "text": [
      "**MSG: Inserting data to customer_stg**\n",
      "**MSG: Total Rows inserted to customer_stg:  236\n"
     ]
    }
   ],
   "source": [
    "insert_tran(cnx,cursor,tran_df)"
   ]
  },
  {
   "cell_type": "code",
   "execution_count": 42,
   "id": "ee4996a0-59b3-4ce5-b650-69f6a5cec83f",
   "metadata": {},
   "outputs": [],
   "source": [
    "cnx.commit()\n",
    "cursor.close()\n",
    "cnx.close()"
   ]
  },
  {
   "cell_type": "code",
   "execution_count": null,
   "id": "b2565625-73a2-4231-9965-2aae38005b4b",
   "metadata": {},
   "outputs": [],
   "source": []
  }
 ],
 "metadata": {
  "kernelspec": {
   "display_name": "Python 3 (ipykernel)",
   "language": "python",
   "name": "python3"
  },
  "language_info": {
   "codemirror_mode": {
    "name": "ipython",
    "version": 3
   },
   "file_extension": ".py",
   "mimetype": "text/x-python",
   "name": "python",
   "nbconvert_exporter": "python",
   "pygments_lexer": "ipython3",
   "version": "3.9.12"
  }
 },
 "nbformat": 4,
 "nbformat_minor": 5
}
