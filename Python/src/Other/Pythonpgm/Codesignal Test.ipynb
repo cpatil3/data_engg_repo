{
 "cells": [
  {
   "cell_type": "code",
   "execution_count": 3,
   "id": "11749e02",
   "metadata": {},
   "outputs": [],
   "source": [
    "xs = [()]"
   ]
  },
  {
   "cell_type": "code",
   "execution_count": 18,
   "id": "0b47a405",
   "metadata": {},
   "outputs": [],
   "source": [
    "import timeit"
   ]
  },
  {
   "cell_type": "code",
   "execution_count": 4,
   "id": "2e252cc4",
   "metadata": {},
   "outputs": [
    {
     "name": "stdout",
     "output_type": "stream",
     "text": [
      "Hello\n"
     ]
    }
   ],
   "source": [
    "if xs:\n",
    "    print('Hello')"
   ]
  },
  {
   "cell_type": "code",
   "execution_count": 6,
   "id": "54274b78",
   "metadata": {},
   "outputs": [],
   "source": [
    "## Interval notifications --\n",
    "## [] brackets indicates <= and >=\n",
    "## () brackets indicatess < and >\n",
    "## 1 <= x >5 can be written as [1,5)"
   ]
  },
  {
   "cell_type": "code",
   "execution_count": 43,
   "id": "93637678",
   "metadata": {},
   "outputs": [],
   "source": [
    "def sqrng(x, y, l, r):\n",
    "    start_time = timeit.default_timer()\n",
    "    \n",
    "##    if l < x**y <= r:\n",
    "    if x**y < l and x**y >= r:\n",
    "##    if x**y in range(l + 1, r + 1):\n",
    "        end_time = timeit.default_timer()\n",
    "        dur_time = end_time - start_time\n",
    "        print(\"Program Executed in \"+str(dur_time))\n",
    "        return True\n",
    "    else:\n",
    "        end_time = timeit.default_timer()\n",
    "        dur_time = end_time - start_time\n",
    "        print(\"Program Executed in \"+str(dur_time))\n",
    "        return False"
   ]
  },
  {
   "cell_type": "code",
   "execution_count": 41,
   "id": "11fd5539",
   "metadata": {},
   "outputs": [
    {
     "name": "stdout",
     "output_type": "stream",
     "text": [
      "Program Executed in 2.999999651365215e-06\n"
     ]
    },
    {
     "data": {
      "text/plain": [
       "True"
      ]
     },
     "execution_count": 41,
     "metadata": {},
     "output_type": "execute_result"
    }
   ],
   "source": [
    "sqrng(12,12,10,8916100448270)"
   ]
  },
  {
   "cell_type": "code",
   "execution_count": 50,
   "id": "929301c9",
   "metadata": {},
   "outputs": [
    {
     "name": "stdout",
     "output_type": "stream",
     "text": [
      "Program Executed in 2.2999997781880666e-06\n"
     ]
    },
    {
     "data": {
      "text/plain": [
       "False"
      ]
     },
     "execution_count": 50,
     "metadata": {},
     "output_type": "execute_result"
    }
   ],
   "source": [
    "sqrng(12,12,10,8916100448270)"
   ]
  },
  {
   "cell_type": "code",
   "execution_count": 25,
   "id": "b8f97893",
   "metadata": {},
   "outputs": [
    {
     "name": "stdout",
     "output_type": "stream",
     "text": [
      "Program Executed in 3.900000137946336e-06\n"
     ]
    },
    {
     "data": {
      "text/plain": [
       "False"
      ]
     },
     "execution_count": 25,
     "metadata": {},
     "output_type": "execute_result"
    }
   ],
   "source": [
    "sqrng(2,2,1,1)"
   ]
  },
  {
   "cell_type": "code",
   "execution_count": 35,
   "id": "c52c4848",
   "metadata": {},
   "outputs": [
    {
     "data": {
      "text/plain": [
       "8916100448256"
      ]
     },
     "execution_count": 35,
     "metadata": {},
     "output_type": "execute_result"
    }
   ],
   "source": [
    "12**12"
   ]
  },
  {
   "cell_type": "code",
   "execution_count": 56,
   "id": "8361985c",
   "metadata": {},
   "outputs": [],
   "source": [
    "a = False\n",
    "b = True"
   ]
  },
  {
   "cell_type": "code",
   "execution_count": 57,
   "id": "3c7d39fd",
   "metadata": {},
   "outputs": [
    {
     "data": {
      "text/plain": [
       "True"
      ]
     },
     "execution_count": 57,
     "metadata": {},
     "output_type": "execute_result"
    }
   ],
   "source": [
    "not a == b"
   ]
  },
  {
   "cell_type": "code",
   "execution_count": 58,
   "id": "b4d7c61a",
   "metadata": {},
   "outputs": [
    {
     "data": {
      "text/plain": [
       "True"
      ]
     },
     "execution_count": 58,
     "metadata": {},
     "output_type": "execute_result"
    }
   ],
   "source": [
    "not (a==b)"
   ]
  },
  {
   "cell_type": "code",
   "execution_count": 60,
   "id": "c5abc4a2",
   "metadata": {},
   "outputs": [
    {
     "data": {
      "text/plain": [
       "True"
      ]
     },
     "execution_count": 60,
     "metadata": {},
     "output_type": "execute_result"
    }
   ],
   "source": [
    "a == (not b)"
   ]
  },
  {
   "cell_type": "code",
   "execution_count": 15,
   "id": "3904e402",
   "metadata": {},
   "outputs": [],
   "source": [
    "x = 10\n",
    "y = 3"
   ]
  },
  {
   "cell_type": "code",
   "execution_count": 16,
   "id": "116f330e",
   "metadata": {},
   "outputs": [
    {
     "data": {
      "text/plain": [
       "3.3333333333333335"
      ]
     },
     "execution_count": 16,
     "metadata": {},
     "output_type": "execute_result"
    }
   ],
   "source": [
    "x/y"
   ]
  },
  {
   "cell_type": "code",
   "execution_count": 28,
   "id": "78481ec9",
   "metadata": {},
   "outputs": [],
   "source": [
    "n = int(10)"
   ]
  },
  {
   "cell_type": "code",
   "execution_count": 27,
   "id": "3ad2f59c",
   "metadata": {},
   "outputs": [
    {
     "data": {
      "text/plain": [
       "10"
      ]
     },
     "execution_count": 27,
     "metadata": {},
     "output_type": "execute_result"
    }
   ],
   "source": [
    "n"
   ]
  },
  {
   "cell_type": "code",
   "execution_count": 26,
   "id": "7e4de52a",
   "metadata": {},
   "outputs": [
    {
     "data": {
      "text/plain": [
       "4"
      ]
     },
     "execution_count": 26,
     "metadata": {},
     "output_type": "execute_result"
    }
   ],
   "source": [
    "n.bit_length()"
   ]
  },
  {
   "cell_type": "code",
   "execution_count": 29,
   "id": "776af2c8",
   "metadata": {},
   "outputs": [],
   "source": [
    "if n is int:\n",
    "  print(\"True\")"
   ]
  },
  {
   "cell_type": "code",
   "execution_count": 40,
   "id": "d3c7b05e",
   "metadata": {},
   "outputs": [],
   "source": [
    "def solution(n):\n",
    "    if type(n) is int:\n",
    "        print(True)\n",
    "    else:\n",
    "        print(False)"
   ]
  },
  {
   "cell_type": "code",
   "execution_count": 44,
   "id": "3132acba",
   "metadata": {},
   "outputs": [
    {
     "name": "stdout",
     "output_type": "stream",
     "text": [
      "False\n"
     ]
    }
   ],
   "source": [
    "solution(10.2)"
   ]
  },
  {
   "cell_type": "code",
   "execution_count": 71,
   "id": "d3728df5",
   "metadata": {},
   "outputs": [],
   "source": [
    "arr = [2,4,1,5]"
   ]
  },
  {
   "cell_type": "code",
   "execution_count": 66,
   "id": "31e03c8e",
   "metadata": {},
   "outputs": [],
   "source": [
    "arr[0],arr[1] = arr[1],arr[0]"
   ]
  },
  {
   "cell_type": "code",
   "execution_count": 63,
   "id": "639c22ac",
   "metadata": {},
   "outputs": [],
   "source": [
    "arr.sort()"
   ]
  },
  {
   "cell_type": "code",
   "execution_count": 67,
   "id": "0f4d2233",
   "metadata": {},
   "outputs": [
    {
     "data": {
      "text/plain": [
       "[4, 2, 1, 5]"
      ]
     },
     "execution_count": 67,
     "metadata": {},
     "output_type": "execute_result"
    }
   ],
   "source": [
    "arr"
   ]
  },
  {
   "cell_type": "code",
   "execution_count": 73,
   "id": "a6cf66f2",
   "metadata": {},
   "outputs": [],
   "source": [
    "def srtarr(ar):\n",
    "    for i in range(len(ar)):\n",
    "        if i+1 < len(ar) and ar[i] > ar[i+1]:\n",
    "            ar[i],ar[i+1] = ar[i+1],ar[i]\n",
    "    return ar"
   ]
  },
  {
   "cell_type": "code",
   "execution_count": 74,
   "id": "19770cd8",
   "metadata": {},
   "outputs": [
    {
     "data": {
      "text/plain": [
       "[1, 2, 4, 5]"
      ]
     },
     "execution_count": 74,
     "metadata": {},
     "output_type": "execute_result"
    }
   ],
   "source": [
    "srtarr(arr)"
   ]
  },
  {
   "cell_type": "code",
   "execution_count": 75,
   "id": "862cebed",
   "metadata": {},
   "outputs": [
    {
     "ename": "TypeError",
     "evalue": "int() can't convert non-string with explicit base",
     "output_type": "error",
     "traceback": [
      "\u001b[1;31m---------------------------------------------------------------------------\u001b[0m",
      "\u001b[1;31mTypeError\u001b[0m                                 Traceback (most recent call last)",
      "Input \u001b[1;32mIn [75]\u001b[0m, in \u001b[0;36m<cell line: 2>\u001b[1;34m()\u001b[0m\n\u001b[0;32m      1\u001b[0m \u001b[38;5;66;03m## convert n base x to hexa ('x')\u001b[39;00m\n\u001b[1;32m----> 2\u001b[0m \u001b[38;5;28mformat\u001b[39m(\u001b[38;5;28;43mint\u001b[39;49m\u001b[43m(\u001b[49m\u001b[43mn\u001b[49m\u001b[43m,\u001b[49m\u001b[43m \u001b[49m\u001b[43mx\u001b[49m\u001b[43m)\u001b[49m, \u001b[38;5;124m'\u001b[39m\u001b[38;5;124mx\u001b[39m\u001b[38;5;124m'\u001b[39m)\n",
      "\u001b[1;31mTypeError\u001b[0m: int() can't convert non-string with explicit base"
     ]
    }
   ],
   "source": [
    "## convert n base x to hexa ('x')\n",
    "format(int(n, x), 'x')"
   ]
  },
  {
   "cell_type": "code",
   "execution_count": 81,
   "id": "14f77856",
   "metadata": {},
   "outputs": [],
   "source": [
    "a = [3, 4, 2, 4, 38, 4, 5, 3, 2]"
   ]
  },
  {
   "cell_type": "code",
   "execution_count": 77,
   "id": "d07da4ee",
   "metadata": {},
   "outputs": [
    {
     "data": {
      "text/plain": [
       "[3, 4, 2, 4, 38, 4, 5, 3, 2]"
      ]
     },
     "execution_count": 77,
     "metadata": {},
     "output_type": "execute_result"
    }
   ],
   "source": [
    "a[:]"
   ]
  },
  {
   "cell_type": "code",
   "execution_count": 85,
   "id": "68a85912",
   "metadata": {},
   "outputs": [
    {
     "data": {
      "text/plain": [
       "2"
      ]
     },
     "execution_count": 85,
     "metadata": {},
     "output_type": "execute_result"
    }
   ],
   "source": [
    "a.pop(-1)"
   ]
  },
  {
   "cell_type": "code",
   "execution_count": 86,
   "id": "81a71382",
   "metadata": {},
   "outputs": [
    {
     "data": {
      "text/plain": [
       "[2, 4, 38, 4, 5, 3]"
      ]
     },
     "execution_count": 86,
     "metadata": {},
     "output_type": "execute_result"
    }
   ],
   "source": [
    "a"
   ]
  },
  {
   "cell_type": "code",
   "execution_count": 87,
   "id": "7d27887b",
   "metadata": {},
   "outputs": [],
   "source": [
    "a = a[1:-1]"
   ]
  },
  {
   "cell_type": "code",
   "execution_count": 88,
   "id": "60f78175",
   "metadata": {},
   "outputs": [
    {
     "data": {
      "text/plain": [
       "[4, 38, 4, 5]"
      ]
     },
     "execution_count": 88,
     "metadata": {},
     "output_type": "execute_result"
    }
   ],
   "source": [
    "a"
   ]
  },
  {
   "cell_type": "code",
   "execution_count": 93,
   "id": "2e1d74eb",
   "metadata": {},
   "outputs": [],
   "source": [
    "s = '''a'''"
   ]
  },
  {
   "cell_type": "code",
   "execution_count": 94,
   "id": "c31fd73c",
   "metadata": {},
   "outputs": [],
   "source": [
    "x = \"\"\"b\"\"\""
   ]
  },
  {
   "cell_type": "code",
   "execution_count": 126,
   "id": "e0d7a545",
   "metadata": {},
   "outputs": [],
   "source": [
    "mes = \"you\\tbelong HERE 'CHR' 007\""
   ]
  },
  {
   "cell_type": "code",
   "execution_count": 105,
   "id": "ba0aa7f0",
   "metadata": {},
   "outputs": [
    {
     "data": {
      "text/plain": [
       "\"You belong here 'chr' 007\""
      ]
     },
     "execution_count": 105,
     "metadata": {},
     "output_type": "execute_result"
    }
   ],
   "source": [
    "mes.capitalize()"
   ]
  },
  {
   "cell_type": "code",
   "execution_count": 113,
   "id": "42b46cc1",
   "metadata": {},
   "outputs": [
    {
     "data": {
      "text/plain": [
       "['you', 'belong', 'HERE', \"'CHR'\", '007']"
      ]
     },
     "execution_count": 113,
     "metadata": {},
     "output_type": "execute_result"
    }
   ],
   "source": [
    "mes.split()"
   ]
  },
  {
   "cell_type": "code",
   "execution_count": 121,
   "id": "41e70852",
   "metadata": {},
   "outputs": [
    {
     "data": {
      "text/plain": [
       "\"you belong HERE 'CHR' 007\""
      ]
     },
     "execution_count": 121,
     "metadata": {},
     "output_type": "execute_result"
    }
   ],
   "source": [
    "\" \".join(mes.split())"
   ]
  },
  {
   "cell_type": "code",
   "execution_count": 128,
   "id": "d2d2a296",
   "metadata": {},
   "outputs": [
    {
     "data": {
      "text/plain": [
       "\"you    belong HERE 'CHR' 007\""
      ]
     },
     "execution_count": 128,
     "metadata": {},
     "output_type": "execute_result"
    }
   ],
   "source": [
    "mes.replace('\\t',4*' ')"
   ]
  },
  {
   "cell_type": "code",
   "execution_count": 1,
   "id": "d2a4b3f7",
   "metadata": {},
   "outputs": [],
   "source": [
    "key = 'xyjcdeg'"
   ]
  },
  {
   "cell_type": "code",
   "execution_count": 9,
   "id": "2062362e-2f03-4cf0-b3b1-d0476c653f28",
   "metadata": {},
   "outputs": [],
   "source": [
    "table = str.maketrans(\"abcdefg\", key)"
   ]
  },
  {
   "cell_type": "code",
   "execution_count": 10,
   "id": "d1a3ba54-8411-427d-a4c3-220af587767b",
   "metadata": {},
   "outputs": [
    {
     "data": {
      "text/plain": [
       "{97: 120, 98: 121, 99: 106, 100: 99, 101: 100, 102: 101, 103: 103}"
      ]
     },
     "execution_count": 10,
     "metadata": {},
     "output_type": "execute_result"
    }
   ],
   "source": [
    "table"
   ]
  },
  {
   "cell_type": "code",
   "execution_count": 11,
   "id": "169692cf-bd2e-46cc-91d2-845ed8d6553e",
   "metadata": {},
   "outputs": [],
   "source": [
    "st = \"iamc\""
   ]
  },
  {
   "cell_type": "code",
   "execution_count": 12,
   "id": "b176c81c-d959-4fa7-8c5d-3f168228ef2f",
   "metadata": {},
   "outputs": [
    {
     "data": {
      "text/plain": [
       "'ixmj'"
      ]
     },
     "execution_count": 12,
     "metadata": {},
     "output_type": "execute_result"
    }
   ],
   "source": [
    "st.translate(table)"
   ]
  },
  {
   "cell_type": "code",
   "execution_count": 34,
   "id": "7981cc3a-1952-4398-a354-1687044d1ef6",
   "metadata": {},
   "outputs": [
    {
     "name": "stdout",
     "output_type": "stream",
     "text": [
      "0 x 120\n",
      "1 y 121\n",
      "2 j 106\n",
      "3 c 99\n",
      "4 d 100\n",
      "5 e 101\n",
      "6 g 103\n"
     ]
    }
   ],
   "source": [
    "for i,j in enumerate(key):\n",
    "    print(i, j, ord(j))\n",
    "    x[ord('a') + i] = ord(j)"
   ]
  },
  {
   "cell_type": "code",
   "execution_count": 35,
   "id": "ba31e6c4-ec88-4976-9bd0-2effb2f56e4e",
   "metadata": {},
   "outputs": [
    {
     "data": {
      "text/plain": [
       "{97: 120, 98: 121, 99: 106, 100: 99, 101: 100, 102: 101, 103: 103}"
      ]
     },
     "execution_count": 35,
     "metadata": {},
     "output_type": "execute_result"
    }
   ],
   "source": [
    "x"
   ]
  },
  {
   "cell_type": "code",
   "execution_count": 36,
   "id": "9e256940-6533-4636-ba1d-162d8baa07d7",
   "metadata": {},
   "outputs": [],
   "source": [
    "tab = {ord('a') + i : ord(j) for i,j in enumerate(key)}"
   ]
  },
  {
   "cell_type": "code",
   "execution_count": 37,
   "id": "f5477935-d218-49f3-8e2c-ac37d971009f",
   "metadata": {},
   "outputs": [
    {
     "data": {
      "text/plain": [
       "{97: 120, 98: 121, 99: 106, 100: 99, 101: 100, 102: 101, 103: 103}"
      ]
     },
     "execution_count": 37,
     "metadata": {},
     "output_type": "execute_result"
    }
   ],
   "source": [
    "tab"
   ]
  },
  {
   "cell_type": "code",
   "execution_count": 44,
   "id": "25f190bd-ec38-4a3b-80ef-5afa1bb239fc",
   "metadata": {},
   "outputs": [],
   "source": [
    "str1 = lambda:[i for i in(key)]"
   ]
  },
  {
   "cell_type": "code",
   "execution_count": 46,
   "id": "a28c9c33-b063-4866-aa42-1a472a322b30",
   "metadata": {},
   "outputs": [
    {
     "data": {
      "text/plain": [
       "['x', 'y', 'j', 'c', 'd', 'e', 'g']"
      ]
     },
     "execution_count": 46,
     "metadata": {},
     "output_type": "execute_result"
    }
   ],
   "source": [
    "str1()"
   ]
  },
  {
   "cell_type": "code",
   "execution_count": 65,
   "id": "61b6a548-5f16-44cc-9685-5f57a161783d",
   "metadata": {},
   "outputs": [],
   "source": [
    "a = 1900"
   ]
  },
  {
   "cell_type": "code",
   "execution_count": 51,
   "id": "6646aa59-68ba-4ce4-bd5b-983d7e2d3c04",
   "metadata": {},
   "outputs": [],
   "source": [
    "asr = str(a)"
   ]
  },
  {
   "cell_type": "code",
   "execution_count": 60,
   "id": "c17fc632-949d-4144-a6ec-d1feafc897a5",
   "metadata": {},
   "outputs": [
    {
     "data": {
      "text/plain": [
       "18"
      ]
     },
     "execution_count": 60,
     "metadata": {},
     "output_type": "execute_result"
    }
   ],
   "source": [
    "int(asr[:2])"
   ]
  },
  {
   "cell_type": "code",
   "execution_count": 66,
   "id": "4d9ce9d1-c5c8-4649-ac1e-07e540ca65cd",
   "metadata": {},
   "outputs": [
    {
     "data": {
      "text/plain": [
       "19.0"
      ]
     },
     "execution_count": 66,
     "metadata": {},
     "output_type": "execute_result"
    }
   ],
   "source": [
    "a/100"
   ]
  },
  {
   "cell_type": "code",
   "execution_count": 67,
   "id": "22fddbb6-8733-43ad-bf76-ca3fd8697197",
   "metadata": {},
   "outputs": [],
   "source": [
    "inputar = [4, 3, 2, 1, 5]"
   ]
  },
  {
   "cell_type": "code",
   "execution_count": 68,
   "id": "f7f1182a-f666-43f5-95ca-e3fbd8c8e07e",
   "metadata": {},
   "outputs": [],
   "source": [
    "res = [inputar[i] * inputar[i+1] for i in range(len(inputar) - 1) ]"
   ]
  },
  {
   "cell_type": "code",
   "execution_count": 69,
   "id": "2871eccf-c3bf-4678-be2e-7c2a24bef287",
   "metadata": {},
   "outputs": [
    {
     "data": {
      "text/plain": [
       "[12, 6, 2, 5]"
      ]
     },
     "execution_count": 69,
     "metadata": {},
     "output_type": "execute_result"
    }
   ],
   "source": [
    "res"
   ]
  },
  {
   "cell_type": "code",
   "execution_count": 72,
   "id": "afd73206-f1a2-4cfe-bef9-64503d75800a",
   "metadata": {},
   "outputs": [
    {
     "data": {
      "text/plain": [
       "1000"
      ]
     },
     "execution_count": 72,
     "metadata": {},
     "output_type": "execute_result"
    }
   ],
   "source": [
    "10**3"
   ]
  },
  {
   "cell_type": "code",
   "execution_count": 73,
   "id": "ca5f99e3-dee5-4b88-9916-7253e0fabdff",
   "metadata": {},
   "outputs": [],
   "source": [
    "statue = [6,2,3,8]"
   ]
  },
  {
   "cell_type": "code",
   "execution_count": 74,
   "id": "92391948-4099-420d-a80c-9f490b5d7dbf",
   "metadata": {},
   "outputs": [],
   "source": [
    "statue.sort()"
   ]
  },
  {
   "cell_type": "code",
   "execution_count": 75,
   "id": "543d5edf-dbe6-4a53-b538-fc968851a611",
   "metadata": {},
   "outputs": [
    {
     "data": {
      "text/plain": [
       "[2, 3, 6, 8]"
      ]
     },
     "execution_count": 75,
     "metadata": {},
     "output_type": "execute_result"
    }
   ],
   "source": [
    "statue"
   ]
  },
  {
   "cell_type": "code",
   "execution_count": 85,
   "id": "d5261a94-bf3a-4dd1-997e-8ffc6a33b004",
   "metadata": {},
   "outputs": [],
   "source": [
    "res2 = 0\n",
    "for i in range(len(statue)-1):\n",
    "    if statue[i+1] - statue[i] > 1:\n",
    "        res2 += statue[i+1] - statue[i] - 1"
   ]
  },
  {
   "cell_type": "code",
   "execution_count": 88,
   "id": "b523d71c-6ee0-4c91-a2be-a7215b054087",
   "metadata": {},
   "outputs": [],
   "source": [
    "res2 = [statue[i+1] - statue[i] - 1 for i in range(len(statue)-1)]"
   ]
  },
  {
   "cell_type": "code",
   "execution_count": 89,
   "id": "f73911d6-5799-49e2-a3a6-c8e32027db8b",
   "metadata": {},
   "outputs": [
    {
     "data": {
      "text/plain": [
       "[0, 2, 1]"
      ]
     },
     "execution_count": 89,
     "metadata": {},
     "output_type": "execute_result"
    }
   ],
   "source": [
    "res2"
   ]
  },
  {
   "cell_type": "code",
   "execution_count": 105,
   "id": "641fb8fa-fac9-44a6-8486-a5e5dfa3fc35",
   "metadata": {},
   "outputs": [],
   "source": [
    "str = [1,3,4]"
   ]
  },
  {
   "cell_type": "code",
   "execution_count": 104,
   "id": "a73501b1-d090-4673-ba52-3aaeaf916803",
   "metadata": {},
   "outputs": [
    {
     "data": {
      "text/plain": [
       "4"
      ]
     },
     "execution_count": 104,
     "metadata": {},
     "output_type": "execute_result"
    }
   ],
   "source": [
    "str.pop(2)"
   ]
  },
  {
   "cell_type": "code",
   "execution_count": null,
   "id": "91d6d6c6-6b20-4fc0-ab6e-b37493a537b8",
   "metadata": {},
   "outputs": [],
   "source": []
  }
 ],
 "metadata": {
  "kernelspec": {
   "display_name": "Python 3 (ipykernel)",
   "language": "python",
   "name": "python3"
  },
  "language_info": {
   "codemirror_mode": {
    "name": "ipython",
    "version": 3
   },
   "file_extension": ".py",
   "mimetype": "text/x-python",
   "name": "python",
   "nbconvert_exporter": "python",
   "pygments_lexer": "ipython3",
   "version": "3.9.12"
  }
 },
 "nbformat": 4,
 "nbformat_minor": 5
}
