{
 "cells": [
  {
   "cell_type": "code",
   "execution_count": 46,
   "id": "e599f6f1",
   "metadata": {},
   "outputs": [],
   "source": [
    "class Node():\n",
    "    def __init__(self, value):\n",
    "        self.value = value\n",
    "        self.right = None\n",
    "        self.left = None"
   ]
  },
  {
   "cell_type": "code",
   "execution_count": 47,
   "id": "133d53d1",
   "metadata": {},
   "outputs": [],
   "source": [
    "class BinaryTree():\n",
    "    def __init__(self, root):\n",
    "        self.root = Node(root)\n",
    "    def tree_print(self, traversal_type):\n",
    "        if traversal_type == 'pre-order':\n",
    "            print(self.Preorder_print(self.root, \"\"))\n",
    "        elif traversal_type == 'in-order':\n",
    "            print(self.inorder_print(self.root, \"\"))\n",
    "        else:\n",
    "            print('Given traversal type: ' + traversal_type + ' not valid')\n",
    "        \n",
    "    def Preorder_print(self, start, traversal):\n",
    "        if start:\n",
    "            traversal += (str(start.value) + '-')\n",
    "            traversal = self.Preorder_print(start.left, traversal)\n",
    "            traversal = self.Preorder_print(start.right, traversal)\n",
    "        return traversal\n",
    "    \n",
    "    def inorder_print(self, start, traversal):\n",
    "        if start:\n",
    "            traversal = self.inorder_print(start.left, traversal)\n",
    "            traversal += (str(start.value) + '-')\n",
    "            traversal = self.inorder_print(start.right, traversal)\n",
    "        return traversal"
   ]
  },
  {
   "cell_type": "code",
   "execution_count": 48,
   "id": "7b0268b8",
   "metadata": {},
   "outputs": [],
   "source": [
    "btree = BinaryTree(1)\n",
    "btree.root.left = Node(2)\n",
    "btree.root.left.left= Node(4)\n",
    "btree.root.left.right = Node(5)\n",
    "btree.root.right = Node(3)\n",
    "btree.root.right.left = Node(6)\n",
    "btree.root.right.right = Node(7)"
   ]
  },
  {
   "cell_type": "markdown",
   "id": "c9faf289",
   "metadata": {},
   "source": [
    "     1\n",
    "  2     3\n",
    "4  5   6  7"
   ]
  },
  {
   "cell_type": "code",
   "execution_count": 31,
   "id": "60779691",
   "metadata": {},
   "outputs": [
    {
     "name": "stdout",
     "output_type": "stream",
     "text": [
      "1-2-4-5-3-6-7-\n"
     ]
    }
   ],
   "source": [
    "btree.tree_print(\"pre-order\")"
   ]
  },
  {
   "cell_type": "code",
   "execution_count": 49,
   "id": "1a24f915",
   "metadata": {},
   "outputs": [
    {
     "name": "stdout",
     "output_type": "stream",
     "text": [
      "4-2-5-1-6-3-7-\n"
     ]
    }
   ],
   "source": [
    "btree.tree_print(\"in-order\")"
   ]
  },
  {
   "cell_type": "code",
   "execution_count": null,
   "id": "0cb35dc3",
   "metadata": {},
   "outputs": [],
   "source": []
  }
 ],
 "metadata": {
  "kernelspec": {
   "display_name": "Python 3 (ipykernel)",
   "language": "python",
   "name": "python3"
  },
  "language_info": {
   "codemirror_mode": {
    "name": "ipython",
    "version": 3
   },
   "file_extension": ".py",
   "mimetype": "text/x-python",
   "name": "python",
   "nbconvert_exporter": "python",
   "pygments_lexer": "ipython3",
   "version": "3.9.12"
  }
 },
 "nbformat": 4,
 "nbformat_minor": 5
}
