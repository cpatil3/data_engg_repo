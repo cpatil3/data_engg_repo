{
 "cells": [
  {
   "cell_type": "code",
   "execution_count": 18,
   "id": "55ab1991-6823-46b9-b2aa-f1741c52af63",
   "metadata": {},
   "outputs": [],
   "source": [
    "a = ['!1', 'vc', 'cd', 'xx']"
   ]
  },
  {
   "cell_type": "code",
   "execution_count": 19,
   "id": "1d66e500-031e-42e3-85c6-293e3ac933f6",
   "metadata": {},
   "outputs": [],
   "source": [
    "hs1 = {}"
   ]
  },
  {
   "cell_type": "code",
   "execution_count": 20,
   "id": "da80c25e-e878-40de-993e-a1af9e51fdeb",
   "metadata": {},
   "outputs": [],
   "source": [
    "for x in a:\n",
    "    if x not in hs1 and x in ['!1', 'vc', 'cd']:\n",
    "        hs1[x] = 1"
   ]
  },
  {
   "cell_type": "code",
   "execution_count": 21,
   "id": "0f5e2bda-5331-4a69-b28d-e1e25a8c21fa",
   "metadata": {},
   "outputs": [
    {
     "data": {
      "text/plain": [
       "{'!1': 1, 'vc': 1, 'cd': 1}"
      ]
     },
     "execution_count": 21,
     "metadata": {},
     "output_type": "execute_result"
    }
   ],
   "source": [
    "hs1"
   ]
  },
  {
   "cell_type": "code",
   "execution_count": 11,
   "id": "e1e7f6a4-3085-4fa5-a591-16261e6d20c7",
   "metadata": {},
   "outputs": [],
   "source": [
    "hs1['vc'] = hs1['vc'] + 1"
   ]
  },
  {
   "cell_type": "code",
   "execution_count": 23,
   "id": "fc43f8ee-2a6c-42f5-9593-6cbb2bfe9087",
   "metadata": {},
   "outputs": [],
   "source": [
    "x1 = \"!2\""
   ]
  },
  {
   "cell_type": "code",
   "execution_count": 25,
   "id": "850279e8-a640-48bc-a8ea-4edfae469f0d",
   "metadata": {},
   "outputs": [
    {
     "data": {
      "text/plain": [
       "'2'"
      ]
     },
     "execution_count": 25,
     "metadata": {},
     "output_type": "execute_result"
    }
   ],
   "source": [
    "x1[1]"
   ]
  },
  {
   "cell_type": "code",
   "execution_count": 26,
   "id": "d346b955-307f-44fc-a298-2cb8f5322094",
   "metadata": {},
   "outputs": [
    {
     "data": {
      "text/plain": [
       "'vc'"
      ]
     },
     "execution_count": 26,
     "metadata": {},
     "output_type": "execute_result"
    }
   ],
   "source": [
    "a[int(x1[1])-1]"
   ]
  },
  {
   "cell_type": "code",
   "execution_count": 27,
   "id": "0ea196bd-4142-4c84-a6ab-4b970d1378c4",
   "metadata": {},
   "outputs": [],
   "source": [
    "binstr = \"101011\""
   ]
  },
  {
   "cell_type": "code",
   "execution_count": 29,
   "id": "8242383c-cc85-4241-997a-cf7f7dfc0984",
   "metadata": {},
   "outputs": [
    {
     "data": {
      "text/plain": [
       "1"
      ]
     },
     "execution_count": 29,
     "metadata": {},
     "output_type": "execute_result"
    }
   ],
   "source": [
    "binstr.index('0')"
   ]
  },
  {
   "cell_type": "code",
   "execution_count": 30,
   "id": "98eabd16-338f-4dc1-a995-56ec8831c01e",
   "metadata": {},
   "outputs": [
    {
     "data": {
      "text/plain": [
       "'111111'"
      ]
     },
     "execution_count": 30,
     "metadata": {},
     "output_type": "execute_result"
    }
   ],
   "source": [
    "binstr.replace(\"0\",\"1\")"
   ]
  },
  {
   "cell_type": "code",
   "execution_count": 31,
   "id": "dd45a7e4-3858-4fb6-a222-f973b3a06a65",
   "metadata": {},
   "outputs": [
    {
     "data": {
      "text/plain": [
       "4"
      ]
     },
     "execution_count": 31,
     "metadata": {},
     "output_type": "execute_result"
    }
   ],
   "source": [
    "binstr.count(\"1\")"
   ]
  },
  {
   "cell_type": "code",
   "execution_count": 32,
   "id": "659bf00d-2b19-4659-bcd1-a11bd1568df5",
   "metadata": {},
   "outputs": [
    {
     "data": {
      "text/plain": [
       "'101011'"
      ]
     },
     "execution_count": 32,
     "metadata": {},
     "output_type": "execute_result"
    }
   ],
   "source": [
    "binstr"
   ]
  },
  {
   "cell_type": "code",
   "execution_count": 34,
   "id": "fac5cb21-ed17-4b5d-8b14-36e559c3073c",
   "metadata": {},
   "outputs": [
    {
     "ename": "TypeError",
     "evalue": "'str' object does not support item assignment",
     "output_type": "error",
     "traceback": [
      "\u001b[1;31m---------------------------------------------------------------------------\u001b[0m",
      "\u001b[1;31mTypeError\u001b[0m                                 Traceback (most recent call last)",
      "Input \u001b[1;32mIn [34]\u001b[0m, in \u001b[0;36m<cell line: 1>\u001b[1;34m()\u001b[0m\n\u001b[1;32m----> 1\u001b[0m binstr[\u001b[38;5;241m0\u001b[39m] \u001b[38;5;241m=\u001b[39m \u001b[38;5;241m5\u001b[39m\n",
      "\u001b[1;31mTypeError\u001b[0m: 'str' object does not support item assignment"
     ]
    }
   ],
   "source": [
    "binstr[0] = 5"
   ]
  },
  {
   "cell_type": "code",
   "execution_count": 35,
   "id": "416c8c62-9287-46f4-b173-daee77e81863",
   "metadata": {},
   "outputs": [],
   "source": [
    "lst = list(binstr)"
   ]
  },
  {
   "cell_type": "code",
   "execution_count": 36,
   "id": "b2a5ba0e-4f7e-438e-a22b-53df91575c10",
   "metadata": {},
   "outputs": [
    {
     "data": {
      "text/plain": [
       "['1', '0', '1', '0', '1', '1']"
      ]
     },
     "execution_count": 36,
     "metadata": {},
     "output_type": "execute_result"
    }
   ],
   "source": [
    "lst"
   ]
  },
  {
   "cell_type": "code",
   "execution_count": 43,
   "id": "c34a0ec5-bba5-4458-aad9-65a8c73169c0",
   "metadata": {},
   "outputs": [],
   "source": [
    "lst[0] = \"6\""
   ]
  },
  {
   "cell_type": "code",
   "execution_count": 44,
   "id": "11bc8462-0de0-49ee-ab6c-0e99ef4bc005",
   "metadata": {},
   "outputs": [
    {
     "data": {
      "text/plain": [
       "'601011'"
      ]
     },
     "execution_count": 44,
     "metadata": {},
     "output_type": "execute_result"
    }
   ],
   "source": [
    "\"\".join(lst)"
   ]
  },
  {
   "cell_type": "code",
   "execution_count": 45,
   "id": "0c5e20ef-9024-4954-95dd-df392198df95",
   "metadata": {},
   "outputs": [],
   "source": [
    "st = 'abcd'"
   ]
  },
  {
   "cell_type": "code",
   "execution_count": 50,
   "id": "4478200b-eb37-4e9c-b688-a7498a3931f3",
   "metadata": {},
   "outputs": [
    {
     "data": {
      "text/plain": [
       "'dcba'"
      ]
     },
     "execution_count": 50,
     "metadata": {},
     "output_type": "execute_result"
    }
   ],
   "source": [
    "st[::-1]"
   ]
  },
  {
   "cell_type": "code",
   "execution_count": null,
   "id": "bf2d1a72-3bd0-4076-8046-d7b3054c72ce",
   "metadata": {},
   "outputs": [],
   "source": []
  }
 ],
 "metadata": {
  "kernelspec": {
   "display_name": "Python 3 (ipykernel)",
   "language": "python",
   "name": "python3"
  },
  "language_info": {
   "codemirror_mode": {
    "name": "ipython",
    "version": 3
   },
   "file_extension": ".py",
   "mimetype": "text/x-python",
   "name": "python",
   "nbconvert_exporter": "python",
   "pygments_lexer": "ipython3",
   "version": "3.9.12"
  }
 },
 "nbformat": 4,
 "nbformat_minor": 5
}
