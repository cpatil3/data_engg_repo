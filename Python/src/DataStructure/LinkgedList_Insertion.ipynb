{
 "cells": [
  {
   "cell_type": "code",
   "execution_count": 2,
   "id": "b689759f-8c22-4417-8821-65d065adcc79",
   "metadata": {},
   "outputs": [],
   "source": [
    "class Node:\n",
    "    def __init__(self,data):\n",
    "        self.data = data\n",
    "        self.next = None        "
   ]
  },
  {
   "cell_type": "code",
   "execution_count": 323,
   "id": "3268baa5-2af5-40e1-95a3-be25801fe702",
   "metadata": {},
   "outputs": [],
   "source": [
    "class LinkedList:\n",
    "    def __init__(self):\n",
    "        self.head = None\n",
    "    \n",
    "    def print_lst(self):\n",
    "        cur_node = self.head\n",
    "        \n",
    "        while cur_node:\n",
    "            print(cur_node.data)\n",
    "            cur_node = cur_node.next\n",
    "    \n",
    "    def append(self,data):\n",
    "        new_node = Node(data)\n",
    "        \n",
    "        if self.head is None:\n",
    "            self.head = new_node\n",
    "            return\n",
    "        \n",
    "        last_node = self.head\n",
    "        while last_node.next:\n",
    "            last_node = last_node.next\n",
    "        \n",
    "        last_node.next = new_node\n",
    "    \n",
    "    def prepend(self,data):\n",
    "        new_node = Node(data)\n",
    "        \n",
    "        new_node.next = self.head\n",
    "        self.head = new_node\n",
    "        \n",
    "    def insert_after_node(self,prev_node,data):\n",
    "        \n",
    "        if not prev_node:\n",
    "            print(\"Prev node not in linkedlist\")\n",
    "            return\n",
    "        \n",
    "        new_node = Node(data)\n",
    "        new_node.next = prev_node.next \n",
    "        prev_node.next = new_node\n",
    "        \n",
    "        \n",
    "    def delete_node(self,key):\n",
    "        cur_node = self.head\n",
    "        \n",
    "        if cur_node and cur_node.data==key:\n",
    "            self.head = cur_node.next\n",
    "            cur_node = none\n",
    "            return\n",
    "        \n",
    "        prev = None\n",
    "        while cur_node and cur_node.data != key:\n",
    "            prev = cur_node\n",
    "            cur_node = cur_node.next\n",
    "            \n",
    "        if cur_node is None:\n",
    "            return\n",
    "        \n",
    "        prev.next = cur_node.next\n",
    "        cur_node = None\n",
    "        \n",
    "    def len_ll(self):\n",
    "        cur_node = self.head\n",
    "        count = 0\n",
    "        \n",
    "        while cur_node:\n",
    "            count += 1\n",
    "            cur_node = cur_node.next\n",
    "        \n",
    "        return count\n",
    "    \n",
    "    def len_recurs(self,node):\n",
    "        if node is None:\n",
    "            return 0\n",
    "        \n",
    "        return 1 + self.len_recurs(node.next)\n",
    "    \n",
    "    def swap_nodes(self,key1,key2):\n",
    "        \n",
    "        curr1 = self.head\n",
    "        prev1 = None\n",
    "        while curr1 and curr1.data != key1:\n",
    "            prev1 = curr1\n",
    "            curr1 = curr1.next\n",
    "        \n",
    "        curr2 = self.head\n",
    "        prev2 = None\n",
    "        \n",
    "        while curr2 and curr2.data != key2:\n",
    "            prev2 = curr2\n",
    "            curr2 = curr2.next\n",
    "        \n",
    "        if not curr1 or not curr2:\n",
    "            return 'Not in list'\n",
    "        \n",
    "        if prev1:\n",
    "            prev1.next = curr2\n",
    "        else:\n",
    "            self.head = curr2\n",
    "        \n",
    "        if prev2:\n",
    "            prev2.next = curr1\n",
    "        else:\n",
    "            self.head = curr1\n",
    "        \n",
    "        curr1.next, curr2.next = curr2.next, curr1.next    \n",
    "    \n",
    "    def self_helper(self, node, name):\n",
    "        if node == None:\n",
    "            print(name + \": None\")\n",
    "        else:\n",
    "            print(name + \": \" + node.data)\n",
    "    \n",
    "    def reverse_iterative(self):\n",
    "        \n",
    "        cur = self.head\n",
    "        prev = None\n",
    "        while cur:\n",
    "            nxt = cur.next\n",
    "            cur.next = prev\n",
    "            \n",
    "            self.self_helper(prev, \"PREV\")\n",
    "            self.self_helper(cur, \"CUR\")\n",
    "            self.self_helper(nxt, \"NXT\")\n",
    "            \n",
    "            print('\\n')\n",
    "        \n",
    "            prev = cur\n",
    "            cur = nxt\n",
    "        \n",
    "        self.head = prev\n",
    "        \n",
    "    def reverse_recursive(self):\n",
    "        \n",
    "        def _reverse_recursive(cur, prev):\n",
    "            if not cur:\n",
    "                return prev\n",
    "            \n",
    "            nxt = cur.next\n",
    "            cur.next = prev\n",
    "            \n",
    "            self.self_helper(prev, \"PREV\")\n",
    "            self.self_helper(cur, \"CUR\")\n",
    "            self.self_helper(nxt, \"NXT\")\n",
    "            print('\\n')\n",
    "            \n",
    "            prev = cur\n",
    "            cur = nxt\n",
    "            \n",
    "            return _reverse_recursive(cur, prev)\n",
    "        \n",
    "        self.head = _reverse_recursive(cur=self.head, prev=None)\n",
    "\n",
    "    def merge_sorted(self, llist):\n",
    "        #s - smallest node  p - current node from self  q- current node from llist\n",
    "        p = self.head\n",
    "        q = llist.head\n",
    "        s = None\n",
    "        \n",
    "        if not p:\n",
    "            return q\n",
    "        if not q:\n",
    "            return p\n",
    "        \n",
    "        if p and q:\n",
    "            if p.data <= q.data:\n",
    "                s = p\n",
    "                p = s.next\n",
    "            else:  \n",
    "                s = q\n",
    "                q = s.next\n",
    "                \n",
    "        while p and q:\n",
    "            if p.data <= q.data:\n",
    "                s.next = p\n",
    "                s = p\n",
    "                p  = s.next \n",
    "        \n",
    "            else:\n",
    "                s.next = q\n",
    "                s = q\n",
    "                q  = s.next \n",
    "        \n",
    "        if not p:\n",
    "            s.next = q\n",
    "        if not q:\n",
    "            s.next = p \n",
    "\n",
    "    def remove_duplicates(self):\n",
    "        cur = self.head\n",
    "        prev = None\n",
    "        \n",
    "        dup_values = dict()\n",
    "        \n",
    "        while cur:\n",
    "            if cur.data in dup_values:\n",
    "                prev.next = cur.next\n",
    "                cur = None\n",
    "            else:\n",
    "                dup_values[cur.data] = 1\n",
    "                prev = cur\n",
    "                \n",
    "            cur = prev.next\n",
    "                \n",
    "    def print_nth_to_last(self,n):\n",
    "        total_len = self.len_ll()\n",
    "        \n",
    "        cur = self.head\n",
    "        while cur:\n",
    "            if total_len == n:\n",
    "                print(cur.data)\n",
    "                return cur.data\n",
    "            \n",
    "            total_len -= 1\n",
    "            cur = cur.next\n",
    "        \n",
    "        if cur is None:\n",
    "            return\n",
    "        \n",
    "    def print_ntolast_met2(self,n):\n",
    "        p = self.head\n",
    "        q = self.head\n",
    "        cnt = 0\n",
    "        \n",
    "        while q and cnt < n:\n",
    "            cnt += 1\n",
    "            q = q.next\n",
    "        \n",
    "        if not q:\n",
    "            print(str(n) + \"is greater than number of nodes in list\")\n",
    "            return\n",
    "        \n",
    "        while p and q:\n",
    "            p = p.next\n",
    "            q = q.next\n",
    "        \n",
    "        return p.data\n",
    "    \n",
    "    def count_occurences_iterative(self,data):\n",
    "        cur = self.head\n",
    "        count = 0\n",
    "        \n",
    "        while cur:\n",
    "            if cur.data == data:\n",
    "                count += 1\n",
    "            cur = cur.next\n",
    "        \n",
    "        return count\n",
    "    \n",
    "    def count_occurences_recursive(self,node,data):\n",
    "        if not node:\n",
    "            return 0\n",
    "        \n",
    "        if node.data == data:\n",
    "            return 1 + self.count_occurences_recursive(node.next, data)\n",
    "        else:\n",
    "            return self.count_occurences_recursive(node.next,data)\n",
    "    \n",
    "    def rotate_nodes(self,k):\n",
    "        p = self.head\n",
    "        q = self.head\n",
    "        prev = None\n",
    "        count = 0\n",
    "    \n",
    "        while p and count < k:\n",
    "            prev = p\n",
    "            p = p.next\n",
    "            q = q.next\n",
    "            count +=1\n",
    "        \n",
    "        p = prev\n",
    "            \n",
    "        while q:\n",
    "            prev = q\n",
    "            q = q.next\n",
    "            \n",
    "        q = prev\n",
    "        \n",
    "        q.next = self.head\n",
    "        self.head = p.next\n",
    "        p.next = None\n",
    "\n",
    "    def palendrm_1(self):\n",
    "        s = ''\n",
    "        p = self.head\n",
    "        \n",
    "        while p:\n",
    "            s += p.data\n",
    "            p = p.next\n",
    "        \n",
    "        return s == s[::-1]\n",
    "    \n",
    "    def palendrm_2(self):\n",
    "        s = []\n",
    "        p = self.head\n",
    "        \n",
    "        while p:\n",
    "            s.append(p.data)\n",
    "            p = p.next\n",
    "        \n",
    "        p = self.head\n",
    "        \n",
    "        while p:\n",
    "            q = s.pop()\n",
    "            if p.data != q:\n",
    "                return False\n",
    "            p = p.next \n",
    "            \n",
    "        return True\n",
    "    \n",
    "    def sum_two_list(self,llist):\n",
    "        p = self.head\n",
    "        q = llist.head\n",
    "        \n",
    "        sum_list = LinkedList()\n",
    "        carry = 0\n",
    "        \n",
    "        while p or q:\n",
    "            if not p:\n",
    "                i = 0\n",
    "            else:\n",
    "                i = p.data\n",
    "            \n",
    "            if not q:\n",
    "                j = 0\n",
    "            else:\n",
    "                j = q.data\n",
    "            \n",
    "            s = carry + i + j\n",
    "            if s >= 10:\n",
    "                carry = 1\n",
    "                remainder = s % 10\n",
    "                sum_list.append(remainder)\n",
    "            else:\n",
    "                carry = 0\n",
    "                sum_list.append(s)\n",
    "            \n",
    "            if p:\n",
    "                p = p.next\n",
    "            if q:\n",
    "                q = q.next\n",
    "        \n",
    "        sum_list.print_lst()"
   ]
  },
  {
   "cell_type": "code",
   "execution_count": 324,
   "id": "c148fa64-ce24-412e-bb44-8289ccd4b9d9",
   "metadata": {},
   "outputs": [],
   "source": [
    "lnklst = LinkedList()"
   ]
  },
  {
   "cell_type": "code",
   "execution_count": 325,
   "id": "f95f3d18-0ae6-49dc-88c0-b39ba3432e2b",
   "metadata": {},
   "outputs": [],
   "source": [
    "llist = LinkedList()\n",
    "#llist2 = LinkedList()"
   ]
  },
  {
   "cell_type": "code",
   "execution_count": 194,
   "id": "009b5d89-e0d7-4ace-a566-0dcaaf90d96e",
   "metadata": {},
   "outputs": [],
   "source": [
    "llist1.append(1)\n",
    "llist1.append(5)\n",
    "llist1.append(7)\n",
    "llist1.append(9)\n",
    "llist1.append(10)"
   ]
  },
  {
   "cell_type": "code",
   "execution_count": 195,
   "id": "e932fc57-93a8-4eec-8c8b-95ed83984c02",
   "metadata": {},
   "outputs": [],
   "source": [
    "llist2.append(2)\n",
    "llist2.append(3)\n",
    "llist2.append(4)\n",
    "llist2.append(6)\n",
    "llist2.append(8)"
   ]
  },
  {
   "cell_type": "code",
   "execution_count": 248,
   "id": "9546a81e-f178-4fe9-9b98-360c1addb654",
   "metadata": {},
   "outputs": [],
   "source": [
    "lnklst.append(\"A\")\n",
    "lnklst.append(\"B\")\n",
    "lnklst.append(\"C\")\n",
    "lnklst.append(\"D\")"
   ]
  },
  {
   "cell_type": "code",
   "execution_count": 196,
   "id": "f1c2dcae-49f2-40dc-8013-945b42f90407",
   "metadata": {},
   "outputs": [
    {
     "name": "stdout",
     "output_type": "stream",
     "text": [
      "2\n",
      "3\n",
      "4\n",
      "6\n",
      "8\n"
     ]
    }
   ],
   "source": [
    "llist2.print_lst()"
   ]
  },
  {
   "cell_type": "code",
   "execution_count": 197,
   "id": "d0a8321c-5f68-4937-a527-ac8a219af6af",
   "metadata": {},
   "outputs": [],
   "source": [
    "llist1.merge_sorted(llist2)"
   ]
  },
  {
   "cell_type": "code",
   "execution_count": 198,
   "id": "790d03ca-3ff9-42ce-a711-cc28b22fd7df",
   "metadata": {},
   "outputs": [
    {
     "name": "stdout",
     "output_type": "stream",
     "text": [
      "1\n",
      "2\n",
      "3\n",
      "4\n",
      "5\n",
      "6\n",
      "7\n",
      "8\n",
      "9\n",
      "10\n"
     ]
    }
   ],
   "source": [
    "llist1.print_lst()"
   ]
  },
  {
   "cell_type": "code",
   "execution_count": 72,
   "id": "05cf9ca3-4a81-4676-85c1-7727e4b6ad2e",
   "metadata": {},
   "outputs": [],
   "source": [
    "lnklst.insert_after_node(lnklst.head.next,\"E\")"
   ]
  },
  {
   "cell_type": "code",
   "execution_count": 93,
   "id": "7deea12d-95e2-4e36-af96-8b76a287ea81",
   "metadata": {},
   "outputs": [],
   "source": [
    "lnklst.delete_node(\"C\")"
   ]
  },
  {
   "cell_type": "code",
   "execution_count": 106,
   "id": "536932bc-b5e7-4f9e-9e81-06bc4141c830",
   "metadata": {},
   "outputs": [
    {
     "data": {
      "text/plain": [
       "4"
      ]
     },
     "execution_count": 106,
     "metadata": {},
     "output_type": "execute_result"
    }
   ],
   "source": [
    "lnklst.len_ll()"
   ]
  },
  {
   "cell_type": "code",
   "execution_count": 121,
   "id": "d3b21553-a0dd-4020-ad32-70c00561edd3",
   "metadata": {},
   "outputs": [
    {
     "data": {
      "text/plain": [
       "3"
      ]
     },
     "execution_count": 121,
     "metadata": {},
     "output_type": "execute_result"
    }
   ],
   "source": [
    "lnklst.len_recurs(lnklst.head.next)"
   ]
  },
  {
   "cell_type": "code",
   "execution_count": 249,
   "id": "1105a30e-1073-48de-936b-c22e27517df2",
   "metadata": {},
   "outputs": [],
   "source": [
    "lnklst.swap_nodes(\"B\", \"C\")"
   ]
  },
  {
   "cell_type": "code",
   "execution_count": 250,
   "id": "976e9db0-aba5-4599-89b0-ceee60171847",
   "metadata": {},
   "outputs": [
    {
     "name": "stdout",
     "output_type": "stream",
     "text": [
      "A\n",
      "C\n",
      "B\n",
      "D\n"
     ]
    }
   ],
   "source": [
    "lnklst.print_lst()"
   ]
  },
  {
   "cell_type": "code",
   "execution_count": 153,
   "id": "a1d8c569-5e40-4cc8-83e2-278a26964a19",
   "metadata": {},
   "outputs": [
    {
     "name": "stdout",
     "output_type": "stream",
     "text": [
      "PREV: None\n",
      "CUR: A\n",
      "NXT: B\n",
      "\n",
      "\n",
      "PREV: A\n",
      "CUR: B\n",
      "NXT: C\n",
      "\n",
      "\n",
      "PREV: B\n",
      "CUR: C\n",
      "NXT: D\n",
      "\n",
      "\n",
      "PREV: C\n",
      "CUR: D\n",
      "NXT: None\n",
      "\n",
      "\n"
     ]
    }
   ],
   "source": [
    "lnklst.reverse_iterative()"
   ]
  },
  {
   "cell_type": "code",
   "execution_count": 181,
   "id": "04d427e3-ed96-46e4-9a8f-54bf496ba600",
   "metadata": {},
   "outputs": [
    {
     "name": "stdout",
     "output_type": "stream",
     "text": [
      "PREV: None\n",
      "CUR: A\n",
      "NXT: B\n",
      "\n",
      "\n",
      "PREV: A\n",
      "CUR: B\n",
      "NXT: C\n",
      "\n",
      "\n",
      "PREV: B\n",
      "CUR: C\n",
      "NXT: D\n",
      "\n",
      "\n",
      "PREV: C\n",
      "CUR: D\n",
      "NXT: None\n",
      "\n",
      "\n"
     ]
    }
   ],
   "source": [
    "lnklst.reverse_recursive()"
   ]
  },
  {
   "cell_type": "code",
   "execution_count": 182,
   "id": "0b3fe9ff-233a-4867-972d-a2a0061ab9e6",
   "metadata": {},
   "outputs": [
    {
     "name": "stdout",
     "output_type": "stream",
     "text": [
      "D\n",
      "C\n",
      "B\n",
      "A\n"
     ]
    }
   ],
   "source": [
    "lnklst.print_lst()"
   ]
  },
  {
   "cell_type": "code",
   "execution_count": 272,
   "id": "dafc87c5-a650-4fd3-9c40-49f05609a7a6",
   "metadata": {},
   "outputs": [],
   "source": [
    "lnklst.append(1)\n",
    "lnklst.append(2)\n",
    "lnklst.append(3)\n",
    "lnklst.append(4)\n",
    "lnklst.append(5)\n",
    "lnklst.append(6)"
   ]
  },
  {
   "cell_type": "code",
   "execution_count": 203,
   "id": "7bb2d875-3842-40cf-bdd6-8c64155fc6dc",
   "metadata": {},
   "outputs": [],
   "source": [
    "lnklst.remove_duplicates()"
   ]
  },
  {
   "cell_type": "code",
   "execution_count": 204,
   "id": "67990643-fb95-423d-94db-328c5a6c0b99",
   "metadata": {},
   "outputs": [
    {
     "name": "stdout",
     "output_type": "stream",
     "text": [
      "1\n",
      "6\n",
      "4\n",
      "2\n"
     ]
    }
   ],
   "source": [
    "lnklst.print_lst()"
   ]
  },
  {
   "cell_type": "code",
   "execution_count": 208,
   "id": "d7d896a0-2898-41d4-99fa-84e9a43b1ab3",
   "metadata": {},
   "outputs": [
    {
     "name": "stdout",
     "output_type": "stream",
     "text": [
      "C\n"
     ]
    },
    {
     "data": {
      "text/plain": [
       "'C'"
      ]
     },
     "execution_count": 208,
     "metadata": {},
     "output_type": "execute_result"
    }
   ],
   "source": [
    "lnklst.print_nth_to_last(2)"
   ]
  },
  {
   "cell_type": "code",
   "execution_count": 213,
   "id": "408bdc0f-3255-4672-af31-7396669d8ccb",
   "metadata": {},
   "outputs": [
    {
     "data": {
      "text/plain": [
       "'B'"
      ]
     },
     "execution_count": 213,
     "metadata": {},
     "output_type": "execute_result"
    }
   ],
   "source": [
    "lnklst.print_ntolast_met2(3)"
   ]
  },
  {
   "cell_type": "code",
   "execution_count": 228,
   "id": "c36b51a8-fdc6-449e-93fe-5a1c8c63f442",
   "metadata": {},
   "outputs": [
    {
     "data": {
      "text/plain": [
       "1"
      ]
     },
     "execution_count": 228,
     "metadata": {},
     "output_type": "execute_result"
    }
   ],
   "source": [
    "lnklst.count_occurences_iterative(2)"
   ]
  },
  {
   "cell_type": "code",
   "execution_count": 244,
   "id": "10c99d7a-6ffa-4abe-8822-daf9ed4b5921",
   "metadata": {},
   "outputs": [
    {
     "data": {
      "text/plain": [
       "2"
      ]
     },
     "execution_count": 244,
     "metadata": {},
     "output_type": "execute_result"
    }
   ],
   "source": [
    "lnklst.count_occurences_recursive(lnklst.head, 4)"
   ]
  },
  {
   "cell_type": "code",
   "execution_count": 273,
   "id": "b01b230b-8dec-42e9-b61f-12c81e264e24",
   "metadata": {},
   "outputs": [],
   "source": [
    "lnklst.rotate_nodes(4)"
   ]
  },
  {
   "cell_type": "code",
   "execution_count": 274,
   "id": "367fb97c-aa08-4fd1-a0ee-0f74a7d77a1a",
   "metadata": {},
   "outputs": [
    {
     "name": "stdout",
     "output_type": "stream",
     "text": [
      "5\n",
      "6\n",
      "1\n",
      "2\n",
      "3\n",
      "4\n"
     ]
    }
   ],
   "source": [
    "lnklst.print_lst()"
   ]
  },
  {
   "cell_type": "code",
   "execution_count": 317,
   "id": "efbd5b6b-9ca5-4d23-9419-fd38fe9ef95c",
   "metadata": {},
   "outputs": [],
   "source": [
    "lnklst.append(\"R\")\n",
    "lnklst.append(\"A\")\n",
    "lnklst.append(\"D\")\n",
    "lnklst.append(\"A\")\n",
    "lnklst.append(\"R\")"
   ]
  },
  {
   "cell_type": "code",
   "execution_count": 320,
   "id": "8c8982a2-e191-4a9a-a670-b64be499b05d",
   "metadata": {},
   "outputs": [],
   "source": [
    "lnklst.append(\"D\")\n",
    "lnklst.append(\"A\")\n",
    "lnklst.append(\"C\")"
   ]
  },
  {
   "cell_type": "code",
   "execution_count": 326,
   "id": "72d70038-7440-46c4-b329-b7aa65379ce4",
   "metadata": {},
   "outputs": [
    {
     "data": {
      "text/plain": [
       "True"
      ]
     },
     "execution_count": 326,
     "metadata": {},
     "output_type": "execute_result"
    }
   ],
   "source": [
    "lnklst.palendrm_2()"
   ]
  },
  {
   "cell_type": "code",
   "execution_count": 327,
   "id": "a2f15f46-265a-4778-80a9-2275d360f196",
   "metadata": {},
   "outputs": [],
   "source": [
    "lnklst.append(5)\n",
    "lnklst.append(6)\n",
    "lnklst.append(3)"
   ]
  },
  {
   "cell_type": "code",
   "execution_count": 328,
   "id": "8730b456-a994-476f-9acc-3240dcef0e47",
   "metadata": {},
   "outputs": [],
   "source": [
    "llist.append(8)\n",
    "llist.append(4)\n",
    "llist.append(2)"
   ]
  },
  {
   "cell_type": "code",
   "execution_count": 329,
   "id": "40d8e377-736d-4e5a-9026-1ae6783c44a7",
   "metadata": {},
   "outputs": [
    {
     "name": "stdout",
     "output_type": "stream",
     "text": [
      "3\n",
      "1\n",
      "6\n"
     ]
    }
   ],
   "source": [
    "lnklst.sum_two_list(llist)"
   ]
  },
  {
   "cell_type": "code",
   "execution_count": null,
   "id": "a9852c07-af4f-4484-abac-0971cda66056",
   "metadata": {},
   "outputs": [],
   "source": []
  }
 ],
 "metadata": {
  "kernelspec": {
   "display_name": "Python 3 (ipykernel)",
   "language": "python",
   "name": "python3"
  },
  "language_info": {
   "codemirror_mode": {
    "name": "ipython",
    "version": 3
   },
   "file_extension": ".py",
   "mimetype": "text/x-python",
   "name": "python",
   "nbconvert_exporter": "python",
   "pygments_lexer": "ipython3",
   "version": "3.9.12"
  }
 },
 "nbformat": 4,
 "nbformat_minor": 5
}
