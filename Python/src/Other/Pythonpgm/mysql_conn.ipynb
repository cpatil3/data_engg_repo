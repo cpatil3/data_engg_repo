{
 "cells": [
  {
   "cell_type": "code",
   "execution_count": 44,
   "id": "75a43608-f454-49fc-bf3e-b9c9ee2e7193",
   "metadata": {},
   "outputs": [],
   "source": [
    "#Create connection with MYSQL\n",
    "import mysql.connector\n",
    "from mysql.connector import errorcode\n",
    "\n",
    "#import jason library\n",
    "import json\n",
    "\n",
    "#import pandas library for working with dataframes\n",
    "import pandas as pd\n",
    "\n",
    "#import datetime module for dates manipulation\n",
    "from datetime import datetime"
   ]
  },
  {
   "cell_type": "code",
   "execution_count": 45,
   "id": "807ab8a5-8f1a-4216-a679-f4e0be471559",
   "metadata": {},
   "outputs": [],
   "source": [
    "def get_config():\n",
    "    config= {}\n",
    "    jfile = open('config.json')\n",
    "    config = json.load(jfile)\n",
    "    \n",
    "    return config"
   ]
  },
  {
   "cell_type": "code",
   "execution_count": 46,
   "id": "ce4b6a2d-e27c-4222-97b6-247940ab2751",
   "metadata": {},
   "outputs": [],
   "source": [
    "config = get_config()"
   ]
  },
  {
   "cell_type": "code",
   "execution_count": 47,
   "id": "ea80edde-fdf4-4d2c-a71b-baf39edc4cb0",
   "metadata": {},
   "outputs": [],
   "source": [
    "def setup_connection(config):\n",
    "    try:\n",
    "        cnx = mysql.connector.connect(**config)\n",
    "    except mysql.connector.Error as err:\n",
    "        if err.errno == errorcode.ER_ACCESS_DENIED_ERROR:\n",
    "                print('**ERR: Invalid id or password**')\n",
    "        elif err.errno == errorcode.ER_BAD_DB_ERROR:\n",
    "                print(err.errno)\n",
    "                print('**ERR: Wrong dbname or db does not exists**')\n",
    "        else:\n",
    "                print(err)\n",
    "            \n",
    "    else:\n",
    "        print('**MSG: Connection to db successful**')\n",
    "        cursor = cnx.cursor()\n",
    "        return cnx, cursor"
   ]
  },
  {
   "cell_type": "code",
   "execution_count": 48,
   "id": "ecfcdb5c-ea41-492d-bf08-c61cee2155a7",
   "metadata": {},
   "outputs": [
    {
     "name": "stdout",
     "output_type": "stream",
     "text": [
      "**MSG: Connection to db successful**\n"
     ]
    }
   ],
   "source": [
    "cnx, cursor = setup_connection(config)"
   ]
  },
  {
   "cell_type": "code",
   "execution_count": 49,
   "id": "06828336-0407-472d-b8f4-97fdbddc196a",
   "metadata": {},
   "outputs": [],
   "source": [
    "def insert_customer(cnx, cursor):\n",
    "    '''\n",
    "        Load data from customer_stg to customer_dim\n",
    "    '''\n",
    " \n",
    "    print('**MSG: Inserting data to customer_dim**')\n",
    "    \n",
    "    add_cust = (\"Insert into edw.customer_dim(customeremail, firstname, lastname, city, state, accountdate) \"\n",
    "                 \"select * from edw.customer_stg; \"\n",
    "               )\n",
    "    \n",
    "    try:\n",
    "        cursor.execute(add_cust)\n",
    "        \n",
    "    except mysql.connector.Error as err:\n",
    "        print(err)   \n",
    "        \n",
    "    else:\n",
    "        print('**MSG: Total Rows inserted to customer_dim: ', cursor.rowcount)"
   ]
  },
  {
   "cell_type": "code",
   "execution_count": 50,
   "id": "5ce7312b-776b-4495-86df-e84397413919",
   "metadata": {},
   "outputs": [
    {
     "name": "stdout",
     "output_type": "stream",
     "text": [
      "**MSG: Inserting data to customer_dim**\n",
      "**MSG: Total Rows inserted to customer_dim:  14542\n"
     ]
    }
   ],
   "source": [
    "insert_customer(cnx, cursor)"
   ]
  },
  {
   "cell_type": "code",
   "execution_count": 51,
   "id": "1aba9dfe-653f-4182-b413-87acc2ea1063",
   "metadata": {},
   "outputs": [],
   "source": [
    "cnx.commit()"
   ]
  },
  {
   "cell_type": "code",
   "execution_count": 52,
   "id": "e614c5bb-5ddb-4a68-8733-fe2a117eea4a",
   "metadata": {},
   "outputs": [],
   "source": [
    "def insert_product(cnx, cursor):\n",
    "    '''\n",
    "        Load data from transaction_stg to product_dim\n",
    "    '''\n",
    " \n",
    "    print('**MSG: Inserting data to product_dim**')\n",
    "    \n",
    "    add_prod = (\"Insert into edw.product_dim(product, color, item_size) \"\n",
    "                \"select distinct product, color, item_size from edw.transaction_stg; \"\n",
    "               )\n",
    "    \n",
    "    try:\n",
    "        cursor.execute(add_prod)\n",
    "        \n",
    "    except mysql.connector.Error as err:\n",
    "        print(err)   \n",
    "        \n",
    "    else:\n",
    "        print('**MSG: Total Rows inserted to product_dim: ', cursor.rowcount)"
   ]
  },
  {
   "cell_type": "code",
   "execution_count": 53,
   "id": "a0d9e977-3cd2-407b-8f49-1c81769e684d",
   "metadata": {},
   "outputs": [
    {
     "name": "stdout",
     "output_type": "stream",
     "text": [
      "**MSG: Inserting data to product_dim**\n",
      "**MSG: Total Rows inserted to product_dim:  150\n"
     ]
    }
   ],
   "source": [
    "insert_product(cnx, cursor)\n",
    "cnx.commit()"
   ]
  },
  {
   "cell_type": "code",
   "execution_count": 54,
   "id": "b9bcbdb9-febe-4119-b6d2-87fd1e777b25",
   "metadata": {},
   "outputs": [],
   "source": [
    "def insert_order(cnx, cursor):\n",
    "    '''\n",
    "        Load data from transaction_stg to order_f\n",
    "    '''\n",
    " \n",
    "    print('**MSG: Inserting data to order_f**')\n",
    "    \n",
    "    add_order = (\"insert into edw.order_f(tranid, custid, order_date, line_num, productid, quantity, total_price) \"\n",
    "                \"select t.tranid, c.custid, t.order_date, t.line_num, p.productid, t.quantity, t.total_price \"\n",
    "                    \"from edw.transaction_stg t \"\n",
    "                    \"inner join edw.customer_dim c on t.customer_email = c.customeremail \"\n",
    "                    \"inner join edw.product_dim p   on t.product = p.product ; \"\n",
    "               )\n",
    "    \n",
    "    try:\n",
    "        cursor.execute(add_order)\n",
    "        \n",
    "    except mysql.connector.Error as err:\n",
    "        print(err)   \n",
    "        \n",
    "    else:\n",
    "        print('**MSG: Total Rows inserted to order_f: ', cursor.rowcount)"
   ]
  },
  {
   "cell_type": "code",
   "execution_count": 55,
   "id": "021ea842-3d56-4b9b-9bf0-98b39ad2d359",
   "metadata": {},
   "outputs": [
    {
     "name": "stdout",
     "output_type": "stream",
     "text": [
      "**MSG: Inserting data to order_f**\n",
      "**MSG: Total Rows inserted to order_f:  68173\n"
     ]
    }
   ],
   "source": [
    "insert_order(cnx, cursor)\n",
    "cnx.commit()"
   ]
  },
  {
   "cell_type": "code",
   "execution_count": 56,
   "id": "62d58e76-e71e-4f7e-b0ca-d85691c6cb9f",
   "metadata": {},
   "outputs": [],
   "source": [
    "cursor.close()\n",
    "cnx.close()"
   ]
  },
  {
   "cell_type": "code",
   "execution_count": null,
   "id": "4b7ec273-a2ea-48e5-85d5-6cbe32964d41",
   "metadata": {},
   "outputs": [],
   "source": []
  }
 ],
 "metadata": {
  "kernelspec": {
   "display_name": "Python 3 (ipykernel)",
   "language": "python",
   "name": "python3"
  },
  "language_info": {
   "codemirror_mode": {
    "name": "ipython",
    "version": 3
   },
   "file_extension": ".py",
   "mimetype": "text/x-python",
   "name": "python",
   "nbconvert_exporter": "python",
   "pygments_lexer": "ipython3",
   "version": "3.9.12"
  }
 },
 "nbformat": 4,
 "nbformat_minor": 5
}
