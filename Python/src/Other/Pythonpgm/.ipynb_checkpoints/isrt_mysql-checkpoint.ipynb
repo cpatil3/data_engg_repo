{
 "cells": [
  {
   "cell_type": "code",
   "execution_count": 82,
   "id": "e40c07f3-8b89-42bc-8686-dea6d906b3c7",
   "metadata": {},
   "outputs": [],
   "source": [
    "import mysql.connector\n",
    "from mysql.connector import errorcode"
   ]
  },
  {
   "cell_type": "code",
   "execution_count": 83,
   "id": "ed6c1a89-209a-4c1b-9d54-45c519a6a735",
   "metadata": {},
   "outputs": [
    {
     "name": "stdout",
     "output_type": "stream",
     "text": [
      "Connection to db successful\n"
     ]
    }
   ],
   "source": [
    "try:\n",
    "    cnx = mysql.connector.connect(user='root', password='Chetan',\n",
    "                            host='localhost', database='edw')\n",
    "except mysql.connector.Error as err:\n",
    "    if err.errno == errorcode.ER_ACCESS_DENIED_ERROR:\n",
    "        print('Invalid id or password')\n",
    "    elif err.errno == errorcode.ER_BAD_DB_ERROR:\n",
    "        print(err.errno)\n",
    "        print('Wrong dbname or db does not exists')\n",
    "    else:\n",
    "        print(err)\n",
    "else:\n",
    "    print('Connection to db successful')"
   ]
  },
  {
   "cell_type": "code",
   "execution_count": 84,
   "id": "030b9ca8-d683-4dce-a33d-aff42a998581",
   "metadata": {},
   "outputs": [],
   "source": [
    "cursor = cnx.cursor()"
   ]
  },
  {
   "cell_type": "code",
   "execution_count": 35,
   "id": "68e3e3c3-88e1-469c-a106-5c560706b703",
   "metadata": {},
   "outputs": [
    {
     "name": "stdout",
     "output_type": "stream",
     "text": [
      "2019-01-30\n"
     ]
    }
   ],
   "source": [
    "from datetime import datetime\n",
    "dto = datetime.strptime('01/30/2019', '%m/%d/%Y').date()\n",
    "print(dto)"
   ]
  },
  {
   "cell_type": "code",
   "execution_count": 36,
   "id": "45449085-ec83-48c0-b939-e29d7466130a",
   "metadata": {},
   "outputs": [],
   "source": [
    "add_cust = (\"INSERT INTO `edw`.`customer`\"\n",
    "            \"(`CustomerEmail`, `Firstname`, `Lastname`, `City`, `State`, `Accountdate`)\"\n",
    "            \"VALUES (%s, %s, %s, %s, %s, %s)\"\n",
    "           )"
   ]
  },
  {
   "cell_type": "code",
   "execution_count": 37,
   "id": "7eee994a-0fef-4e75-96a2-1352eefa6661",
   "metadata": {},
   "outputs": [],
   "source": [
    "data_cus = ('alanflack@yahoo.com','Alan', 'Flack', 'Sacramento', 'CA', datetime.strptime('01/01/2019', '%m/%d/%Y').date())"
   ]
  },
  {
   "cell_type": "code",
   "execution_count": 38,
   "id": "d600800f-5001-4d3e-b622-f55f7ef25706",
   "metadata": {},
   "outputs": [],
   "source": [
    "cursor.execute(add_cust, data_cus)"
   ]
  },
  {
   "cell_type": "code",
   "execution_count": 39,
   "id": "d6e6ee90-67e3-4b8a-9334-acaac3b66e9d",
   "metadata": {},
   "outputs": [],
   "source": [
    "cnx.commit()"
   ]
  },
  {
   "cell_type": "code",
   "execution_count": 81,
   "id": "199d2263-78ce-4555-96d8-7dbc373cd2dd",
   "metadata": {},
   "outputs": [],
   "source": [
    "cursor.close()\n",
    "cnx.close()"
   ]
  },
  {
   "cell_type": "code",
   "execution_count": 41,
   "id": "919dbac2-6f99-4168-ae0b-3da0b6d963a7",
   "metadata": {},
   "outputs": [],
   "source": [
    "import pandas as pd"
   ]
  },
  {
   "cell_type": "code",
   "execution_count": 67,
   "id": "bc6d293a-89cb-4b9b-b5ce-95d1ac5a2d43",
   "metadata": {},
   "outputs": [
    {
     "data": {
      "text/html": [
       "<div>\n",
       "<style scoped>\n",
       "    .dataframe tbody tr th:only-of-type {\n",
       "        vertical-align: middle;\n",
       "    }\n",
       "\n",
       "    .dataframe tbody tr th {\n",
       "        vertical-align: top;\n",
       "    }\n",
       "\n",
       "    .dataframe thead th {\n",
       "        text-align: right;\n",
       "    }\n",
       "</style>\n",
       "<table border=\"1\" class=\"dataframe\">\n",
       "  <thead>\n",
       "    <tr style=\"text-align: right;\">\n",
       "      <th></th>\n",
       "      <th>email</th>\n",
       "      <th>first_name</th>\n",
       "      <th>last_name</th>\n",
       "      <th>city</th>\n",
       "      <th>state</th>\n",
       "      <th>account_date</th>\n",
       "    </tr>\n",
       "  </thead>\n",
       "  <tbody>\n",
       "    <tr>\n",
       "      <th>0</th>\n",
       "      <td>alanflack@yahoo.com</td>\n",
       "      <td>Alan</td>\n",
       "      <td>Flack</td>\n",
       "      <td>Sacramento</td>\n",
       "      <td>CA</td>\n",
       "      <td>2022-01-19</td>\n",
       "    </tr>\n",
       "    <tr>\n",
       "      <th>1</th>\n",
       "      <td>melissaloy@verizon.net</td>\n",
       "      <td>Melissa</td>\n",
       "      <td>Loy</td>\n",
       "      <td>Escondido</td>\n",
       "      <td>CA</td>\n",
       "      <td>2022-01-19</td>\n",
       "    </tr>\n",
       "    <tr>\n",
       "      <th>2</th>\n",
       "      <td>JPatton@aol.com</td>\n",
       "      <td>Jessica</td>\n",
       "      <td>Patton</td>\n",
       "      <td>Long Beach</td>\n",
       "      <td>CA</td>\n",
       "      <td>2022-01-19</td>\n",
       "    </tr>\n",
       "    <tr>\n",
       "      <th>3</th>\n",
       "      <td>cmilosevic@comcast.net</td>\n",
       "      <td>Christa</td>\n",
       "      <td>Milosevic</td>\n",
       "      <td>Anaheim</td>\n",
       "      <td>CA</td>\n",
       "      <td>2022-01-19</td>\n",
       "    </tr>\n",
       "    <tr>\n",
       "      <th>4</th>\n",
       "      <td>rdansereau@yahoo.com</td>\n",
       "      <td>Robert</td>\n",
       "      <td>Dansereau</td>\n",
       "      <td>Los Angeles</td>\n",
       "      <td>CA</td>\n",
       "      <td>2022-01-19</td>\n",
       "    </tr>\n",
       "  </tbody>\n",
       "</table>\n",
       "</div>"
      ],
      "text/plain": [
       "                    email first_name  last_name         city state  \\\n",
       "0     alanflack@yahoo.com       Alan      Flack   Sacramento    CA   \n",
       "1  melissaloy@verizon.net    Melissa        Loy    Escondido    CA   \n",
       "2         JPatton@aol.com    Jessica     Patton   Long Beach    CA   \n",
       "3  cmilosevic@comcast.net    Christa  Milosevic      Anaheim    CA   \n",
       "4    rdansereau@yahoo.com     Robert  Dansereau  Los Angeles    CA   \n",
       "\n",
       "  account_date  \n",
       "0   2022-01-19  \n",
       "1   2022-01-19  \n",
       "2   2022-01-19  \n",
       "3   2022-01-19  \n",
       "4   2022-01-19  "
      ]
     },
     "execution_count": 67,
     "metadata": {},
     "output_type": "execute_result"
    }
   ],
   "source": [
    "custdata = pd.read_csv('custm_tst.csv', index_col=False, delimiter=',', parse_dates=['account_date'])\n",
    "custdata.head()"
   ]
  },
  {
   "cell_type": "code",
   "execution_count": 74,
   "id": "d120bffd-adf8-49f5-9d5f-d7880b797bd8",
   "metadata": {},
   "outputs": [
    {
     "name": "stdout",
     "output_type": "stream",
     "text": [
      "0\n",
      "('alanflack@yahoo.com', 'Alan', 'Flack', 'Sacramento', 'CA', Timestamp('2022-01-19 00:00:00'))\n",
      "1\n",
      "('melissaloy@verizon.net', 'Melissa', 'Loy', 'Escondido', 'CA', Timestamp('2022-01-19 00:00:00'))\n",
      "2\n",
      "('JPatton@aol.com', 'Jessica', 'Patton', 'Long Beach', 'CA', Timestamp('2022-01-19 00:00:00'))\n",
      "3\n",
      "('cmilosevic@comcast.net', 'Christa', 'Milosevic', 'Anaheim', 'CA', Timestamp('2022-01-19 00:00:00'))\n",
      "4\n",
      "('rdansereau@yahoo.com', 'Robert', 'Dansereau', 'Los Angeles', 'CA', Timestamp('2022-01-19 00:00:00'))\n",
      "5\n",
      "('LChaisson@hotmail.com', 'Laura', 'Chaisson', 'Sacramento', 'CA', Timestamp('2022-01-19 00:00:00'))\n",
      "6\n",
      "('ccostales@msn.com', 'Charles', 'Costales', 'Los Angeles', 'CA', Timestamp('2022-01-19 00:00:00'))\n",
      "7\n",
      "('dcrabtree@hotmail.com', 'Damian', 'Crabtree', 'Stockton', 'CA', Timestamp('2022-01-19 00:00:00'))\n",
      "8\n",
      "('wildamcgirt@yahoo.com', 'Wilda', 'Mcgirt', 'San Jose', 'CA', Timestamp('2022-01-19 00:00:00'))\n"
     ]
    }
   ],
   "source": [
    "for i,row in custdata.iterrows():\n",
    "    print(i)\n",
    "    print(tuple(row))"
   ]
  },
  {
   "cell_type": "code",
   "execution_count": 90,
   "id": "0f05959f-bb7b-4d01-8a38-c381f36951d5",
   "metadata": {},
   "outputs": [
    {
     "name": "stdout",
     "output_type": "stream",
     "text": [
      "Error inserting rows:  2055: Cursor is not connected\n",
      "Error inserting rows:  2055: Cursor is not connected\n",
      "Error inserting rows:  2055: Cursor is not connected\n",
      "Error inserting rows:  2055: Cursor is not connected\n",
      "Error inserting rows:  2055: Cursor is not connected\n",
      "Error inserting rows:  2055: Cursor is not connected\n",
      "Error inserting rows:  2055: Cursor is not connected\n",
      "Error inserting rows:  2055: Cursor is not connected\n",
      "Error inserting rows:  2055: Cursor is not connected\n"
     ]
    }
   ],
   "source": [
    "for i,row in custdata.iterrows():\n",
    "    add_cust = (\"INSERT INTO `edw`.`customer`\"\n",
    "            \"(`CustomerEmail`, `Firstname`, `Lastname`, `City`, `State`, `Accountdate`)\"\n",
    "            \"VALUES (%s, %s, %s, %s, %s, %s)\"\n",
    "           )\n",
    "    \n",
    "    try:\n",
    "        cursor.execute(add_cust,tuple(row))\n",
    "        cnx.commit()\n",
    "        print('Row inserted successfully')\n",
    "    except mysql.connector.Error as e:\n",
    "        print('Error inserting rows: ', e)"
   ]
  },
  {
   "cell_type": "code",
   "execution_count": 89,
   "id": "3f789240-5e87-44d1-8846-bdde3ac2d1a4",
   "metadata": {},
   "outputs": [],
   "source": [
    "cursor.close()\n",
    "cnx.close()"
   ]
  },
  {
   "cell_type": "code",
   "execution_count": null,
   "id": "f6c9e25b-41b2-46fa-90d6-d62fc891652d",
   "metadata": {},
   "outputs": [],
   "source": []
  }
 ],
 "metadata": {
  "kernelspec": {
   "display_name": "Python 3",
   "language": "python",
   "name": "python3"
  },
  "language_info": {
   "codemirror_mode": {
    "name": "ipython",
    "version": 3
   },
   "file_extension": ".py",
   "mimetype": "text/x-python",
   "name": "python",
   "nbconvert_exporter": "python",
   "pygments_lexer": "ipython3",
   "version": "3.8.8"
  }
 },
 "nbformat": 4,
 "nbformat_minor": 5
}
