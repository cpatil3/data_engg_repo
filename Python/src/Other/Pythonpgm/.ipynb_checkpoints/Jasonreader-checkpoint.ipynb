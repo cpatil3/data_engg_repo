{
 "cells": [
  {
   "cell_type": "markdown",
   "id": "cb87622e-23af-4968-bc8e-38aaaa5f2d0c",
   "metadata": {},
   "source": [
    "Python pgm to read jason file"
   ]
  },
  {
   "cell_type": "code",
   "execution_count": 148,
   "id": "d1e38e56-1966-41c8-9d68-d548e1d4b666",
   "metadata": {},
   "outputs": [],
   "source": [
    "import json"
   ]
  },
  {
   "cell_type": "code",
   "execution_count": 43,
   "id": "cbeadd34-8e75-4d63-be8e-7894b027570e",
   "metadata": {},
   "outputs": [],
   "source": [
    "f = open('Input.json')"
   ]
  },
  {
   "cell_type": "code",
   "execution_count": 44,
   "id": "2376b173-2f08-4243-a670-c1dd71628ae1",
   "metadata": {},
   "outputs": [],
   "source": [
    "jdata = json.load(f)"
   ]
  },
  {
   "cell_type": "code",
   "execution_count": 45,
   "id": "4f7e09ff-4923-4955-abce-bde5056c52b3",
   "metadata": {},
   "outputs": [
    {
     "name": "stdout",
     "output_type": "stream",
     "text": [
      "{'emp_details': [{'emp_name': 'chetan', 'email': 'chetan@email.com', 'profile': 'Dev'}, {'emp_name': 'harshita', 'email': 'harshita@email.com', 'profile': 'Data'}]}\n"
     ]
    }
   ],
   "source": [
    "print(jdata)"
   ]
  },
  {
   "cell_type": "code",
   "execution_count": 46,
   "id": "9b373ac9-f89f-4159-9fe7-9a6266c27fd5",
   "metadata": {},
   "outputs": [
    {
     "name": "stdout",
     "output_type": "stream",
     "text": [
      "{'emp_name': 'chetan', 'email': 'chetan@email.com', 'profile': 'Dev'}\n",
      "{'emp_name': 'harshita', 'email': 'harshita@email.com', 'profile': 'Data'}\n"
     ]
    }
   ],
   "source": [
    "for i in jdata['emp_details']:\n",
    "    print(i)"
   ]
  },
  {
   "cell_type": "code",
   "execution_count": 149,
   "id": "88d3e172-df54-4748-b2c7-9a59019f8858",
   "metadata": {},
   "outputs": [],
   "source": [
    "#f2 = open('trans_1.json')\n",
    "f2 = open('transactions.json')"
   ]
  },
  {
   "cell_type": "code",
   "execution_count": 150,
   "id": "00eacf2c-e6b2-49dd-982b-5a255c687492",
   "metadata": {},
   "outputs": [],
   "source": [
    "jdata2 = json.load(f2)"
   ]
  },
  {
   "cell_type": "code",
   "execution_count": 151,
   "id": "b87acb39-a652-4892-9de6-dea21edb4357",
   "metadata": {},
   "outputs": [
    {
     "name": "stdout",
     "output_type": "stream",
     "text": [
      "['T-17OO0GJUTS', 'T-PE31IN24UI', 'T-87OZC760LE', 'T-EA6D1VQJ9D', 'T-WQNEP49N77', 'T-P6Q9WUWNKF', 'T-33M258Y1VB', 'T-DROKGLLWWW', 'T-TT4U7T1L2E', 'T-UONFQNTPTP']\n",
      "27545\n"
     ]
    }
   ],
   "source": [
    "print(list(jdata2)[0:10])\n",
    "print(len(jdata2))"
   ]
  },
  {
   "cell_type": "code",
   "execution_count": 37,
   "id": "33f7e679-4539-4b6b-9762-1efd40bf8609",
   "metadata": {},
   "outputs": [
    {
     "name": "stdout",
     "output_type": "stream",
     "text": [
      "customer_email\n",
      "order_date\n",
      "line_items\n",
      "Printing subitems:-------------\n",
      "DARKMAGENTA-2Q\n",
      "BLANCHEDALMOND-1Q\n"
     ]
    }
   ],
   "source": [
    "for i in jdata2['T-17OO0GJUTS']:\n",
    "    print(i)\n",
    "print('Printing subitems:-------------')\n",
    "for j in jdata2['T-17OO0GJUTS']['line_items']:\n",
    "        print(j)"
   ]
  },
  {
   "cell_type": "code",
   "execution_count": 78,
   "id": "7097379f-2e2c-4cbd-9cab-971bbd50e78d",
   "metadata": {},
   "outputs": [
    {
     "name": "stdout",
     "output_type": "stream",
     "text": [
      "T-17OO0GJUTS\n",
      "dorothygruber@gmail.com\n",
      "DARKMAGENTA-2Q\n",
      "5\n",
      "BLANCHEDALMOND-1Q\n",
      "1\n",
      "T-PE31IN24UI\n",
      "raymondsullivan@gmail.com\n",
      "RED-5G\n",
      "3\n",
      "SIENNA-5G\n",
      "3\n"
     ]
    }
   ],
   "source": [
    "for i in jdata2:\n",
    "    print(i)\n",
    "    print(jdata2[i]['customer_email'])\n",
    "    for j in jdata2[i]['line_items']:\n",
    "        print(j)\n",
    "        print(jdata2[i]['line_items'][j]['quantity'])\n"
   ]
  },
  {
   "cell_type": "code",
   "execution_count": 185,
   "id": "b029f4d8-c486-436a-ac66-249a0b4a5848",
   "metadata": {},
   "outputs": [],
   "source": [
    "#Create connection with MYSQL\n",
    "import mysql.connector\n",
    "from mysql.connector import errorcode"
   ]
  },
  {
   "cell_type": "code",
   "execution_count": 186,
   "id": "90589ba0-171b-45c0-a029-4f5a62df1e64",
   "metadata": {},
   "outputs": [
    {
     "name": "stdout",
     "output_type": "stream",
     "text": [
      "Connection to db successful\n"
     ]
    }
   ],
   "source": [
    "try:\n",
    "    cnx = mysql.connector.connect(user='root', password='Chetan',\n",
    "                                host='localhost', database='edw')\n",
    "except mysql.connector.Error as err:\n",
    "    if err.errno == errorcode.ER_ACCESS_DENIED_ERROR:\n",
    "            print('Invalid id or password')\n",
    "    elif err.errno == errorcode.ER_BAD_DB_ERROR:\n",
    "            print(err.errno)\n",
    "            print('Wrong dbname or db does not exists')\n",
    "    else:\n",
    "            print(err)\n",
    "else:\n",
    "        print('Connection to db successful')\n",
    "        cursor = cnx.cursor()"
   ]
  },
  {
   "cell_type": "code",
   "execution_count": 143,
   "id": "099b53d5-76a4-4c64-83f5-90739e20cc54",
   "metadata": {},
   "outputs": [],
   "source": [
    "add_tran = (\"INSERT INTO `edw`.`transaction` \"\n",
    "               \"(`tranid`, `customer_email`, `order_date`, `line_num`, `product`, `quantity`, `color`, `item_size`, `total_price`)\"\n",
    "               \"VALUES (%(tranid)s, %(customer_email)s, %(order_date)s, %(line_num)s, %(product)s, %(quantity)s, %(color)s, %(item_size)s, %(total_price)s)\"\n",
    "            )"
   ]
  },
  {
   "cell_type": "code",
   "execution_count": 144,
   "id": "68a9a678-18de-49a1-a24d-e7c189ec3af8",
   "metadata": {},
   "outputs": [],
   "source": [
    "cn = 0\n",
    "for i in jdata2:\n",
    "    cn = 1\n",
    "    for j in jdata2[i]['line_items']:\n",
    "        try:\n",
    "            data_tran = {\"tranid\": i, \"customer_email\": jdata2[i]['customer_email'], \"order_date\": jdata2[i]['order_date'],\n",
    "                         \"line_num\": cn, \"product\": j, \"quantity\": jdata2[i]['line_items'][j]['quantity'], \n",
    "                         \"color\": jdata2[i]['line_items'][j]['color'], \"item_size\": jdata2[i]['line_items'][j]['item_size'], \n",
    "                         \"total_price\": jdata2[i]['line_items'][j]['total_price']\n",
    "                        }\n",
    "            cursor.execute(add_tran, data_tran)\n",
    "        except mysql.connector.Error as err:\n",
    "            print(err)\n",
    "        else: \n",
    "            cn = cn + 1"
   ]
  },
  {
   "cell_type": "code",
   "execution_count": 169,
   "id": "0159e276-3108-4836-a465-c875cc3311ac",
   "metadata": {},
   "outputs": [],
   "source": [
    "cnx.commit()\n",
    "cursor.close()\n",
    "cnx.close()"
   ]
  },
  {
   "cell_type": "markdown",
   "id": "cd4b1df2-1ea4-4ae5-973b-b91c15466f32",
   "metadata": {},
   "source": [
    "**ALTERNATE APPROACH WITH NORMALIZED TABLES**"
   ]
  },
  {
   "cell_type": "code",
   "execution_count": 187,
   "id": "ed8ee660-5b9e-4a60-9209-b4cf44f25709",
   "metadata": {},
   "outputs": [],
   "source": [
    "add_tran2 = (\"INSERT INTO `edw`.`transaction_2` \"\n",
    "               \"(`tranid`, `customer_email`, `order_date`)\"\n",
    "               \"VALUES (%(tranid)s, %(customer_email)s, %(order_date)s)\"\n",
    "            )"
   ]
  },
  {
   "cell_type": "code",
   "execution_count": 188,
   "id": "c9879853-58f8-497d-84a1-618e53ecd3b7",
   "metadata": {},
   "outputs": [],
   "source": [
    "add_prod = (\"INSERT INTO `edw`.`product` \"\n",
    "               \"(`tranid`, `product`, `quantity`, `color`, `item_size`, `total_price`)\"\n",
    "               \"VALUES (%(tranid)s, %(product)s, %(quantity)s, %(color)s, %(item_size)s, %(total_price)s)\"\n",
    "            )"
   ]
  },
  {
   "cell_type": "code",
   "execution_count": 189,
   "id": "3a97d25e-2e22-4f35-87f7-651412b48b47",
   "metadata": {},
   "outputs": [],
   "source": [
    "for i in jdata2:\n",
    "    data_tran2 = {\"tranid\": i, \"customer_email\": jdata2[i]['customer_email'], \"order_date\": jdata2[i]['order_date']}\n",
    "    cursor.execute(add_tran2, data_tran2)\n",
    "        \n",
    "    for j in jdata2[i]['line_items']:\n",
    "        try:\n",
    "            data_prod = {\"tranid\": i, \"product\": j, \"quantity\": jdata2[i]['line_items'][j]['quantity'], \n",
    "                         \"color\": jdata2[i]['line_items'][j]['color'], \"item_size\": jdata2[i]['line_items'][j]['item_size'], \n",
    "                         \"total_price\": jdata2[i]['line_items'][j]['total_price']\n",
    "                        }\n",
    "            cursor.execute(add_prod, data_prod)\n",
    "            \n",
    "        except mysql.connector.Error as err:\n",
    "                print(err)  \n",
    "                cnx.commit()\n",
    "                cursor.close()\n",
    "                cnx.close()"
   ]
  },
  {
   "cell_type": "code",
   "execution_count": 190,
   "id": "0459ba8a-cdb5-47ce-8b83-d638dba15db5",
   "metadata": {},
   "outputs": [],
   "source": [
    "cnx.commit()\n",
    "cursor.close()\n",
    "cnx.close()"
   ]
  },
  {
   "cell_type": "code",
   "execution_count": null,
   "id": "c0f33b01-0104-4aa5-9d1b-fc97425e6fa4",
   "metadata": {},
   "outputs": [],
   "source": []
  }
 ],
 "metadata": {
  "kernelspec": {
   "display_name": "Python 3",
   "language": "python",
   "name": "python3"
  },
  "language_info": {
   "codemirror_mode": {
    "name": "ipython",
    "version": 3
   },
   "file_extension": ".py",
   "mimetype": "text/x-python",
   "name": "python",
   "nbconvert_exporter": "python",
   "pygments_lexer": "ipython3",
   "version": "3.8.8"
  }
 },
 "nbformat": 4,
 "nbformat_minor": 5
}
