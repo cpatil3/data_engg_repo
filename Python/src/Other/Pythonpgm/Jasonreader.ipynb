{
 "cells": [
  {
   "cell_type": "markdown",
   "id": "cb87622e-23af-4968-bc8e-38aaaa5f2d0c",
   "metadata": {},
   "source": [
    "Python pgm to read jason file"
   ]
  },
  {
   "cell_type": "code",
   "execution_count": 232,
   "id": "d1e38e56-1966-41c8-9d68-d548e1d4b666",
   "metadata": {},
   "outputs": [],
   "source": [
    "import json"
   ]
  },
  {
   "cell_type": "code",
   "execution_count": 43,
   "id": "cbeadd34-8e75-4d63-be8e-7894b027570e",
   "metadata": {},
   "outputs": [],
   "source": [
    "f = open('Input.json')"
   ]
  },
  {
   "cell_type": "code",
   "execution_count": 44,
   "id": "2376b173-2f08-4243-a670-c1dd71628ae1",
   "metadata": {},
   "outputs": [],
   "source": [
    "jdata = json.load(f)"
   ]
  },
  {
   "cell_type": "code",
   "execution_count": 45,
   "id": "4f7e09ff-4923-4955-abce-bde5056c52b3",
   "metadata": {},
   "outputs": [
    {
     "name": "stdout",
     "output_type": "stream",
     "text": [
      "{'emp_details': [{'emp_name': 'chetan', 'email': 'chetan@email.com', 'profile': 'Dev'}, {'emp_name': 'harshita', 'email': 'harshita@email.com', 'profile': 'Data'}]}\n"
     ]
    }
   ],
   "source": [
    "print(jdata)"
   ]
  },
  {
   "cell_type": "code",
   "execution_count": 46,
   "id": "9b373ac9-f89f-4159-9fe7-9a6266c27fd5",
   "metadata": {},
   "outputs": [
    {
     "name": "stdout",
     "output_type": "stream",
     "text": [
      "{'emp_name': 'chetan', 'email': 'chetan@email.com', 'profile': 'Dev'}\n",
      "{'emp_name': 'harshita', 'email': 'harshita@email.com', 'profile': 'Data'}\n"
     ]
    }
   ],
   "source": [
    "for i in jdata['emp_details']:\n",
    "    print(i)"
   ]
  },
  {
   "cell_type": "code",
   "execution_count": 233,
   "id": "88d3e172-df54-4748-b2c7-9a59019f8858",
   "metadata": {},
   "outputs": [],
   "source": [
    "#f2 = open('trans_1.json')\n",
    "f2 = open('transactions.json')"
   ]
  },
  {
   "cell_type": "code",
   "execution_count": 234,
   "id": "00eacf2c-e6b2-49dd-982b-5a255c687492",
   "metadata": {},
   "outputs": [],
   "source": [
    "jdata2 = json.load(f2)"
   ]
  },
  {
   "cell_type": "code",
   "execution_count": 235,
   "id": "b87acb39-a652-4892-9de6-dea21edb4357",
   "metadata": {},
   "outputs": [
    {
     "name": "stdout",
     "output_type": "stream",
     "text": [
      "['T-17OO0GJUTS', 'T-PE31IN24UI', 'T-87OZC760LE', 'T-EA6D1VQJ9D', 'T-WQNEP49N77', 'T-P6Q9WUWNKF', 'T-33M258Y1VB', 'T-DROKGLLWWW', 'T-TT4U7T1L2E', 'T-UONFQNTPTP']\n",
      "27545\n"
     ]
    }
   ],
   "source": [
    "print(list(jdata2)[0:10])\n",
    "print(len(jdata2))"
   ]
  },
  {
   "cell_type": "code",
   "execution_count": 37,
   "id": "33f7e679-4539-4b6b-9762-1efd40bf8609",
   "metadata": {},
   "outputs": [
    {
     "name": "stdout",
     "output_type": "stream",
     "text": [
      "customer_email\n",
      "order_date\n",
      "line_items\n",
      "Printing subitems:-------------\n",
      "DARKMAGENTA-2Q\n",
      "BLANCHEDALMOND-1Q\n"
     ]
    }
   ],
   "source": [
    "for i in jdata2['T-17OO0GJUTS']:\n",
    "    print(i)\n",
    "print('Printing subitems:-------------')\n",
    "for j in jdata2['T-17OO0GJUTS']['line_items']:\n",
    "        print(j)"
   ]
  },
  {
   "cell_type": "code",
   "execution_count": 78,
   "id": "7097379f-2e2c-4cbd-9cab-971bbd50e78d",
   "metadata": {},
   "outputs": [
    {
     "name": "stdout",
     "output_type": "stream",
     "text": [
      "T-17OO0GJUTS\n",
      "dorothygruber@gmail.com\n",
      "DARKMAGENTA-2Q\n",
      "5\n",
      "BLANCHEDALMOND-1Q\n",
      "1\n",
      "T-PE31IN24UI\n",
      "raymondsullivan@gmail.com\n",
      "RED-5G\n",
      "3\n",
      "SIENNA-5G\n",
      "3\n"
     ]
    }
   ],
   "source": [
    "for i in jdata2:\n",
    "    print(i)\n",
    "    print(jdata2[i]['customer_email'])\n",
    "    for j in jdata2[i]['line_items']:\n",
    "        print(j)\n",
    "        print(jdata2[i]['line_items'][j]['quantity'])\n"
   ]
  },
  {
   "cell_type": "code",
   "execution_count": 236,
   "id": "b029f4d8-c486-436a-ac66-249a0b4a5848",
   "metadata": {},
   "outputs": [],
   "source": [
    "#Create connection with MYSQL\n",
    "import mysql.connector\n",
    "from mysql.connector import errorcode"
   ]
  },
  {
   "cell_type": "code",
   "execution_count": 237,
   "id": "90589ba0-171b-45c0-a029-4f5a62df1e64",
   "metadata": {},
   "outputs": [
    {
     "name": "stdout",
     "output_type": "stream",
     "text": [
      "Connection to db successful\n"
     ]
    }
   ],
   "source": [
    "try:\n",
    "    cnx = mysql.connector.connect(user='root', password='Chetan',\n",
    "                                host='localhost', database='edw')\n",
    "except mysql.connector.Error as err:\n",
    "    if err.errno == errorcode.ER_ACCESS_DENIED_ERROR:\n",
    "            print('Invalid id or password')\n",
    "    elif err.errno == errorcode.ER_BAD_DB_ERROR:\n",
    "            print(err.errno)\n",
    "            print('Wrong dbname or db does not exists')\n",
    "    else:\n",
    "            print(err)\n",
    "else:\n",
    "        print('Connection to db successful')\n",
    "        cursor = cnx.cursor()"
   ]
  },
  {
   "cell_type": "code",
   "execution_count": 238,
   "id": "099b53d5-76a4-4c64-83f5-90739e20cc54",
   "metadata": {},
   "outputs": [],
   "source": [
    "add_tran = (\"INSERT INTO `edw`.`transaction_stg` \"\n",
    "               \"(`tranid`, `customer_email`, `order_date`, `line_num`, `product`, `quantity`, `color`, `item_size`, `total_price`)\"\n",
    "               \"VALUES (%(tranid)s, %(customer_email)s, %(order_date)s, %(line_num)s, %(product)s, %(quantity)s, %(color)s, %(item_size)s, %(total_price)s)\"\n",
    "            )"
   ]
  },
  {
   "cell_type": "code",
   "execution_count": 239,
   "id": "68a9a678-18de-49a1-a24d-e7c189ec3af8",
   "metadata": {},
   "outputs": [],
   "source": [
    "cn = 0\n",
    "for i in jdata2:\n",
    "    cn = 1\n",
    "    for j in jdata2[i]['line_items']:\n",
    "        try:\n",
    "            data_tran = {\"tranid\": i, \"customer_email\": jdata2[i]['customer_email'], \"order_date\": jdata2[i]['order_date'],\n",
    "                         \"line_num\": cn, \"product\": j, \"quantity\": jdata2[i]['line_items'][j]['quantity'], \n",
    "                         \"color\": jdata2[i]['line_items'][j]['color'], \"item_size\": jdata2[i]['line_items'][j]['item_size'], \n",
    "                         \"total_price\": jdata2[i]['line_items'][j]['total_price']\n",
    "                        }\n",
    "            cursor.execute(add_tran, data_tran)\n",
    "        except mysql.connector.Error as err:\n",
    "            print(err)\n",
    "        else: \n",
    "            cn = cn + 1"
   ]
  },
  {
   "cell_type": "code",
   "execution_count": 240,
   "id": "0159e276-3108-4836-a465-c875cc3311ac",
   "metadata": {},
   "outputs": [],
   "source": [
    "cnx.commit()\n",
    "cursor.close()\n",
    "cnx.close()"
   ]
  },
  {
   "cell_type": "markdown",
   "id": "cd4b1df2-1ea4-4ae5-973b-b91c15466f32",
   "metadata": {},
   "source": [
    "**ALTERNATE APPROACH WITH NORMALIZED TABLES**"
   ]
  },
  {
   "cell_type": "code",
   "execution_count": 187,
   "id": "ed8ee660-5b9e-4a60-9209-b4cf44f25709",
   "metadata": {},
   "outputs": [],
   "source": [
    "add_tran2 = (\"INSERT INTO `edw`.`transaction_2` \"\n",
    "               \"(`tranid`, `customer_email`, `order_date`)\"\n",
    "               \"VALUES (%(tranid)s, %(customer_email)s, %(order_date)s)\"\n",
    "            )"
   ]
  },
  {
   "cell_type": "code",
   "execution_count": 188,
   "id": "c9879853-58f8-497d-84a1-618e53ecd3b7",
   "metadata": {},
   "outputs": [],
   "source": [
    "add_prod = (\"INSERT INTO `edw`.`product` \"\n",
    "               \"(`tranid`, `product`, `quantity`, `color`, `item_size`, `total_price`)\"\n",
    "               \"VALUES (%(tranid)s, %(product)s, %(quantity)s, %(color)s, %(item_size)s, %(total_price)s)\"\n",
    "            )"
   ]
  },
  {
   "cell_type": "code",
   "execution_count": 189,
   "id": "3a97d25e-2e22-4f35-87f7-651412b48b47",
   "metadata": {},
   "outputs": [],
   "source": [
    "for i in jdata2:\n",
    "    data_tran2 = {\"tranid\": i, \"customer_email\": jdata2[i]['customer_email'], \"order_date\": jdata2[i]['order_date']}\n",
    "    cursor.execute(add_tran2, data_tran2)\n",
    "        \n",
    "    for j in jdata2[i]['line_items']:\n",
    "        try:\n",
    "            data_prod = {\"tranid\": i, \"product\": j, \"quantity\": jdata2[i]['line_items'][j]['quantity'], \n",
    "                         \"color\": jdata2[i]['line_items'][j]['color'], \"item_size\": jdata2[i]['line_items'][j]['item_size'], \n",
    "                         \"total_price\": jdata2[i]['line_items'][j]['total_price']\n",
    "                        }\n",
    "            cursor.execute(add_prod, data_prod)\n",
    "            \n",
    "        except mysql.connector.Error as err:\n",
    "                print(err)  \n",
    "                cnx.commit()\n",
    "                cursor.close()\n",
    "                cnx.close()"
   ]
  },
  {
   "cell_type": "code",
   "execution_count": 210,
   "id": "0459ba8a-cdb5-47ce-8b83-d638dba15db5",
   "metadata": {},
   "outputs": [
    {
     "ename": "MySQLInterfaceError",
     "evalue": "MySQL server has gone away",
     "output_type": "error",
     "traceback": [
      "\u001b[1;31m---------------------------------------------------------------------------\u001b[0m",
      "\u001b[1;31mMySQLInterfaceError\u001b[0m                       Traceback (most recent call last)",
      "\u001b[1;32m<ipython-input-210-7c5ea47d398c>\u001b[0m in \u001b[0;36m<module>\u001b[1;34m\u001b[0m\n\u001b[1;32m----> 1\u001b[1;33m \u001b[0mcnx\u001b[0m\u001b[1;33m.\u001b[0m\u001b[0mcommit\u001b[0m\u001b[1;33m(\u001b[0m\u001b[1;33m)\u001b[0m\u001b[1;33m\u001b[0m\u001b[1;33m\u001b[0m\u001b[0m\n\u001b[0m\u001b[0;32m      2\u001b[0m \u001b[0mcursor\u001b[0m\u001b[1;33m.\u001b[0m\u001b[0mclose\u001b[0m\u001b[1;33m(\u001b[0m\u001b[1;33m)\u001b[0m\u001b[1;33m\u001b[0m\u001b[1;33m\u001b[0m\u001b[0m\n\u001b[0;32m      3\u001b[0m \u001b[0mcnx\u001b[0m\u001b[1;33m.\u001b[0m\u001b[0mclose\u001b[0m\u001b[1;33m(\u001b[0m\u001b[1;33m)\u001b[0m\u001b[1;33m\u001b[0m\u001b[1;33m\u001b[0m\u001b[0m\n",
      "\u001b[1;32m~\\Anaconda3\\lib\\site-packages\\mysql\\connector\\connection_cext.py\u001b[0m in \u001b[0;36mcommit\u001b[1;34m(self)\u001b[0m\n\u001b[0;32m    411\u001b[0m         \u001b[1;34m\"\"\"Commit current transaction\"\"\"\u001b[0m\u001b[1;33m\u001b[0m\u001b[1;33m\u001b[0m\u001b[0m\n\u001b[0;32m    412\u001b[0m         \u001b[1;32mif\u001b[0m \u001b[0mself\u001b[0m\u001b[1;33m.\u001b[0m\u001b[0m_cmysql\u001b[0m\u001b[1;33m:\u001b[0m\u001b[1;33m\u001b[0m\u001b[1;33m\u001b[0m\u001b[0m\n\u001b[1;32m--> 413\u001b[1;33m             \u001b[0mself\u001b[0m\u001b[1;33m.\u001b[0m\u001b[0m_cmysql\u001b[0m\u001b[1;33m.\u001b[0m\u001b[0mcommit\u001b[0m\u001b[1;33m(\u001b[0m\u001b[1;33m)\u001b[0m\u001b[1;33m\u001b[0m\u001b[1;33m\u001b[0m\u001b[0m\n\u001b[0m\u001b[0;32m    414\u001b[0m \u001b[1;33m\u001b[0m\u001b[0m\n\u001b[0;32m    415\u001b[0m     \u001b[1;32mdef\u001b[0m \u001b[0mrollback\u001b[0m\u001b[1;33m(\u001b[0m\u001b[0mself\u001b[0m\u001b[1;33m)\u001b[0m\u001b[1;33m:\u001b[0m\u001b[1;33m\u001b[0m\u001b[1;33m\u001b[0m\u001b[0m\n",
      "\u001b[1;31mMySQLInterfaceError\u001b[0m: MySQL server has gone away"
     ]
    }
   ],
   "source": [
    "cnx.commit()\n",
    "cursor.close()\n",
    "cnx.close()"
   ]
  },
  {
   "cell_type": "code",
   "execution_count": 201,
   "id": "c0f33b01-0104-4aa5-9d1b-fc97425e6fa4",
   "metadata": {},
   "outputs": [],
   "source": [
    "insr_order = (\"insert into edw.order_f(tranid, custid, order_date, line_num, productid, quantity, total_price) \"\n",
    "                \"select t.tranid, c.custid, t.order_date, t.line_num, p.productid, t.quantity, t.total_price \"\n",
    "                \"from edw.transaction t \"\n",
    "                \"inner join edw.customer_dim c on t.customer_email = c.customerEmail \"\n",
    "                \"inner join edw.product_dm p   on t.product = p.product \"\n",
    "             )"
   ]
  },
  {
   "cell_type": "code",
   "execution_count": 202,
   "id": "0f8469b4-705e-4373-ae47-53311371b790",
   "metadata": {},
   "outputs": [],
   "source": [
    "cursor.execute(insr_order)"
   ]
  },
  {
   "cell_type": "code",
   "execution_count": 207,
   "id": "a3329882-634f-4438-bcf8-60c5eb27df4d",
   "metadata": {},
   "outputs": [],
   "source": [
    "trunc_tbl = (\"truncate table edw.transaction\")"
   ]
  },
  {
   "cell_type": "code",
   "execution_count": 208,
   "id": "27e1e9b1-8bdd-45cd-a648-4c148bb1cee8",
   "metadata": {},
   "outputs": [
    {
     "ename": "ProgrammingError",
     "evalue": "1146 (42S02): Table 'edw.transaction' doesn't exist",
     "output_type": "error",
     "traceback": [
      "\u001b[1;31m---------------------------------------------------------------------------\u001b[0m",
      "\u001b[1;31mMySQLInterfaceError\u001b[0m                       Traceback (most recent call last)",
      "\u001b[1;32m~\\Anaconda3\\lib\\site-packages\\mysql\\connector\\connection_cext.py\u001b[0m in \u001b[0;36mcmd_query\u001b[1;34m(self, query, raw, buffered, raw_as_string)\u001b[0m\n\u001b[0;32m    522\u001b[0m                 \u001b[0mquery\u001b[0m \u001b[1;33m=\u001b[0m \u001b[0mquery\u001b[0m\u001b[1;33m.\u001b[0m\u001b[0mencode\u001b[0m\u001b[1;33m(\u001b[0m\u001b[1;34m'utf-8'\u001b[0m\u001b[1;33m)\u001b[0m\u001b[1;33m\u001b[0m\u001b[1;33m\u001b[0m\u001b[0m\n\u001b[1;32m--> 523\u001b[1;33m             self._cmysql.query(query,\n\u001b[0m\u001b[0;32m    524\u001b[0m                                \u001b[0mraw\u001b[0m\u001b[1;33m=\u001b[0m\u001b[0mraw\u001b[0m\u001b[1;33m,\u001b[0m \u001b[0mbuffered\u001b[0m\u001b[1;33m=\u001b[0m\u001b[0mbuffered\u001b[0m\u001b[1;33m,\u001b[0m\u001b[1;33m\u001b[0m\u001b[1;33m\u001b[0m\u001b[0m\n",
      "\u001b[1;31mMySQLInterfaceError\u001b[0m: Table 'edw.transaction' doesn't exist",
      "\nDuring handling of the above exception, another exception occurred:\n",
      "\u001b[1;31mProgrammingError\u001b[0m                          Traceback (most recent call last)",
      "\u001b[1;32m<ipython-input-208-12e6720779ab>\u001b[0m in \u001b[0;36m<module>\u001b[1;34m\u001b[0m\n\u001b[1;32m----> 1\u001b[1;33m \u001b[0mcursor\u001b[0m\u001b[1;33m.\u001b[0m\u001b[0mexecute\u001b[0m\u001b[1;33m(\u001b[0m\u001b[0mtrunc_tbl\u001b[0m\u001b[1;33m)\u001b[0m\u001b[1;33m\u001b[0m\u001b[1;33m\u001b[0m\u001b[0m\n\u001b[0m",
      "\u001b[1;32m~\\Anaconda3\\lib\\site-packages\\mysql\\connector\\cursor_cext.py\u001b[0m in \u001b[0;36mexecute\u001b[1;34m(self, operation, params, multi)\u001b[0m\n\u001b[0;32m    267\u001b[0m \u001b[1;33m\u001b[0m\u001b[0m\n\u001b[0;32m    268\u001b[0m         \u001b[1;32mtry\u001b[0m\u001b[1;33m:\u001b[0m\u001b[1;33m\u001b[0m\u001b[1;33m\u001b[0m\u001b[0m\n\u001b[1;32m--> 269\u001b[1;33m             result = self._cnx.cmd_query(stmt, raw=self._raw,\n\u001b[0m\u001b[0;32m    270\u001b[0m                                          \u001b[0mbuffered\u001b[0m\u001b[1;33m=\u001b[0m\u001b[0mself\u001b[0m\u001b[1;33m.\u001b[0m\u001b[0m_buffered\u001b[0m\u001b[1;33m,\u001b[0m\u001b[1;33m\u001b[0m\u001b[1;33m\u001b[0m\u001b[0m\n\u001b[0;32m    271\u001b[0m                                          raw_as_string=self._raw_as_string)\n",
      "\u001b[1;32m~\\Anaconda3\\lib\\site-packages\\mysql\\connector\\connection_cext.py\u001b[0m in \u001b[0;36mcmd_query\u001b[1;34m(self, query, raw, buffered, raw_as_string)\u001b[0m\n\u001b[0;32m    526\u001b[0m                                query_attrs=self._query_attrs)\n\u001b[0;32m    527\u001b[0m         \u001b[1;32mexcept\u001b[0m \u001b[0mMySQLInterfaceError\u001b[0m \u001b[1;32mas\u001b[0m \u001b[0mexc\u001b[0m\u001b[1;33m:\u001b[0m\u001b[1;33m\u001b[0m\u001b[1;33m\u001b[0m\u001b[0m\n\u001b[1;32m--> 528\u001b[1;33m             raise errors.get_mysql_exception(exc.errno, msg=exc.msg,\n\u001b[0m\u001b[0;32m    529\u001b[0m                                              sqlstate=exc.sqlstate)\n\u001b[0;32m    530\u001b[0m         \u001b[1;32mexcept\u001b[0m \u001b[0mAttributeError\u001b[0m\u001b[1;33m:\u001b[0m\u001b[1;33m\u001b[0m\u001b[1;33m\u001b[0m\u001b[0m\n",
      "\u001b[1;31mProgrammingError\u001b[0m: 1146 (42S02): Table 'edw.transaction' doesn't exist"
     ]
    }
   ],
   "source": [
    "cursor.execute(trunc_tbl)"
   ]
  },
  {
   "cell_type": "code",
   "execution_count": 241,
   "id": "8c10fc17-f539-4d85-9574-93483b3f286e",
   "metadata": {},
   "outputs": [],
   "source": [
    "a = 10"
   ]
  },
  {
   "cell_type": "code",
   "execution_count": 243,
   "id": "06e706d2-79ec-4ff5-bf13-4df044161293",
   "metadata": {},
   "outputs": [
    {
     "name": "stdout",
     "output_type": "stream",
     "text": [
      "total rows:  10\n"
     ]
    }
   ],
   "source": [
    "print('total rows: ', a)"
   ]
  },
  {
   "cell_type": "code",
   "execution_count": null,
   "id": "e32de3be-68f1-44c5-bbfe-0c95623d4636",
   "metadata": {},
   "outputs": [],
   "source": []
  }
 ],
 "metadata": {
  "kernelspec": {
   "display_name": "Python 3",
   "language": "python",
   "name": "python3"
  },
  "language_info": {
   "codemirror_mode": {
    "name": "ipython",
    "version": 3
   },
   "file_extension": ".py",
   "mimetype": "text/x-python",
   "name": "python",
   "nbconvert_exporter": "python",
   "pygments_lexer": "ipython3",
   "version": "3.8.8"
  }
 },
 "nbformat": 4,
 "nbformat_minor": 5
}
