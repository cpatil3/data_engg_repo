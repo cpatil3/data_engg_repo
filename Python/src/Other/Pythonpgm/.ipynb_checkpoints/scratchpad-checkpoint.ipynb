{
 "cells": [
  {
   "cell_type": "code",
   "execution_count": 7,
   "id": "5e0dff09-0b88-4f69-af26-ef68156b5e04",
   "metadata": {},
   "outputs": [],
   "source": [
    "fname = \"Chetan\""
   ]
  },
  {
   "cell_type": "code",
   "execution_count": 3,
   "id": "ae179d6b-2689-48ba-9b59-3051a2aaf90f",
   "metadata": {},
   "outputs": [],
   "source": [
    "nm_tp = tuple(name)"
   ]
  },
  {
   "cell_type": "code",
   "execution_count": 5,
   "id": "bf5fb153-af85-4deb-a654-4c92b62f8f15",
   "metadata": {},
   "outputs": [
    {
     "data": {
      "text/plain": [
       "['C', 'h', 'e', 't', 'a', 'n']"
      ]
     },
     "execution_count": 5,
     "metadata": {},
     "output_type": "execute_result"
    }
   ],
   "source": [
    "list(nm_tp)"
   ]
  },
  {
   "cell_type": "code",
   "execution_count": 6,
   "id": "08dd2cad-8bca-436d-a0ce-5910e464fe55",
   "metadata": {},
   "outputs": [
    {
     "data": {
      "text/plain": [
       "'C'"
      ]
     },
     "execution_count": 6,
     "metadata": {},
     "output_type": "execute_result"
    }
   ],
   "source": [
    "nm_tp[0]"
   ]
  },
  {
   "cell_type": "code",
   "execution_count": 8,
   "id": "9e495c58-1ed0-49aa-b7a5-004fbd4d79a7",
   "metadata": {},
   "outputs": [],
   "source": [
    "lname = \"Patil\""
   ]
  },
  {
   "cell_type": "code",
   "execution_count": 10,
   "id": "5a26fdc6-4af9-4048-b643-f3c9421b6420",
   "metadata": {},
   "outputs": [
    {
     "name": "stdout",
     "output_type": "stream",
     "text": [
      "ChetanPatil\n"
     ]
    }
   ],
   "source": [
    "name = fname + lname\n",
    "print(name)"
   ]
  },
  {
   "cell_type": "code",
   "execution_count": 11,
   "id": "64cd4ad1-7de2-4ac4-bc66-c5771f2f60b7",
   "metadata": {},
   "outputs": [
    {
     "name": "stdout",
     "output_type": "stream",
     "text": [
      "ChetanPatilPrakash\n"
     ]
    }
   ],
   "source": [
    "name += \"Prakash\"\n",
    "print(name)"
   ]
  },
  {
   "cell_type": "code",
   "execution_count": 15,
   "id": "8b2cc766-bdd7-47f8-b0f5-2fe1da5a397c",
   "metadata": {},
   "outputs": [
    {
     "data": {
      "text/plain": [
       "'DhuleChetanPatilPrakashMaha'"
      ]
     },
     "execution_count": 15,
     "metadata": {},
     "output_type": "execute_result"
    }
   ],
   "source": [
    "name.join([\"Dhule\", \"Maha\"])"
   ]
  },
  {
   "cell_type": "code",
   "execution_count": null,
   "id": "68b02071-7da0-411e-8bc9-2f46aaa32e2b",
   "metadata": {},
   "outputs": [],
   "source": []
  }
 ],
 "metadata": {
  "kernelspec": {
   "display_name": "Python 3 (ipykernel)",
   "language": "python",
   "name": "python3"
  },
  "language_info": {
   "codemirror_mode": {
    "name": "ipython",
    "version": 3
   },
   "file_extension": ".py",
   "mimetype": "text/x-python",
   "name": "python",
   "nbconvert_exporter": "python",
   "pygments_lexer": "ipython3",
   "version": "3.9.12"
  }
 },
 "nbformat": 4,
 "nbformat_minor": 5
}
