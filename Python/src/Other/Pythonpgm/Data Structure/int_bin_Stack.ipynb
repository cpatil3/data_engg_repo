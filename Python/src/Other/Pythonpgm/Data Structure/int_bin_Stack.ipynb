{
 "cells": [
  {
   "cell_type": "markdown",
   "id": "bfe591f4-5fc1-466f-b846-90a74393e64a",
   "metadata": {},
   "source": [
    "Use a stack data structure to convert integer values to binary"
   ]
  },
  {
   "cell_type": "markdown",
   "id": "90c5ef65-5b9e-465e-ba7a-fc3ce7384846",
   "metadata": {},
   "source": [
    "Example 241 to Binary:\n",
    "*Use double divide to get just intger return and igonre fraction\n",
    "241 // 2 = 121 -> 0\n",
    "121 // 2 = 60  -> 1\n",
    "60 // 2  = 30  -> 0\n",
    "30 // 2  = 15  -> 0\n",
    "15 // 2  = 7   -> 1\n",
    "7 // 2   = 3   -> 1\n",
    "3 // 2   = 1   -> 1\n",
    "1 // 2   = 0   -> 1\n"
   ]
  },
  {
   "cell_type": "code",
   "execution_count": 1,
   "id": "c719a769-6dd3-420a-a798-1006af134c93",
   "metadata": {},
   "outputs": [],
   "source": [
    "from stack import Stack"
   ]
  },
  {
   "cell_type": "code",
   "execution_count": 7,
   "id": "bd412571-9bea-4ae3-ba1c-b3ee14a6d884",
   "metadata": {},
   "outputs": [],
   "source": [
    "def div_by_2(dec_num):\n",
    "    s = Stack()\n",
    "    \n",
    "    while dec_num > 0:\n",
    "        rem = dec_num % 2\n",
    "        s.push(rem)\n",
    "        dec_num = dec_num // 2\n",
    "        \n",
    "    bin_num = \"\"\n",
    "    while not s.is_empty():\n",
    "        bin_num += str(s.pop())\n",
    "    \n",
    "    return bin_num\n",
    "        "
   ]
  },
  {
   "cell_type": "code",
   "execution_count": 13,
   "id": "c9f34774-0b79-46d7-bff1-c40c6f231e22",
   "metadata": {},
   "outputs": [
    {
     "data": {
      "text/plain": [
       "'101'"
      ]
     },
     "execution_count": 13,
     "metadata": {},
     "output_type": "execute_result"
    }
   ],
   "source": [
    "div_by_2(5)"
   ]
  }
 ],
 "metadata": {
  "kernelspec": {
   "display_name": "Python 3 (ipykernel)",
   "language": "python",
   "name": "python3"
  },
  "language_info": {
   "codemirror_mode": {
    "name": "ipython",
    "version": 3
   },
   "file_extension": ".py",
   "mimetype": "text/x-python",
   "name": "python",
   "nbconvert_exporter": "python",
   "pygments_lexer": "ipython3",
   "version": "3.9.12"
  }
 },
 "nbformat": 4,
 "nbformat_minor": 5
}
