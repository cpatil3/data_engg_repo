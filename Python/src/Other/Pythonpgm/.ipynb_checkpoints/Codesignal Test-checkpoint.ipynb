{
 "cells": [
  {
   "cell_type": "code",
   "execution_count": 3,
   "id": "11749e02",
   "metadata": {},
   "outputs": [],
   "source": [
    "xs = [()]"
   ]
  },
  {
   "cell_type": "code",
   "execution_count": 18,
   "id": "0b47a405",
   "metadata": {},
   "outputs": [],
   "source": [
    "import timeit"
   ]
  },
  {
   "cell_type": "code",
   "execution_count": 4,
   "id": "2e252cc4",
   "metadata": {},
   "outputs": [
    {
     "name": "stdout",
     "output_type": "stream",
     "text": [
      "Hello\n"
     ]
    }
   ],
   "source": [
    "if xs:\n",
    "    print('Hello')"
   ]
  },
  {
   "cell_type": "code",
   "execution_count": 6,
   "id": "54274b78",
   "metadata": {},
   "outputs": [],
   "source": [
    "## Interval notifications --\n",
    "## [] brackets indicates <= and >=\n",
    "## () brackets indicatess < and >\n",
    "## 1 <= x >5 can be written as [1,5)"
   ]
  },
  {
   "cell_type": "code",
   "execution_count": 43,
   "id": "93637678",
   "metadata": {},
   "outputs": [],
   "source": [
    "def sqrng(x, y, l, r):\n",
    "    start_time = timeit.default_timer()\n",
    "    \n",
    "##    if l < x**y <= r:\n",
    "    if x**y < l and x**y >= r:\n",
    "##    if x**y in range(l + 1, r + 1):\n",
    "        end_time = timeit.default_timer()\n",
    "        dur_time = end_time - start_time\n",
    "        print(\"Program Executed in \"+str(dur_time))\n",
    "        return True\n",
    "    else:\n",
    "        end_time = timeit.default_timer()\n",
    "        dur_time = end_time - start_time\n",
    "        print(\"Program Executed in \"+str(dur_time))\n",
    "        return False"
   ]
  },
  {
   "cell_type": "code",
   "execution_count": 41,
   "id": "11fd5539",
   "metadata": {},
   "outputs": [
    {
     "name": "stdout",
     "output_type": "stream",
     "text": [
      "Program Executed in 2.999999651365215e-06\n"
     ]
    },
    {
     "data": {
      "text/plain": [
       "True"
      ]
     },
     "execution_count": 41,
     "metadata": {},
     "output_type": "execute_result"
    }
   ],
   "source": [
    "sqrng(12,12,10,8916100448270)"
   ]
  },
  {
   "cell_type": "code",
   "execution_count": 50,
   "id": "929301c9",
   "metadata": {},
   "outputs": [
    {
     "name": "stdout",
     "output_type": "stream",
     "text": [
      "Program Executed in 2.2999997781880666e-06\n"
     ]
    },
    {
     "data": {
      "text/plain": [
       "False"
      ]
     },
     "execution_count": 50,
     "metadata": {},
     "output_type": "execute_result"
    }
   ],
   "source": [
    "sqrng(12,12,10,8916100448270)"
   ]
  },
  {
   "cell_type": "code",
   "execution_count": 25,
   "id": "b8f97893",
   "metadata": {},
   "outputs": [
    {
     "name": "stdout",
     "output_type": "stream",
     "text": [
      "Program Executed in 3.900000137946336e-06\n"
     ]
    },
    {
     "data": {
      "text/plain": [
       "False"
      ]
     },
     "execution_count": 25,
     "metadata": {},
     "output_type": "execute_result"
    }
   ],
   "source": [
    "sqrng(2,2,1,1)"
   ]
  },
  {
   "cell_type": "code",
   "execution_count": 35,
   "id": "c52c4848",
   "metadata": {},
   "outputs": [
    {
     "data": {
      "text/plain": [
       "8916100448256"
      ]
     },
     "execution_count": 35,
     "metadata": {},
     "output_type": "execute_result"
    }
   ],
   "source": [
    "12**12"
   ]
  },
  {
   "cell_type": "code",
   "execution_count": 56,
   "id": "8361985c",
   "metadata": {},
   "outputs": [],
   "source": [
    "a = False\n",
    "b = True"
   ]
  },
  {
   "cell_type": "code",
   "execution_count": 57,
   "id": "3c7d39fd",
   "metadata": {},
   "outputs": [
    {
     "data": {
      "text/plain": [
       "True"
      ]
     },
     "execution_count": 57,
     "metadata": {},
     "output_type": "execute_result"
    }
   ],
   "source": [
    "not a == b"
   ]
  },
  {
   "cell_type": "code",
   "execution_count": 58,
   "id": "b4d7c61a",
   "metadata": {},
   "outputs": [
    {
     "data": {
      "text/plain": [
       "True"
      ]
     },
     "execution_count": 58,
     "metadata": {},
     "output_type": "execute_result"
    }
   ],
   "source": [
    "not (a==b)"
   ]
  },
  {
   "cell_type": "code",
   "execution_count": 60,
   "id": "c5abc4a2",
   "metadata": {},
   "outputs": [
    {
     "data": {
      "text/plain": [
       "True"
      ]
     },
     "execution_count": 60,
     "metadata": {},
     "output_type": "execute_result"
    }
   ],
   "source": [
    "a == (not b)"
   ]
  },
  {
   "cell_type": "code",
   "execution_count": null,
   "id": "3904e402",
   "metadata": {},
   "outputs": [],
   "source": []
  }
 ],
 "metadata": {
  "kernelspec": {
   "display_name": "Python 3 (ipykernel)",
   "language": "python",
   "name": "python3"
  },
  "language_info": {
   "codemirror_mode": {
    "name": "ipython",
    "version": 3
   },
   "file_extension": ".py",
   "mimetype": "text/x-python",
   "name": "python",
   "nbconvert_exporter": "python",
   "pygments_lexer": "ipython3",
   "version": "3.9.12"
  }
 },
 "nbformat": 4,
 "nbformat_minor": 5
}
