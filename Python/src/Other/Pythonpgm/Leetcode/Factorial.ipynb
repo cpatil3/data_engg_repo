{
 "cells": [
  {
   "cell_type": "markdown",
   "id": "01b1e768",
   "metadata": {},
   "source": [
    "I Linear method"
   ]
  },
  {
   "cell_type": "code",
   "execution_count": 5,
   "id": "5da794d7",
   "metadata": {},
   "outputs": [],
   "source": [
    "def fact(n):\n",
    "    res = 1\n",
    "    for i in range(1,n+1):\n",
    "        res = res * i\n",
    "    \n",
    "    print(res)"
   ]
  },
  {
   "cell_type": "code",
   "execution_count": 7,
   "id": "e6e795e3",
   "metadata": {},
   "outputs": [
    {
     "name": "stdout",
     "output_type": "stream",
     "text": [
      "120\n"
     ]
    }
   ],
   "source": [
    "fact(5)"
   ]
  },
  {
   "cell_type": "markdown",
   "id": "d9ddaf99",
   "metadata": {},
   "source": [
    "II Recursive method"
   ]
  },
  {
   "cell_type": "code",
   "execution_count": 8,
   "id": "54861835",
   "metadata": {},
   "outputs": [],
   "source": [
    "def fact(n):\n",
    "    if n == 0:\n",
    "        return 1\n",
    "    return n * fact(n-1)"
   ]
  },
  {
   "cell_type": "code",
   "execution_count": 11,
   "id": "3bba84a8",
   "metadata": {},
   "outputs": [],
   "source": [
    "res = fact(5)"
   ]
  },
  {
   "cell_type": "code",
   "execution_count": 12,
   "id": "051714ee",
   "metadata": {},
   "outputs": [
    {
     "data": {
      "text/plain": [
       "120"
      ]
     },
     "execution_count": 12,
     "metadata": {},
     "output_type": "execute_result"
    }
   ],
   "source": [
    "res"
   ]
  },
  {
   "cell_type": "code",
   "execution_count": 14,
   "id": "f268e932",
   "metadata": {},
   "outputs": [],
   "source": [
    "nums1 = [0]\n",
    "nums2 = [1]\n",
    "n = 1"
   ]
  },
  {
   "cell_type": "code",
   "execution_count": 15,
   "id": "f1e91f42",
   "metadata": {},
   "outputs": [],
   "source": [
    "nums1[:n] = nums2[:n]"
   ]
  },
  {
   "cell_type": "code",
   "execution_count": 17,
   "id": "8c211a7c",
   "metadata": {},
   "outputs": [
    {
     "data": {
      "text/plain": [
       "[1]"
      ]
     },
     "execution_count": 17,
     "metadata": {},
     "output_type": "execute_result"
    }
   ],
   "source": [
    "nums2"
   ]
  },
  {
   "cell_type": "code",
   "execution_count": null,
   "id": "58a854d8",
   "metadata": {},
   "outputs": [],
   "source": []
  }
 ],
 "metadata": {
  "kernelspec": {
   "display_name": "Python 3 (ipykernel)",
   "language": "python",
   "name": "python3"
  },
  "language_info": {
   "codemirror_mode": {
    "name": "ipython",
    "version": 3
   },
   "file_extension": ".py",
   "mimetype": "text/x-python",
   "name": "python",
   "nbconvert_exporter": "python",
   "pygments_lexer": "ipython3",
   "version": "3.9.12"
  }
 },
 "nbformat": 4,
 "nbformat_minor": 5
}
