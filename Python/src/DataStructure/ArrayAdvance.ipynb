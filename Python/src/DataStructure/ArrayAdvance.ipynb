{
 "cells": [
  {
   "cell_type": "code",
   "execution_count": 18,
   "id": "1cb0d6c7-1486-4d14-99e3-7b5042c0efaa",
   "metadata": {},
   "outputs": [],
   "source": [
    "def array_advance(A):\n",
    "    farthest_reach = 0\n",
    "    i = 0\n",
    "    last_index = len(A) - 1\n",
    "    \n",
    "    while i <= farthest_reach and farthest_reach < last_index:\n",
    "        farthest_reach = max(farthest_reach, A[i] + i)\n",
    "        i += 1\n",
    "    \n",
    "    return farthest_reach >= last_index\n"
   ]
  },
  {
   "cell_type": "code",
   "execution_count": 24,
   "id": "2b29eac6-d78e-424b-a17d-4a5d6358ec87",
   "metadata": {},
   "outputs": [],
   "source": [
    "A = [3,1,0,0,2,0,1]"
   ]
  },
  {
   "cell_type": "code",
   "execution_count": 25,
   "id": "e9534bb0-c909-49f6-ad45-45e394d264fa",
   "metadata": {},
   "outputs": [
    {
     "data": {
      "text/plain": [
       "False"
      ]
     },
     "execution_count": 25,
     "metadata": {},
     "output_type": "execute_result"
    }
   ],
   "source": [
    "array_advance(A)"
   ]
  },
  {
   "cell_type": "code",
   "execution_count": 33,
   "id": "850fe072-7dd8-4153-ac74-64e921e2254a",
   "metadata": {},
   "outputs": [],
   "source": [
    "def plus_one(A):\n",
    "    A[-1] += 1\n",
    "    for i in reversed(range(1, len(A))):\n",
    "        if A[i] != 10:\n",
    "            break\n",
    "        \n",
    "        A[i] = 0\n",
    "        A[i-1] += 1\n",
    "        \n",
    "        if A[0] == 10:\n",
    "            A[0] = 1\n",
    "            A.append(0)\n",
    "    return A"
   ]
  },
  {
   "cell_type": "code",
   "execution_count": 36,
   "id": "fce0d605-d662-468f-9fc7-09f3e11cb1ef",
   "metadata": {},
   "outputs": [],
   "source": [
    "A1 = [9,9,9]"
   ]
  },
  {
   "cell_type": "code",
   "execution_count": 37,
   "id": "be33e191-7e70-47c2-b6bc-71cb656b459c",
   "metadata": {},
   "outputs": [
    {
     "data": {
      "text/plain": [
       "[1, 0, 0, 0]"
      ]
     },
     "execution_count": 37,
     "metadata": {},
     "output_type": "execute_result"
    }
   ],
   "source": [
    "plus_one(A1)"
   ]
  },
  {
   "cell_type": "markdown",
   "id": "f8b7d40f-1da2-482a-8fce-b1c64daad5f8",
   "metadata": {},
   "source": [
    "--- Ex A = [-2,1,2,4,7,11]"
   ]
  },
  {
   "cell_type": "code",
   "execution_count": 59,
   "id": "b8cf5a21-f4ac-4a84-9062-ac4000f50bb1",
   "metadata": {},
   "outputs": [],
   "source": [
    "# has time complexity O(n^2) cause of twice loop\n",
    "# space complexity O(1)\n",
    "def sum_two_met1(A, target): \n",
    "    for i in range(len(A)-1):\n",
    "        for j in range(i+1, len(A)):\n",
    "            if A[i] + A[j] == target:\n",
    "                print(A[i], A[j])\n",
    "                return True\n",
    "    return False\n",
    "            "
   ]
  },
  {
   "cell_type": "code",
   "execution_count": 63,
   "id": "3508ba0c-4cc2-4bce-bcde-69164c0351df",
   "metadata": {},
   "outputs": [],
   "source": [
    "A = [-2,1,2,4,7,11]"
   ]
  },
  {
   "cell_type": "code",
   "execution_count": 51,
   "id": "3f32305b-24a3-4835-abc2-6e0cad6f8e9a",
   "metadata": {},
   "outputs": [
    {
     "data": {
      "text/plain": [
       "False"
      ]
     },
     "execution_count": 51,
     "metadata": {},
     "output_type": "execute_result"
    }
   ],
   "source": [
    "sum_two_met1(A, 20)"
   ]
  },
  {
   "cell_type": "code",
   "execution_count": 60,
   "id": "74790409-1647-4aa4-a09b-26ac1609d604",
   "metadata": {},
   "outputs": [],
   "source": [
    "# has time complexity O(n) cause of twice loop\n",
    "# space complexity O(n)\n",
    "def sum_two_met2(A, target):\n",
    "    ht = dict()\n",
    "    for i in range(len(A)):\n",
    "        if A[i] in ht:\n",
    "            print(ht[A[i]], A[i])\n",
    "            return True\n",
    "        else:\n",
    "            ht[target - A[i]] = A[i]\n",
    "    return False\n",
    "        "
   ]
  },
  {
   "cell_type": "code",
   "execution_count": 58,
   "id": "ca8ab2f8-3026-4317-b832-072fa82f5ad3",
   "metadata": {},
   "outputs": [
    {
     "data": {
      "text/plain": [
       "False"
      ]
     },
     "execution_count": 58,
     "metadata": {},
     "output_type": "execute_result"
    }
   ],
   "source": [
    "sum_two_met2(A, 20)"
   ]
  },
  {
   "cell_type": "code",
   "execution_count": 62,
   "id": "63ee1544-f1e2-45e0-a185-25dfb7391639",
   "metadata": {},
   "outputs": [],
   "source": [
    "# has time complexity O(n^2) cause of twice loop\n",
    "# space complexity O(1)\n",
    "def sum_two_met3(A,target):\n",
    "    i = 0\n",
    "    j = len(A) - 1\n",
    "    while i <= j:\n",
    "        if A[i] + A[j] == target:\n",
    "            print(A[i], A[j])\n",
    "            return True\n",
    "        elif A[i] + A[j] < target:\n",
    "            i += 1\n",
    "        else:\n",
    "            j -= 1\n",
    "    return False"
   ]
  },
  {
   "cell_type": "code",
   "execution_count": 65,
   "id": "0127ee8d-6109-4125-a606-6904426f69e0",
   "metadata": {},
   "outputs": [
    {
     "data": {
      "text/plain": [
       "False"
      ]
     },
     "execution_count": 65,
     "metadata": {},
     "output_type": "execute_result"
    }
   ],
   "source": [
    "sum_two_met3(A, 20)"
   ]
  },
  {
   "cell_type": "code",
   "execution_count": 66,
   "id": "a4053507-85b9-43c9-b535-1e182ba8a61a",
   "metadata": {},
   "outputs": [],
   "source": [
    "def buy_and_sell(A):\n",
    "    max_profit = 0.0\n",
    "    min_price = A[0]\n",
    "    \n",
    "    for price in A:\n",
    "        min_price = min(min_price, price)\n",
    "        \n",
    "        compare_profit = price - min_price\n",
    "        max_profit = max(max_profit, compare_profit)\n",
    "        \n",
    "    return max_profit"
   ]
  },
  {
   "cell_type": "code",
   "execution_count": 67,
   "id": "c5a66179-c90a-42f2-b02d-c72c102f627f",
   "metadata": {},
   "outputs": [],
   "source": [
    "A=[310, 315, 275, 295, 260, 270, 290, 230, 255, 250]"
   ]
  },
  {
   "cell_type": "code",
   "execution_count": 68,
   "id": "b363a7e2-af34-43f9-b04e-5f93f6f65655",
   "metadata": {},
   "outputs": [
    {
     "data": {
      "text/plain": [
       "30"
      ]
     },
     "execution_count": 68,
     "metadata": {},
     "output_type": "execute_result"
    }
   ],
   "source": [
    "buy_and_sell(A)"
   ]
  },
  {
   "cell_type": "code",
   "execution_count": null,
   "id": "efceda89-ae7d-4d4b-bf86-0581cf34e4e8",
   "metadata": {},
   "outputs": [],
   "source": []
  }
 ],
 "metadata": {
  "kernelspec": {
   "display_name": "Python 3 (ipykernel)",
   "language": "python",
   "name": "python3"
  },
  "language_info": {
   "codemirror_mode": {
    "name": "ipython",
    "version": 3
   },
   "file_extension": ".py",
   "mimetype": "text/x-python",
   "name": "python",
   "nbconvert_exporter": "python",
   "pygments_lexer": "ipython3",
   "version": "3.9.12"
  }
 },
 "nbformat": 4,
 "nbformat_minor": 5
}
