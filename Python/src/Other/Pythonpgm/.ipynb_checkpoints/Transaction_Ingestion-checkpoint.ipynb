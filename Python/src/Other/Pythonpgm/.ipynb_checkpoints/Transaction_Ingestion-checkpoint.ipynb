{
 "cells": [
  {
   "cell_type": "markdown",
   "id": "db8f2c85-e93d-49ee-b26e-5a1c852135e2",
   "metadata": {},
   "source": [
    "**DESC: This module is for ingesting Transaction data from \"transactions.jason\" file to staging table edw.transaction_stg in MYSQL**"
   ]
  },
  {
   "cell_type": "code",
   "execution_count": 29,
   "id": "876b08d6-cb9d-4ca6-8b8b-037427b96125",
   "metadata": {},
   "outputs": [],
   "source": [
    "#Create connection with MYSQL\n",
    "import mysql.connector\n",
    "from mysql.connector import errorcode\n",
    "\n",
    "#import jason library\n",
    "import json\n",
    "\n",
    "#import pandas library for working with dataframes\n",
    "import pandas as pd\n",
    "\n",
    "#import datetime module for dates manipulation\n",
    "from datetime import datetime"
   ]
  },
  {
   "cell_type": "code",
   "execution_count": 39,
   "id": "98ef9fb3-2eaa-4dc0-ad2f-03013444e99a",
   "metadata": {},
   "outputs": [],
   "source": [
    "def get_config():\n",
    "    config = {}\n",
    "    jfile = open('config.json')\n",
    "    config = json.load(jfile)\n",
    "    \n",
    "    return config"
   ]
  },
  {
   "cell_type": "code",
   "execution_count": 40,
   "id": "e41c0ea4-7749-4963-9b1a-093eedb1d9e5",
   "metadata": {},
   "outputs": [],
   "source": [
    "def setup_connection(config):\n",
    "    '''\n",
    "        This function is to set up connection with MYSQL 'edw' database.\n",
    "        And define a cursor for records processing.\n",
    "    '''\n",
    "\n",
    "    try:\n",
    "        cnx = mysql.connector.connect(**config)\n",
    "        \n",
    "    except mysql.connector.Error as err:\n",
    "        if err.errno == errorcode.ER_ACCESS_DENIED_ERROR:\n",
    "                print('**ERR: Invalid id or password**')\n",
    "        elif err.errno == errorcode.ER_BAD_DB_ERROR:\n",
    "                print(err.errno)\n",
    "                print('**ERR: Wrong dbname or db does not exists**')\n",
    "        else:\n",
    "                print(err)\n",
    "    else:\n",
    "            print('**MSG: Connection to db successful**')\n",
    "            cursor = cnx.cursor()\n",
    "            return cnx, cursor"
   ]
  },
  {
   "cell_type": "code",
   "execution_count": 31,
   "id": "aa8b4d8d-6cfe-49af-97d0-3d6450b6c969",
   "metadata": {},
   "outputs": [],
   "source": [
    "def get_jasondata():\n",
    "    '''\n",
    "        This function is to read the transaction jason file\n",
    "    '''\n",
    "    jfile = open('transactions.json')\n",
    "    jdata = json.load(jfile)\n",
    "    \n",
    "    # print(list(jdata2)[0:10])\n",
    "    print('**MSG: Total Transactions: ', len(jdata))\n",
    "    return jdata"
   ]
  },
  {
   "cell_type": "code",
   "execution_count": 32,
   "id": "67559d46-8d56-4cc3-a1fc-8a2c438c8fd8",
   "metadata": {},
   "outputs": [],
   "source": [
    "def insert_trans(jdata, cnx, cursor):\n",
    "    '''\n",
    "        Set up iterator for all the key values in Transaction jason data and insert those to edw.transaction_stg table\n",
    "    '''\n",
    " \n",
    "    print('**MSG: Inserting data to transaction_stg**')\n",
    "    \n",
    "    # count total rows inserted\n",
    "    rcnt = 0          \n",
    "    \n",
    "    add_tran = (\"INSERT INTO `edw`.`transaction_stg` \"\n",
    "                   \"(`tranid`, `customer_email`, `order_date`, `line_num`, `product`, `quantity`, `color`, `item_size`, `total_price`)\"\n",
    "                   \"VALUES (%(tranid)s, %(customer_email)s, %(order_date)s, %(line_num)s, %(product)s, %(quantity)s, %(color)s, %(item_size)s, %(total_price)s)\"\n",
    "                )\n",
    "\n",
    "    cn = 0\n",
    "    for i in jdata:\n",
    "        cn = 1\n",
    "        for j in jdata[i]['line_items']:\n",
    "            try:\n",
    "                data_tran = {\"tranid\": i, \"customer_email\": jdata[i]['customer_email'], \"order_date\": jdata[i]['order_date'],\n",
    "                             \"line_num\": cn, \"product\": j, \"quantity\": jdata[i]['line_items'][j]['quantity'], \n",
    "                             \"color\": jdata[i]['line_items'][j]['color'], \"item_size\": jdata[i]['line_items'][j]['item_size'], \n",
    "                             \"total_price\": jdata[i]['line_items'][j]['total_price']\n",
    "                            }\n",
    "                cursor.execute(add_tran, data_tran)\n",
    "                rcnt = rcnt + 1\n",
    "            except mysql.connector.Error as err:\n",
    "                print(err)\n",
    "            else: \n",
    "                cn = cn + 1\n",
    "                \n",
    "    print('**MSG: Total Rows inserted to transaction_stg: ', rcnt)"
   ]
  },
  {
   "cell_type": "code",
   "execution_count": 41,
   "id": "6288338c-cb28-4555-8ad7-d63718ad7354",
   "metadata": {},
   "outputs": [],
   "source": [
    "config = get_config()"
   ]
  },
  {
   "cell_type": "code",
   "execution_count": 33,
   "id": "c848d7d2-97ea-4422-ace5-93850bccace4",
   "metadata": {},
   "outputs": [
    {
     "name": "stdout",
     "output_type": "stream",
     "text": [
      "**MSG: Connection to db successful**\n",
      "**MSG: Total Transactions:  27545\n",
      "**MSG: Inserting data to transaction_stg**\n",
      "**MSG: Total Rows inserted to transaction_stg:  68173\n"
     ]
    }
   ],
   "source": [
    "cnx, cursor = setup_connection(config)\n",
    "jdata = get_jasondata()\n",
    "insert_trans(jdata, cnx, cursor)"
   ]
  },
  {
   "cell_type": "code",
   "execution_count": 36,
   "id": "44d4d948-1a0a-425d-8ed7-6b1e1eebcc74",
   "metadata": {},
   "outputs": [
    {
     "ename": "MySQLInterfaceError",
     "evalue": "MySQL server has gone away",
     "output_type": "error",
     "traceback": [
      "\u001b[1;31m---------------------------------------------------------------------------\u001b[0m",
      "\u001b[1;31mMySQLInterfaceError\u001b[0m                       Traceback (most recent call last)",
      "\u001b[1;32m<ipython-input-36-7c5ea47d398c>\u001b[0m in \u001b[0;36m<module>\u001b[1;34m\u001b[0m\n\u001b[1;32m----> 1\u001b[1;33m \u001b[0mcnx\u001b[0m\u001b[1;33m.\u001b[0m\u001b[0mcommit\u001b[0m\u001b[1;33m(\u001b[0m\u001b[1;33m)\u001b[0m\u001b[1;33m\u001b[0m\u001b[1;33m\u001b[0m\u001b[0m\n\u001b[0m\u001b[0;32m      2\u001b[0m \u001b[0mcursor\u001b[0m\u001b[1;33m.\u001b[0m\u001b[0mclose\u001b[0m\u001b[1;33m(\u001b[0m\u001b[1;33m)\u001b[0m\u001b[1;33m\u001b[0m\u001b[1;33m\u001b[0m\u001b[0m\n\u001b[0;32m      3\u001b[0m \u001b[0mcnx\u001b[0m\u001b[1;33m.\u001b[0m\u001b[0mclose\u001b[0m\u001b[1;33m(\u001b[0m\u001b[1;33m)\u001b[0m\u001b[1;33m\u001b[0m\u001b[1;33m\u001b[0m\u001b[0m\n",
      "\u001b[1;32m~\\Anaconda3\\lib\\site-packages\\mysql\\connector\\connection_cext.py\u001b[0m in \u001b[0;36mcommit\u001b[1;34m(self)\u001b[0m\n\u001b[0;32m    411\u001b[0m         \u001b[1;34m\"\"\"Commit current transaction\"\"\"\u001b[0m\u001b[1;33m\u001b[0m\u001b[1;33m\u001b[0m\u001b[0m\n\u001b[0;32m    412\u001b[0m         \u001b[1;32mif\u001b[0m \u001b[0mself\u001b[0m\u001b[1;33m.\u001b[0m\u001b[0m_cmysql\u001b[0m\u001b[1;33m:\u001b[0m\u001b[1;33m\u001b[0m\u001b[1;33m\u001b[0m\u001b[0m\n\u001b[1;32m--> 413\u001b[1;33m             \u001b[0mself\u001b[0m\u001b[1;33m.\u001b[0m\u001b[0m_cmysql\u001b[0m\u001b[1;33m.\u001b[0m\u001b[0mcommit\u001b[0m\u001b[1;33m(\u001b[0m\u001b[1;33m)\u001b[0m\u001b[1;33m\u001b[0m\u001b[1;33m\u001b[0m\u001b[0m\n\u001b[0m\u001b[0;32m    414\u001b[0m \u001b[1;33m\u001b[0m\u001b[0m\n\u001b[0;32m    415\u001b[0m     \u001b[1;32mdef\u001b[0m \u001b[0mrollback\u001b[0m\u001b[1;33m(\u001b[0m\u001b[0mself\u001b[0m\u001b[1;33m)\u001b[0m\u001b[1;33m:\u001b[0m\u001b[1;33m\u001b[0m\u001b[1;33m\u001b[0m\u001b[0m\n",
      "\u001b[1;31mMySQLInterfaceError\u001b[0m: MySQL server has gone away"
     ]
    }
   ],
   "source": [
    "cnx.commit()\n",
    "cursor.close()\n",
    "cnx.close()"
   ]
  },
  {
   "cell_type": "code",
   "execution_count": 38,
   "id": "c323b45a-db81-47df-8c04-b51119e11829",
   "metadata": {},
   "outputs": [],
   "source": [
    "cursor.close()\n",
    "cnx.close()"
   ]
  },
  {
   "cell_type": "code",
   "execution_count": null,
   "id": "4e85efb0-2938-4eec-8fc9-80b39fa93a91",
   "metadata": {},
   "outputs": [],
   "source": []
  }
 ],
 "metadata": {
  "kernelspec": {
   "display_name": "Python 3",
   "language": "python",
   "name": "python3"
  },
  "language_info": {
   "codemirror_mode": {
    "name": "ipython",
    "version": 3
   },
   "file_extension": ".py",
   "mimetype": "text/x-python",
   "name": "python",
   "nbconvert_exporter": "python",
   "pygments_lexer": "ipython3",
   "version": "3.8.8"
  }
 },
 "nbformat": 4,
 "nbformat_minor": 5
}
