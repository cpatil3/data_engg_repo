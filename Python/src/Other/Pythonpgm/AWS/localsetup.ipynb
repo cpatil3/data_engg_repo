{
 "cells": [
  {
   "cell_type": "markdown",
   "id": "a057750f-eea3-44b8-845c-21b455d6023e",
   "metadata": {},
   "source": [
    "**SETUP THE LOCAL TO CONNECT WITH AWS AND RUN BASIC COMMANDS**"
   ]
  },
  {
   "cell_type": "code",
   "execution_count": 14,
   "id": "bd5a461f-0c64-4d84-9239-902e29eca82a",
   "metadata": {},
   "outputs": [],
   "source": [
    "import boto3\n",
    "import json\n",
    "import pandas\n",
    "import os\n",
    "import sys"
   ]
  },
  {
   "cell_type": "code",
   "execution_count": 15,
   "id": "82726b16-6f31-4c55-bd24-7ecfe3d11e62",
   "metadata": {},
   "outputs": [],
   "source": [
    "#define s3 as AWS S3 object\n",
    "s3 = boto3.resource('s3')"
   ]
  },
  {
   "cell_type": "code",
   "execution_count": 16,
   "id": "a79c523d-80b9-4b91-9901-063036cb840a",
   "metadata": {},
   "outputs": [
    {
     "name": "stdout",
     "output_type": "stream",
     "text": [
      "s3.Bucket(name='cp3-youtube-raw-data-dev')\n",
      "cp3-youtube-raw-data-dev\n"
     ]
    }
   ],
   "source": [
    "for bucket in s3.buckets.all():\n",
    "    print(bucket)\n",
    "    print(bucket.name)"
   ]
  },
  {
   "cell_type": "code",
   "execution_count": 12,
   "id": "66ef0b27-cdb1-41a0-9f45-7b135e222d04",
   "metadata": {},
   "outputs": [],
   "source": [
    "BucketName = \"cp3-youtube-raw-data-dev\""
   ]
  },
  {
   "cell_type": "code",
   "execution_count": 13,
   "id": "43200a73-a225-4ba9-9a96-9cf510ddf934",
   "metadata": {},
   "outputs": [],
   "source": [
    "s3.Bucket(BucketName).upload_file(\"C:/Users/cpatil3/OneDrive - Capgemini/Capg Lap/Learning/Project/datasets/youtube_data/CAvideos.csv\", \"youtube/raw-statistics/region=ca/CAvideos.csv\")"
   ]
  },
  {
   "cell_type": "markdown",
   "id": "9db93a1e-1c6d-4ff3-9d17-7b636783f145",
   "metadata": {},
   "source": [
    "**Upload all the files under a directory**"
   ]
  },
  {
   "cell_type": "code",
   "execution_count": 18,
   "id": "754c50c8-07ba-4770-ba60-63dc383a50a7",
   "metadata": {},
   "outputs": [],
   "source": [
    "client = boto3.client('s3')\n",
    "local_path = \"C:/Users/cpatil3/OneDrive - Capgemini/Capg Lap/Learning/Project/datasets/youtube_data\"\n",
    "bucketname = \"cp3-youtube-raw-data-dev\""
   ]
  },
  {
   "cell_type": "code",
   "execution_count": 23,
   "id": "16de6e23-c83c-4469-a848-177323733a6c",
   "metadata": {},
   "outputs": [
    {
     "name": "stdout",
     "output_type": "stream",
     "text": [
      "Upload: C:/Users/cpatil3/OneDrive - Capgemini/Capg Lap/Learning/Project/datasets/youtube_data\\CA_category_id.json to target: youtube/raw-statistics-reference-data/CA_category_id.jsonUpload: C:/Users/cpatil3/OneDrive - Capgemini/Capg Lap/Learning/Project/datasets/youtube_data\\DE_category_id.json to target: youtube/raw-statistics-reference-data/DE_category_id.jsonUpload: C:/Users/cpatil3/OneDrive - Capgemini/Capg Lap/Learning/Project/datasets/youtube_data\\FR_category_id.json to target: youtube/raw-statistics-reference-data/FR_category_id.jsonUpload: C:/Users/cpatil3/OneDrive - Capgemini/Capg Lap/Learning/Project/datasets/youtube_data\\GB_category_id.json to target: youtube/raw-statistics-reference-data/GB_category_id.jsonUpload: C:/Users/cpatil3/OneDrive - Capgemini/Capg Lap/Learning/Project/datasets/youtube_data\\IN_category_id.json to target: youtube/raw-statistics-reference-data/IN_category_id.jsonUpload: C:/Users/cpatil3/OneDrive - Capgemini/Capg Lap/Learning/Project/datasets/youtube_data\\JP_category_id.json to target: youtube/raw-statistics-reference-data/JP_category_id.jsonUpload: C:/Users/cpatil3/OneDrive - Capgemini/Capg Lap/Learning/Project/datasets/youtube_data\\KR_category_id.json to target: youtube/raw-statistics-reference-data/KR_category_id.jsonUpload: C:/Users/cpatil3/OneDrive - Capgemini/Capg Lap/Learning/Project/datasets/youtube_data\\MX_category_id.json to target: youtube/raw-statistics-reference-data/MX_category_id.jsonUpload: C:/Users/cpatil3/OneDrive - Capgemini/Capg Lap/Learning/Project/datasets/youtube_data\\RU_category_id.json to target: youtube/raw-statistics-reference-data/RU_category_id.jsonUpload: C:/Users/cpatil3/OneDrive - Capgemini/Capg Lap/Learning/Project/datasets/youtube_data\\US_category_id.json to target: youtube/raw-statistics-reference-data/US_category_id.json"
     ]
    }
   ],
   "source": [
    "for path, dirs, files in os.walk(local_path):\n",
    "    for file in files:\n",
    "        if file.endswith('.json'):\n",
    "            file_s3 = (\"youtube/raw-statistics-reference-data/\" + file)\n",
    "            file_local = os.path.join(path, file)\n",
    "            print(\"Upload:\", file_local, \"to target:\", file_s3, end=\"\")\n",
    "            s3.Bucket(bucketname).upload_file(file_local,file_s3)"
   ]
  },
  {
   "cell_type": "code",
   "execution_count": 21,
   "id": "1bafec81-ebb4-4b94-9aec-d93d7aa1d1df",
   "metadata": {},
   "outputs": [],
   "source": [
    "flname = \"test.json\""
   ]
  },
  {
   "cell_type": "code",
   "execution_count": 22,
   "id": "c5561aff-f937-437f-a949-ee47b0af8af5",
   "metadata": {},
   "outputs": [
    {
     "name": "stdout",
     "output_type": "stream",
     "text": [
      "json\n"
     ]
    }
   ],
   "source": [
    "if flname.endswith('.json'):\n",
    "    print('json')\n",
    "else:\n",
    "    print(txt)"
   ]
  },
  {
   "cell_type": "code",
   "execution_count": null,
   "id": "8d4a5721-45e2-4797-89f9-0222eb88c184",
   "metadata": {},
   "outputs": [],
   "source": []
  },
  {
   "cell_type": "code",
   "execution_count": null,
   "id": "3c60ae9f-c732-44a0-a10d-a0c3ed24eb6b",
   "metadata": {},
   "outputs": [],
   "source": []
  }
 ],
 "metadata": {
  "kernelspec": {
   "display_name": "Python 3 (ipykernel)",
   "language": "python",
   "name": "python3"
  },
  "language_info": {
   "codemirror_mode": {
    "name": "ipython",
    "version": 3
   },
   "file_extension": ".py",
   "mimetype": "text/x-python",
   "name": "python",
   "nbconvert_exporter": "python",
   "pygments_lexer": "ipython3",
   "version": "3.9.12"
  }
 },
 "nbformat": 4,
 "nbformat_minor": 5
}
